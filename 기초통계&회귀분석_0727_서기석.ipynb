{
  "cells": [
    {
      "cell_type": "markdown",
      "metadata": {
        "id": "view-in-github",
        "colab_type": "text"
      },
      "source": [
        "<a href=\"https://colab.research.google.com/github/suhvin/ybigta-edu/blob/master/%E1%84%80%E1%85%B5%E1%84%8E%E1%85%A9%E1%84%90%E1%85%A9%E1%86%BC%E1%84%80%E1%85%A8%26%E1%84%92%E1%85%AC%E1%84%80%E1%85%B1%E1%84%87%E1%85%AE%E1%86%AB%E1%84%89%E1%85%A5%E1%86%A8_0727_%EC%84%9C%EA%B8%B0%EC%84%9D.ipynb\" target=\"_parent\"><img src=\"https://colab.research.google.com/assets/colab-badge.svg\" alt=\"Open In Colab\"/></a>"
      ]
    },
    {
      "cell_type": "markdown",
      "id": "d5fec178",
      "metadata": {
        "id": "d5fec178"
      },
      "source": [
        "60점만점에 40점 이상시 통과입니다~"
      ]
    },
    {
      "cell_type": "markdown",
      "id": "ef3e4e0b",
      "metadata": {
        "id": "ef3e4e0b"
      },
      "source": [
        "## Q1. 통계분석 (50점)\n",
        "\n",
        "아래의 df는 타이타닉 데이터셋에서 추출된 표본이다. 적절한 전처리를 한 뒤 통계분석을 수행하시오.\n",
        "\n",
        "### 신뢰구간 (25점)\n",
        "\n",
        "Age 변수의 분포를 시각화하고, 분포를 묘사하시오. (10점)\n",
        "\n",
        "    - 중앙 (3점)\n",
        "    - 분산 (3점)\n",
        "    - 모양과 이상치 유무 (4점)\n",
        "    \n",
        "    \n",
        "표본의 평균 나이로 95% 신뢰구간을 구축하시오. (15점)\n",
        "\n",
        "    - 신뢰구간 선정 (5점)\n",
        "    - 구간 계산 (5점)\n",
        "    - 구간 해석 (5점)\n",
        "    \n",
        "### 가설검정 (25점)\n",
        "\n",
        "살아남은 사람들의 평균 나이와 그렇지 못한 사람들의 평균 나이에 차이가 있습니까?\n",
        "\n",
        "    - 가설 (5점)\n",
        "    - 검정 선택 후 가정 확인 (10점)\n",
        "    - 통계량 계산 (5점)\n",
        "    - 결과 해석 (5점)\n",
        "\n",
        "주의! 세션에서는 단일표본 t 검정을 했지만, 여기엔 모집단이 두개입니다!\n",
        "\n",
        "\n",
        "<details>\n",
        "    <summary>힌트는 <font color=\"red\"><b>여기를 클릭</b></font></summary>\n",
        "  \n",
        "  만약 직접 t 통계량을 계산하기 까다롭다면, scipy.stats.ttest_ind_from_stats를 사용해 봅시다.\n",
        "    \n",
        "  scipy.stats.ttest_ind_from_stats(mean1, std1, nobs1, mean2, std2, nobs2, equal_var=True, alternative='two-sided')\n",
        "</details>"
      ]
    },
    {
      "cell_type": "code",
      "source": [
        "from google.colab import drive\n",
        "drive.mount('/content/drive')"
      ],
      "metadata": {
        "colab": {
          "base_uri": "https://localhost:8080/"
        },
        "id": "U4BDIJOxZu2s",
        "outputId": "c703cc41-6107-4d8f-e61b-99527fb9ee78"
      },
      "id": "U4BDIJOxZu2s",
      "execution_count": 1,
      "outputs": [
        {
          "output_type": "stream",
          "name": "stdout",
          "text": [
            "Mounted at /content/drive\n"
          ]
        }
      ]
    },
    {
      "cell_type": "code",
      "source": [
        "import pandas as pd\n",
        "from scipy import stats\n",
        "import matplotlib.pyplot as plt\n",
        "import numpy as np"
      ],
      "metadata": {
        "id": "tGEU_hsaG0cN"
      },
      "id": "tGEU_hsaG0cN",
      "execution_count": 21,
      "outputs": []
    },
    {
      "cell_type": "code",
      "execution_count": 2,
      "id": "b96277aa",
      "metadata": {
        "id": "b96277aa",
        "colab": {
          "base_uri": "https://localhost:8080/",
          "height": 302
        },
        "outputId": "b0eb76eb-6405-4b77-cc48-ae5d0f260c04"
      },
      "outputs": [
        {
          "output_type": "execute_result",
          "data": {
            "text/plain": [
              "     PassengerId  Survived  Pclass  \\\n",
              "862          863         1       1   \n",
              "223          224         0       3   \n",
              "84            85         1       2   \n",
              "680          681         0       3   \n",
              "535          536         1       2   \n",
              "\n",
              "                                                  Name     Sex   Age  SibSp  \\\n",
              "862  Swift, Mrs. Frederick Joel (Margaret Welles Ba...  female  48.0      0   \n",
              "223                               Nenkoff, Mr. Christo    male   NaN      0   \n",
              "84                                 Ilett, Miss. Bertha  female  17.0      0   \n",
              "680                                Peters, Miss. Katie  female   NaN      0   \n",
              "535                             Hart, Miss. Eva Miriam  female   7.0      0   \n",
              "\n",
              "     Parch        Ticket     Fare Cabin Embarked  \n",
              "862      0         17466  25.9292   D17        S  \n",
              "223      0        349234   7.8958   NaN        S  \n",
              "84       0    SO/C 14885  10.5000   NaN        S  \n",
              "680      0        330935   8.1375   NaN        Q  \n",
              "535      2  F.C.C. 13529  26.2500   NaN        S  "
            ],
            "text/html": [
              "\n",
              "  <div id=\"df-67cf986a-2596-4080-8bdf-7e963c6f740e\">\n",
              "    <div class=\"colab-df-container\">\n",
              "      <div>\n",
              "<style scoped>\n",
              "    .dataframe tbody tr th:only-of-type {\n",
              "        vertical-align: middle;\n",
              "    }\n",
              "\n",
              "    .dataframe tbody tr th {\n",
              "        vertical-align: top;\n",
              "    }\n",
              "\n",
              "    .dataframe thead th {\n",
              "        text-align: right;\n",
              "    }\n",
              "</style>\n",
              "<table border=\"1\" class=\"dataframe\">\n",
              "  <thead>\n",
              "    <tr style=\"text-align: right;\">\n",
              "      <th></th>\n",
              "      <th>PassengerId</th>\n",
              "      <th>Survived</th>\n",
              "      <th>Pclass</th>\n",
              "      <th>Name</th>\n",
              "      <th>Sex</th>\n",
              "      <th>Age</th>\n",
              "      <th>SibSp</th>\n",
              "      <th>Parch</th>\n",
              "      <th>Ticket</th>\n",
              "      <th>Fare</th>\n",
              "      <th>Cabin</th>\n",
              "      <th>Embarked</th>\n",
              "    </tr>\n",
              "  </thead>\n",
              "  <tbody>\n",
              "    <tr>\n",
              "      <th>862</th>\n",
              "      <td>863</td>\n",
              "      <td>1</td>\n",
              "      <td>1</td>\n",
              "      <td>Swift, Mrs. Frederick Joel (Margaret Welles Ba...</td>\n",
              "      <td>female</td>\n",
              "      <td>48.0</td>\n",
              "      <td>0</td>\n",
              "      <td>0</td>\n",
              "      <td>17466</td>\n",
              "      <td>25.9292</td>\n",
              "      <td>D17</td>\n",
              "      <td>S</td>\n",
              "    </tr>\n",
              "    <tr>\n",
              "      <th>223</th>\n",
              "      <td>224</td>\n",
              "      <td>0</td>\n",
              "      <td>3</td>\n",
              "      <td>Nenkoff, Mr. Christo</td>\n",
              "      <td>male</td>\n",
              "      <td>NaN</td>\n",
              "      <td>0</td>\n",
              "      <td>0</td>\n",
              "      <td>349234</td>\n",
              "      <td>7.8958</td>\n",
              "      <td>NaN</td>\n",
              "      <td>S</td>\n",
              "    </tr>\n",
              "    <tr>\n",
              "      <th>84</th>\n",
              "      <td>85</td>\n",
              "      <td>1</td>\n",
              "      <td>2</td>\n",
              "      <td>Ilett, Miss. Bertha</td>\n",
              "      <td>female</td>\n",
              "      <td>17.0</td>\n",
              "      <td>0</td>\n",
              "      <td>0</td>\n",
              "      <td>SO/C 14885</td>\n",
              "      <td>10.5000</td>\n",
              "      <td>NaN</td>\n",
              "      <td>S</td>\n",
              "    </tr>\n",
              "    <tr>\n",
              "      <th>680</th>\n",
              "      <td>681</td>\n",
              "      <td>0</td>\n",
              "      <td>3</td>\n",
              "      <td>Peters, Miss. Katie</td>\n",
              "      <td>female</td>\n",
              "      <td>NaN</td>\n",
              "      <td>0</td>\n",
              "      <td>0</td>\n",
              "      <td>330935</td>\n",
              "      <td>8.1375</td>\n",
              "      <td>NaN</td>\n",
              "      <td>Q</td>\n",
              "    </tr>\n",
              "    <tr>\n",
              "      <th>535</th>\n",
              "      <td>536</td>\n",
              "      <td>1</td>\n",
              "      <td>2</td>\n",
              "      <td>Hart, Miss. Eva Miriam</td>\n",
              "      <td>female</td>\n",
              "      <td>7.0</td>\n",
              "      <td>0</td>\n",
              "      <td>2</td>\n",
              "      <td>F.C.C. 13529</td>\n",
              "      <td>26.2500</td>\n",
              "      <td>NaN</td>\n",
              "      <td>S</td>\n",
              "    </tr>\n",
              "  </tbody>\n",
              "</table>\n",
              "</div>\n",
              "      <button class=\"colab-df-convert\" onclick=\"convertToInteractive('df-67cf986a-2596-4080-8bdf-7e963c6f740e')\"\n",
              "              title=\"Convert this dataframe to an interactive table.\"\n",
              "              style=\"display:none;\">\n",
              "        \n",
              "  <svg xmlns=\"http://www.w3.org/2000/svg\" height=\"24px\"viewBox=\"0 0 24 24\"\n",
              "       width=\"24px\">\n",
              "    <path d=\"M0 0h24v24H0V0z\" fill=\"none\"/>\n",
              "    <path d=\"M18.56 5.44l.94 2.06.94-2.06 2.06-.94-2.06-.94-.94-2.06-.94 2.06-2.06.94zm-11 1L8.5 8.5l.94-2.06 2.06-.94-2.06-.94L8.5 2.5l-.94 2.06-2.06.94zm10 10l.94 2.06.94-2.06 2.06-.94-2.06-.94-.94-2.06-.94 2.06-2.06.94z\"/><path d=\"M17.41 7.96l-1.37-1.37c-.4-.4-.92-.59-1.43-.59-.52 0-1.04.2-1.43.59L10.3 9.45l-7.72 7.72c-.78.78-.78 2.05 0 2.83L4 21.41c.39.39.9.59 1.41.59.51 0 1.02-.2 1.41-.59l7.78-7.78 2.81-2.81c.8-.78.8-2.07 0-2.86zM5.41 20L4 18.59l7.72-7.72 1.47 1.35L5.41 20z\"/>\n",
              "  </svg>\n",
              "      </button>\n",
              "      \n",
              "  <style>\n",
              "    .colab-df-container {\n",
              "      display:flex;\n",
              "      flex-wrap:wrap;\n",
              "      gap: 12px;\n",
              "    }\n",
              "\n",
              "    .colab-df-convert {\n",
              "      background-color: #E8F0FE;\n",
              "      border: none;\n",
              "      border-radius: 50%;\n",
              "      cursor: pointer;\n",
              "      display: none;\n",
              "      fill: #1967D2;\n",
              "      height: 32px;\n",
              "      padding: 0 0 0 0;\n",
              "      width: 32px;\n",
              "    }\n",
              "\n",
              "    .colab-df-convert:hover {\n",
              "      background-color: #E2EBFA;\n",
              "      box-shadow: 0px 1px 2px rgba(60, 64, 67, 0.3), 0px 1px 3px 1px rgba(60, 64, 67, 0.15);\n",
              "      fill: #174EA6;\n",
              "    }\n",
              "\n",
              "    [theme=dark] .colab-df-convert {\n",
              "      background-color: #3B4455;\n",
              "      fill: #D2E3FC;\n",
              "    }\n",
              "\n",
              "    [theme=dark] .colab-df-convert:hover {\n",
              "      background-color: #434B5C;\n",
              "      box-shadow: 0px 1px 3px 1px rgba(0, 0, 0, 0.15);\n",
              "      filter: drop-shadow(0px 1px 2px rgba(0, 0, 0, 0.3));\n",
              "      fill: #FFFFFF;\n",
              "    }\n",
              "  </style>\n",
              "\n",
              "      <script>\n",
              "        const buttonEl =\n",
              "          document.querySelector('#df-67cf986a-2596-4080-8bdf-7e963c6f740e button.colab-df-convert');\n",
              "        buttonEl.style.display =\n",
              "          google.colab.kernel.accessAllowed ? 'block' : 'none';\n",
              "\n",
              "        async function convertToInteractive(key) {\n",
              "          const element = document.querySelector('#df-67cf986a-2596-4080-8bdf-7e963c6f740e');\n",
              "          const dataTable =\n",
              "            await google.colab.kernel.invokeFunction('convertToInteractive',\n",
              "                                                     [key], {});\n",
              "          if (!dataTable) return;\n",
              "\n",
              "          const docLinkHtml = 'Like what you see? Visit the ' +\n",
              "            '<a target=\"_blank\" href=https://colab.research.google.com/notebooks/data_table.ipynb>data table notebook</a>'\n",
              "            + ' to learn more about interactive tables.';\n",
              "          element.innerHTML = '';\n",
              "          dataTable['output_type'] = 'display_data';\n",
              "          await google.colab.output.renderOutput(dataTable, element);\n",
              "          const docLink = document.createElement('div');\n",
              "          docLink.innerHTML = docLinkHtml;\n",
              "          element.appendChild(docLink);\n",
              "        }\n",
              "      </script>\n",
              "    </div>\n",
              "  </div>\n",
              "  "
            ]
          },
          "metadata": {},
          "execution_count": 2
        }
      ],
      "source": [
        "df = pd.read_csv('/content/drive/MyDrive/와이빅타/교육세션/submit/ybigta-edu/0727/train.csv')\n",
        "df = df.sample(75, random_state=1)\n",
        "\n",
        "df.head()"
      ]
    },
    {
      "cell_type": "code",
      "source": [
        "df['Age'].fillna(df['Age'].mean(),inplace=True)\n",
        "df.head()"
      ],
      "metadata": {
        "colab": {
          "base_uri": "https://localhost:8080/",
          "height": 320
        },
        "id": "vLxEPVc_e1fj",
        "outputId": "b76bb339-13af-4383-9c7d-8a386d9001f7"
      },
      "id": "vLxEPVc_e1fj",
      "execution_count": 3,
      "outputs": [
        {
          "output_type": "execute_result",
          "data": {
            "text/plain": [
              "     PassengerId  Survived  Pclass  \\\n",
              "862          863         1       1   \n",
              "223          224         0       3   \n",
              "84            85         1       2   \n",
              "680          681         0       3   \n",
              "535          536         1       2   \n",
              "\n",
              "                                                  Name     Sex        Age  \\\n",
              "862  Swift, Mrs. Frederick Joel (Margaret Welles Ba...  female  48.000000   \n",
              "223                               Nenkoff, Mr. Christo    male  28.234375   \n",
              "84                                 Ilett, Miss. Bertha  female  17.000000   \n",
              "680                                Peters, Miss. Katie  female  28.234375   \n",
              "535                             Hart, Miss. Eva Miriam  female   7.000000   \n",
              "\n",
              "     SibSp  Parch        Ticket     Fare Cabin Embarked  \n",
              "862      0      0         17466  25.9292   D17        S  \n",
              "223      0      0        349234   7.8958   NaN        S  \n",
              "84       0      0    SO/C 14885  10.5000   NaN        S  \n",
              "680      0      0        330935   8.1375   NaN        Q  \n",
              "535      0      2  F.C.C. 13529  26.2500   NaN        S  "
            ],
            "text/html": [
              "\n",
              "  <div id=\"df-d9a2b883-243d-4f12-b39c-3b7701109595\">\n",
              "    <div class=\"colab-df-container\">\n",
              "      <div>\n",
              "<style scoped>\n",
              "    .dataframe tbody tr th:only-of-type {\n",
              "        vertical-align: middle;\n",
              "    }\n",
              "\n",
              "    .dataframe tbody tr th {\n",
              "        vertical-align: top;\n",
              "    }\n",
              "\n",
              "    .dataframe thead th {\n",
              "        text-align: right;\n",
              "    }\n",
              "</style>\n",
              "<table border=\"1\" class=\"dataframe\">\n",
              "  <thead>\n",
              "    <tr style=\"text-align: right;\">\n",
              "      <th></th>\n",
              "      <th>PassengerId</th>\n",
              "      <th>Survived</th>\n",
              "      <th>Pclass</th>\n",
              "      <th>Name</th>\n",
              "      <th>Sex</th>\n",
              "      <th>Age</th>\n",
              "      <th>SibSp</th>\n",
              "      <th>Parch</th>\n",
              "      <th>Ticket</th>\n",
              "      <th>Fare</th>\n",
              "      <th>Cabin</th>\n",
              "      <th>Embarked</th>\n",
              "    </tr>\n",
              "  </thead>\n",
              "  <tbody>\n",
              "    <tr>\n",
              "      <th>862</th>\n",
              "      <td>863</td>\n",
              "      <td>1</td>\n",
              "      <td>1</td>\n",
              "      <td>Swift, Mrs. Frederick Joel (Margaret Welles Ba...</td>\n",
              "      <td>female</td>\n",
              "      <td>48.000000</td>\n",
              "      <td>0</td>\n",
              "      <td>0</td>\n",
              "      <td>17466</td>\n",
              "      <td>25.9292</td>\n",
              "      <td>D17</td>\n",
              "      <td>S</td>\n",
              "    </tr>\n",
              "    <tr>\n",
              "      <th>223</th>\n",
              "      <td>224</td>\n",
              "      <td>0</td>\n",
              "      <td>3</td>\n",
              "      <td>Nenkoff, Mr. Christo</td>\n",
              "      <td>male</td>\n",
              "      <td>28.234375</td>\n",
              "      <td>0</td>\n",
              "      <td>0</td>\n",
              "      <td>349234</td>\n",
              "      <td>7.8958</td>\n",
              "      <td>NaN</td>\n",
              "      <td>S</td>\n",
              "    </tr>\n",
              "    <tr>\n",
              "      <th>84</th>\n",
              "      <td>85</td>\n",
              "      <td>1</td>\n",
              "      <td>2</td>\n",
              "      <td>Ilett, Miss. Bertha</td>\n",
              "      <td>female</td>\n",
              "      <td>17.000000</td>\n",
              "      <td>0</td>\n",
              "      <td>0</td>\n",
              "      <td>SO/C 14885</td>\n",
              "      <td>10.5000</td>\n",
              "      <td>NaN</td>\n",
              "      <td>S</td>\n",
              "    </tr>\n",
              "    <tr>\n",
              "      <th>680</th>\n",
              "      <td>681</td>\n",
              "      <td>0</td>\n",
              "      <td>3</td>\n",
              "      <td>Peters, Miss. Katie</td>\n",
              "      <td>female</td>\n",
              "      <td>28.234375</td>\n",
              "      <td>0</td>\n",
              "      <td>0</td>\n",
              "      <td>330935</td>\n",
              "      <td>8.1375</td>\n",
              "      <td>NaN</td>\n",
              "      <td>Q</td>\n",
              "    </tr>\n",
              "    <tr>\n",
              "      <th>535</th>\n",
              "      <td>536</td>\n",
              "      <td>1</td>\n",
              "      <td>2</td>\n",
              "      <td>Hart, Miss. Eva Miriam</td>\n",
              "      <td>female</td>\n",
              "      <td>7.000000</td>\n",
              "      <td>0</td>\n",
              "      <td>2</td>\n",
              "      <td>F.C.C. 13529</td>\n",
              "      <td>26.2500</td>\n",
              "      <td>NaN</td>\n",
              "      <td>S</td>\n",
              "    </tr>\n",
              "  </tbody>\n",
              "</table>\n",
              "</div>\n",
              "      <button class=\"colab-df-convert\" onclick=\"convertToInteractive('df-d9a2b883-243d-4f12-b39c-3b7701109595')\"\n",
              "              title=\"Convert this dataframe to an interactive table.\"\n",
              "              style=\"display:none;\">\n",
              "        \n",
              "  <svg xmlns=\"http://www.w3.org/2000/svg\" height=\"24px\"viewBox=\"0 0 24 24\"\n",
              "       width=\"24px\">\n",
              "    <path d=\"M0 0h24v24H0V0z\" fill=\"none\"/>\n",
              "    <path d=\"M18.56 5.44l.94 2.06.94-2.06 2.06-.94-2.06-.94-.94-2.06-.94 2.06-2.06.94zm-11 1L8.5 8.5l.94-2.06 2.06-.94-2.06-.94L8.5 2.5l-.94 2.06-2.06.94zm10 10l.94 2.06.94-2.06 2.06-.94-2.06-.94-.94-2.06-.94 2.06-2.06.94z\"/><path d=\"M17.41 7.96l-1.37-1.37c-.4-.4-.92-.59-1.43-.59-.52 0-1.04.2-1.43.59L10.3 9.45l-7.72 7.72c-.78.78-.78 2.05 0 2.83L4 21.41c.39.39.9.59 1.41.59.51 0 1.02-.2 1.41-.59l7.78-7.78 2.81-2.81c.8-.78.8-2.07 0-2.86zM5.41 20L4 18.59l7.72-7.72 1.47 1.35L5.41 20z\"/>\n",
              "  </svg>\n",
              "      </button>\n",
              "      \n",
              "  <style>\n",
              "    .colab-df-container {\n",
              "      display:flex;\n",
              "      flex-wrap:wrap;\n",
              "      gap: 12px;\n",
              "    }\n",
              "\n",
              "    .colab-df-convert {\n",
              "      background-color: #E8F0FE;\n",
              "      border: none;\n",
              "      border-radius: 50%;\n",
              "      cursor: pointer;\n",
              "      display: none;\n",
              "      fill: #1967D2;\n",
              "      height: 32px;\n",
              "      padding: 0 0 0 0;\n",
              "      width: 32px;\n",
              "    }\n",
              "\n",
              "    .colab-df-convert:hover {\n",
              "      background-color: #E2EBFA;\n",
              "      box-shadow: 0px 1px 2px rgba(60, 64, 67, 0.3), 0px 1px 3px 1px rgba(60, 64, 67, 0.15);\n",
              "      fill: #174EA6;\n",
              "    }\n",
              "\n",
              "    [theme=dark] .colab-df-convert {\n",
              "      background-color: #3B4455;\n",
              "      fill: #D2E3FC;\n",
              "    }\n",
              "\n",
              "    [theme=dark] .colab-df-convert:hover {\n",
              "      background-color: #434B5C;\n",
              "      box-shadow: 0px 1px 3px 1px rgba(0, 0, 0, 0.15);\n",
              "      filter: drop-shadow(0px 1px 2px rgba(0, 0, 0, 0.3));\n",
              "      fill: #FFFFFF;\n",
              "    }\n",
              "  </style>\n",
              "\n",
              "      <script>\n",
              "        const buttonEl =\n",
              "          document.querySelector('#df-d9a2b883-243d-4f12-b39c-3b7701109595 button.colab-df-convert');\n",
              "        buttonEl.style.display =\n",
              "          google.colab.kernel.accessAllowed ? 'block' : 'none';\n",
              "\n",
              "        async function convertToInteractive(key) {\n",
              "          const element = document.querySelector('#df-d9a2b883-243d-4f12-b39c-3b7701109595');\n",
              "          const dataTable =\n",
              "            await google.colab.kernel.invokeFunction('convertToInteractive',\n",
              "                                                     [key], {});\n",
              "          if (!dataTable) return;\n",
              "\n",
              "          const docLinkHtml = 'Like what you see? Visit the ' +\n",
              "            '<a target=\"_blank\" href=https://colab.research.google.com/notebooks/data_table.ipynb>data table notebook</a>'\n",
              "            + ' to learn more about interactive tables.';\n",
              "          element.innerHTML = '';\n",
              "          dataTable['output_type'] = 'display_data';\n",
              "          await google.colab.output.renderOutput(dataTable, element);\n",
              "          const docLink = document.createElement('div');\n",
              "          docLink.innerHTML = docLinkHtml;\n",
              "          element.appendChild(docLink);\n",
              "        }\n",
              "      </script>\n",
              "    </div>\n",
              "  </div>\n",
              "  "
            ]
          },
          "metadata": {},
          "execution_count": 3
        }
      ]
    },
    {
      "cell_type": "code",
      "source": [
        "# 신뢰구간"
      ],
      "metadata": {
        "id": "xKBPbRLpDGpd"
      },
      "id": "xKBPbRLpDGpd",
      "execution_count": null,
      "outputs": []
    },
    {
      "cell_type": "code",
      "source": [
        "df['Age'].describe()"
      ],
      "metadata": {
        "colab": {
          "base_uri": "https://localhost:8080/"
        },
        "id": "nQHwMPDVJSyz",
        "outputId": "3498c3a8-1198-435a-a4c3-48632ce3ab22"
      },
      "id": "nQHwMPDVJSyz",
      "execution_count": 15,
      "outputs": [
        {
          "output_type": "execute_result",
          "data": {
            "text/plain": [
              "count    75.000000\n",
              "mean     28.234375\n",
              "std      11.626789\n",
              "min       1.000000\n",
              "25%      22.000000\n",
              "50%      28.000000\n",
              "75%      35.000000\n",
              "max      61.000000\n",
              "Name: Age, dtype: float64"
            ]
          },
          "metadata": {},
          "execution_count": 15
        }
      ]
    },
    {
      "cell_type": "code",
      "source": [
        "# 중앙 (3점) 분산 (3점)\n",
        "print(\"평균 : \", str(df['Age'].mean()))\n",
        "print(\"분산 : \", str(df['Age'].std() ** 2))"
      ],
      "metadata": {
        "colab": {
          "base_uri": "https://localhost:8080/"
        },
        "id": "ZbVtHMsCJTQP",
        "outputId": "569bf87e-56dc-4894-ab47-3ac1904c46af"
      },
      "id": "ZbVtHMsCJTQP",
      "execution_count": 16,
      "outputs": [
        {
          "output_type": "stream",
          "name": "stdout",
          "text": [
            "평균 :  28.234375\n",
            "분산 :  135.18222128378378\n"
          ]
        }
      ]
    },
    {
      "cell_type": "code",
      "source": [
        "# 모양과 이상치 유무 (4점)\n",
        "plt.hist(df['Age'], bins=100)\n",
        "plt.show()"
      ],
      "metadata": {
        "colab": {
          "base_uri": "https://localhost:8080/",
          "height": 265
        },
        "id": "31UCEHuQJaHn",
        "outputId": "30916d48-46b6-4a6e-c302-6c8a70e318a4"
      },
      "id": "31UCEHuQJaHn",
      "execution_count": 18,
      "outputs": [
        {
          "output_type": "display_data",
          "data": {
            "text/plain": [
              "<Figure size 432x288 with 1 Axes>"
            ],
            "image/png": "[encoded data removed]"
          },
          "metadata": {
            "needs_background": "light"
          }
        }
      ]
    },
    {
      "cell_type": "code",
      "source": [
        "plt.boxplot(df['Age'])"
      ],
      "metadata": {
        "colab": {
          "base_uri": "https://localhost:8080/",
          "height": 408
        },
        "id": "PzOd1l3cJbnW",
        "outputId": "f0c6e315-7723-4f38-ac43-fd1f6bc2d78c"
      },
      "id": "PzOd1l3cJbnW",
      "execution_count": 19,
      "outputs": [
        {
          "output_type": "execute_result",
          "data": {
            "text/plain": [
              "{'boxes': [<matplotlib.lines.Line2D at 0x7f6195d8e590>],\n",
              " 'caps': [<matplotlib.lines.Line2D at 0x7f6195d94610>,\n",
              "  <matplotlib.lines.Line2D at 0x7f6195d94b50>],\n",
              " 'fliers': [<matplotlib.lines.Line2D at 0x7f6195d9a650>],\n",
              " 'means': [],\n",
              " 'medians': [<matplotlib.lines.Line2D at 0x7f6195d9a110>],\n",
              " 'whiskers': [<matplotlib.lines.Line2D at 0x7f6195d8eb50>,\n",
              "  <matplotlib.lines.Line2D at 0x7f6195d940d0>]}"
            ]
          },
          "metadata": {},
          "execution_count": 19
        },
        {
          "output_type": "display_data",
          "data": {
            "text/plain": [
              "<Figure size 432x288 with 1 Axes>"
            ],
            "image/png": "[encoded data removed]"
          },
          "metadata": {
            "needs_background": "light"
          }
        }
      ]
    },
    {
      "cell_type": "code",
      "source": [
        "# 신뢰구간 선정 (5점)\n",
        "x = df['Age'].mean()\n",
        "cv = 1.96\n",
        "n = 75\n",
        "\n",
        "\n",
        "std_d = df['Age'].std()\n",
        "std_e = std_d/np.sqrt(n)"
      ],
      "metadata": {
        "id": "RL3p4zOYJjEm"
      },
      "id": "RL3p4zOYJjEm",
      "execution_count": 22,
      "outputs": []
    },
    {
      "cell_type": "code",
      "source": [
        "# 구간 계산 (5점)\n",
        "c = (x-cv*std_e, x+cv*std_e)\n",
        "print(c)"
      ],
      "metadata": {
        "colab": {
          "base_uri": "https://localhost:8080/"
        },
        "id": "_djZZ5RoJlMw",
        "outputId": "cf2f1758-b472-4ffb-89b9-2e6dabf5bb76"
      },
      "id": "_djZZ5RoJlMw",
      "execution_count": 23,
      "outputs": [
        {
          "output_type": "stream",
          "name": "stdout",
          "text": [
            "(25.60298494584286, 30.86576505415714)\n"
          ]
        }
      ]
    },
    {
      "cell_type": "code",
      "source": [
        "# 구간 해석 (5점)\n",
        "# 많은 샘플 추출 시 그 표본의 평균은 95%로 모평균이 포함된다.   "
      ],
      "metadata": {
        "id": "140J8YZyJnO-"
      },
      "id": "140J8YZyJnO-",
      "execution_count": 24,
      "outputs": []
    },
    {
      "cell_type": "code",
      "source": [
        "# 가설검정 : 살아남은 사람들의 평균 나이와 그렇지 못한 사람들의 평균 나이에 차이가 있습니까?\n",
        "# 가설 (5점)\n",
        "print(df.loc[df['Survived'] == 1]['Age'].mean())\n",
        "# 26.810546875\n",
        "print(df.loc[df['Survived'] == 0]['Age'].mean())\n",
        "# 29.293968023255815\n",
        "# 가설 : 사망자들의 평균연령과 생존자들의 평균연령이 같다"
      ],
      "metadata": {
        "colab": {
          "base_uri": "https://localhost:8080/"
        },
        "id": "4WTX1alVDESo",
        "outputId": "18f87ebf-7831-42ca-9760-18d7f513e883"
      },
      "id": "4WTX1alVDESo",
      "execution_count": 8,
      "outputs": [
        {
          "output_type": "stream",
          "name": "stdout",
          "text": [
            "26.810546875\n",
            "29.293968023255815\n"
          ]
        }
      ]
    },
    {
      "cell_type": "code",
      "source": [
        "# 검정 선택 후 가정 확인 (10점)\n",
        "# 모분산을 모르고 평균에 대한 검정을 할 때는 t검정 활용 -> 2개 표본에 대한 t검정\n",
        "# 귀무 : mu_live - mu_die = 0\n",
        "# 대립 : mu_live - mu_die != 0\n",
        "\n",
        "# 통계량 계산 (5점)\n",
        "mean_live = df.loc[df['Survived']==1].Age.mean()\n",
        "mean_die = df.loc[df['Survived']==0].Age.mean()\n",
        "std_live = df.loc[df['Survived']==1].Age.std()\n",
        "std_die = df.loc[df['Survived']==0].Age.std()\n",
        "n_live = len(df.loc[df['Survived']==1])\n",
        "n_die = len(df.loc[df['Survived']==0])\n",
        "\n",
        "scipy.stats.ttest_ind_from_stats(mean_live, std_live, n_live, mean_die, std_die, n_die, equal_var=True, alternative='two-sided')"
      ],
      "metadata": {
        "colab": {
          "base_uri": "https://localhost:8080/"
        },
        "id": "yGzMDXwBDQ9A",
        "outputId": "c63daf72-9a42-45fc-b9ab-a4bc6860758a"
      },
      "id": "yGzMDXwBDQ9A",
      "execution_count": 13,
      "outputs": [
        {
          "output_type": "execute_result",
          "data": {
            "text/plain": [
              "Ttest_indResult(statistic=-0.9138710555393881, pvalue=0.3637931994699718)"
            ]
          },
          "metadata": {},
          "execution_count": 13
        }
      ]
    },
    {
      "cell_type": "code",
      "source": [
        "# 결과 해석 (5점)\n",
        "# 0.05보다 pvalue가 커서 귀무가설이 기각되지 않는다 -> 생존자 집단과 사망자 집단의 연령의 모평균이 같지 않지 않다"
      ],
      "metadata": {
        "id": "7vAKIvfHGFQE"
      },
      "id": "7vAKIvfHGFQE",
      "execution_count": null,
      "outputs": []
    },
    {
      "cell_type": "markdown",
      "id": "01c167f1",
      "metadata": {
        "id": "01c167f1"
      },
      "source": [
        "## Q2. 회귀분석\n",
        "\n",
        "다음 데이터셋에 대해 두가지 방법으로 회귀식을 도출하시오"
      ]
    },
    {
      "cell_type": "code",
      "execution_count": null,
      "id": "2dbf5392",
      "metadata": {
        "id": "2dbf5392"
      },
      "outputs": [],
      "source": [
        "reviews = pd.read_excel('reviews.xlsx')\n",
        "x = reviews['kakao'].values\n",
        "y = reviews['naver'].values"
      ]
    },
    {
      "cell_type": "markdown",
      "id": "a8562f1b",
      "metadata": {
        "id": "a8562f1b"
      },
      "source": [
        "### Ordinary Least Squares (10점)\n",
        "\n",
        "다음 수식을 numpy를 사용하여 재현해보시오\n",
        "\n",
        "![image.png](data:image/png;base64,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)\n"
      ]
    },
    {
      "cell_type": "code",
      "execution_count": null,
      "id": "3af8057d",
      "metadata": {
        "id": "3af8057d"
      },
      "outputs": [],
      "source": [
        "m = None\n",
        "b = None"
      ]
    },
    {
      "cell_type": "markdown",
      "id": "7cd843d7",
      "metadata": {
        "id": "7cd843d7"
      },
      "source": [
        "### Gradient Descent (Optional, 10점)\n",
        "\n",
        "Why gradient descent? 물론 기울기와 y절편을 한방에 찾아내는 공식이 있지만, 데이터가 많아질수록 너무 복잡해지는 (O(n^3)) 문제점이 있습니다. 이를 조금 완화시키고자 경사하강법을 사용합니다.\n",
        "\n",
        "[Intuition](https://www.youtube.com/watch?v=sDv4f4s2SB8&ab_channel=StatQuestwithJoshStarmer)\n",
        "\n",
        "아래의 수식을 넘파이로 구현해 봅시다.\n",
        "\n",
        "사진출처: https://towardsdatascience.com/linear-regression-using-gradient-descent-97a6c8700931"
      ]
    },
    {
      "cell_type": "markdown",
      "id": "60130f69",
      "metadata": {
        "id": "60130f69"
      },
      "source": [
        "![image.png](data:image/png;base64,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)"
      ]
    },
    {
      "cell_type": "markdown",
      "id": "870bfd4e",
      "metadata": {
        "id": "870bfd4e"
      },
      "source": [
        "![image.png](data:image/png;base64,iVBORw0KGgoAAAANSUhEUgAAAZAAAACdCAIAAAAVNLnxAAAMbWlDQ1BJQ0MgUHJvZmlsZQAASImVVwdYU8kWnluSkJDQQpcSehNEagApIbQA0otgIySBhBJjQlCxo4sKrhURwYquiii2FRA7dmVR7H2xoKKsi7rYUHkTEtB1X/nefN/c+e+ZM/8pd+beewDQ/MCVSPJQLQDyxQXShPBgxpi0dAbpKUCBAQCADFy4PJmEFRcXDe/A4Pj39u4GQBTjVWcF1z/n/2vT4QtkPACQcRBn8mW8fIiPA4Cv5UmkBQAQFXKrKQUSBZ4Dsa4UOghxuQJnK/F2Bc5U4sMDOkkJbIgvA6BG5XKl2QBo3INyRiEvG/JofIbYVcwXiQHQHA5xAE/I5UOs8H14fv4kBa6E2B7qSyCG/gBm5nec2X/jzxzi53Kzh7AyroGmFiKSSfK40/7P1Pzvlp8nH7RhCztVKI1IUMQPc3grd1KUAlMh7hZnxsQqcg3xBxFfmXcAUIpQHpGs1EdNeDI2zB/Qh9iVzw2JgtgE4jBxXky0Sp6ZJQrjQAx3CzpVVMBJgtgQ4oUCWWiiSmejdFKCyhbakCVls1Tyc1zpgF2FrQfy3GSWiv+NUMBR8WMaRcKkVIgpEFsXilJiINaA2EWWmxil0hlVJGTHDOpI5QkK/60hThCIw4OV/FhhljQsQaVfmi8bjBfbKBRxYlR4X4EwKUKZH+wUjzvgP4wFuywQs5IHeQSyMdGDsfAFIaHK2LHnAnFyoorng6QgOEG5FqdI8uJU+rilIC9cIbeE2ENWmKhai6cUwM2p5MezJAVxSUo/8aIcbmSc0h98GYgGbBACGEAOeyaYBHKAqK27sRveKWfCABdIQTYQAGeVZHBF6sCMGF4TQRH4AyIBkA2tCx6YFYBCKP8yJFVenUHWwGzhwIpc8BTifBAF8uC9fGCVeMhaCngCJaJ/WOfCzoP+5sGumP/38kHpNwkLSqJVEvmgRYbmoCYxlBhCjCCGER1wYzwA98Oj4TUIdjecifsMxvFNn/CU0E54RLhO6CDcnigqlv7g5WjQAfnDVLnI/D4XuC3k9MSDcX/IDplxfdwYOOMe0A4LD4SWPaGUrfJbkRXGD9x/i+C7p6HSI7uSUbIBOYhs/+NKDUcNzyEWRa6/z4/S18yhfLOHZn60z/4u+3w4Rv2oiS3E9mNnsRPYeeww1ggY2DGsCWvFjijw0O56MrC7Bq0lDPiTC3lE/7DHVdlUZFLmWufa5fpZOVcgmFqgOHjsSZJpUlG2sIDBgl8HAYMj5rkMZ7i5urkBoPjWKF9fb+MHviGIfus32bzfAfA/1t/ff+ibLPIYAHu94fE/+E1mzwRAWx2Acwd5cmmhUoYrLgT4ltCEJ80ImAErYA/jcQNewA8EgVAQCWJBEkgDE2CWhXCfS8EUMAPMBSWgDCwDq0AV2AA2g+1gF9gHGsFhcAKcARfBZXAd3IW7pxO8BD3gHehDEISE0BA6YoSYIzaIE+KGMJEAJBSJRhKQNCQDyUbEiByZgcxDypAVSBWyCalF9iIHkRPIeaQduY08RLqQN8gnFEOpqC5qitqiI1AmykKj0CR0PJqNTkaL0PnoErQSrUF3og3oCfQieh3tQF+ivRjA1DF9zAJzxpgYG4vF0rEsTIrNwkqxCqwGq8ea4XO+inVg3dhHnIjTcQbuDHdwBJ6M8/DJ+Cx8MV6Fb8cb8FP4Vfwh3oN/JdAIJgQngi+BQxhDyCZMIZQQKghbCQcIp+FZ6iS8IxKJ+kQ7ojc8i2nEHOJ04mLiOuJu4nFiO/ExsZdEIhmRnEj+pFgSl1RAKiGtIe0kHSNdIXWSPqipq5mruamFqaWridWK1SrUdqgdVbui9kytj6xFtiH7kmPJfPI08lLyFnIz+RK5k9xH0abYUfwpSZQcylxKJaWecppyj/JWXV3dUt1HPV5dpD5HvVJ9j/o59YfqH6k6VEcqmzqOKqcuoW6jHqfepr6l0Wi2tCBaOq2AtoRWSztJe0D7oEHXcNHgaPA1ZmtUazRoXNF4pUnWtNFkaU7QLNKs0NyveUmzW4usZavF1uJqzdKq1jqodVOrV5uuPVI7Vjtfe7H2Du3z2s91SDq2OqE6fJ35Opt1Tuo8pmN0KzqbzqPPo2+hn6Z36hJ17XQ5ujm6Zbq7dNt0e/R09Dz0UvSm6lXrHdHr0Mf0bfU5+nn6S/X36d/Q/2RgasAyEBgsMqg3uGLw3nCYYZChwLDUcLfhdcNPRgyjUKNco+VGjUb3jXFjR+N44ynG641PG3cP0x3mN4w3rHTYvmF3TFATR5MEk+kmm01aTXpNzUzDTSWma0xPmnab6ZsFmeWYlZsdNesyp5sHmIvMy82Pmb9g6DFYjDxGJeMUo8fCxCLCQm6xyaLNos/SzjLZsthyt+V9K4oV0yrLqtyqxarH2tx6tPUM6zrrOzZkG6aN0Ga1zVmb97Z2tqm2C2wbbZ/bGdpx7Irs6uzu2dPsA+0n29fYX3MgOjAdch3WOVx2RB09HYWO1Y6XnFAnLyeR0zqn9uGE4T7DxcNrht90pjqznAud65wfuui7RLsUuzS6vBphPSJ9xPIRZ0d8dfV0zXPd4np3pM7IyJHFI5tHvnFzdOO5Vbtdc6e5h7nPdm9yf+3h5CHwWO9xy5PuOdpzgWeL5xcvby+pV71Xl7e1d4b3Wu+bTF1mHHMx85wPwSfYZ7bPYZ+Pvl6+Bb77fP/0c/bL9dvh93yU3SjBqC2jHvtb+nP9N/l3BDACMgI2BnQEWgRyA2sCHwVZBfGDtgY9Yzmwclg7Wa+CXYOlwQeC37N92TPZx0OwkPCQ0pC2UJ3Q5NCq0AdhlmHZYXVhPeGe4dPDj0cQIqIilkfc5JhyeJxaTk+kd+TMyFNR1KjEqKqoR9GO0dLo5tHo6MjRK0ffi7GJEcc0xoJYTuzK2PtxdnGT4w7FE+Pj4qvjnyaMTJiRcDaRnjgxcUfiu6TgpKVJd5Ptk+XJLSmaKeNSalPep4akrkjtGDNizMwxF9OM00RpTemk9JT0rem9Y0PHrhrbOc5zXMm4G+Ptxk8df36C8YS8CUcmak7kTtyfQchIzdiR8Zkby63h9mZyMtdm9vDYvNW8l/wgfjm/S+AvWCF4luWftSLrebZ/9srsLmGgsELYLWKLqkSvcyJyNuS8z43N3Zbbn5eatztfLT8j/6BYR5wrPjXJbNLUSe0SJ0mJpGOy7+RVk3ukUdKtMkQ2XtZUoAt/6lvl9vKf5A8LAwqrCz9MSZmyf6r2VPHU1mmO0xZNe1YUVvTLdHw6b3rLDIsZc2c8nMmauWkWMitzVstsq9nzZ3fOCZ+zfS5lbu7c34pdi1cU/zUvdV7zfNP5c+Y//in8p7oSjRJpyc0Ffgs2LMQXiha2LXJftGbR11J+6YUy17KKss+LeYsv/Dzy58qf+5dkLWlb6rV0/TLiMvGyG8sDl29fob2iaMXjlaNXNpQzykvL/1o1cdX5Co+KDaspq+WrOyqjK5vWWK9ZtuZzlbDqenVw9e61JmsXrX2/jr/uyvqg9fUbTDeUbfi0UbTx1qbwTQ01tjUVm4mbCzc/3ZKy5ewvzF9qtxpvLdv6ZZt4W8f2hO2nar1ra3eY7Fhah9bJ67p2jtt5eVfIrqZ65/pNu/V3l+0Be+R7XuzN2HtjX9S+lv3M/fW/2vy69gD9QGkD0jCtoadR2NjRlNbUfjDyYEuzX/OBQy6Hth22OFx9RO/I0qOUo/OP9h8rOtZ7XHK8+0T2icctE1vunhxz8tqp+FNtp6NOnzsTdubkWdbZY+f8zx0+73v+4AXmhcaLXhcbWj1bD/zm+duBNq+2hkvel5ou+1xubh/VfvRK4JUTV0OunrnGuXbxesz19hvJN27dHHez4xb/1vPbebdf3ym803d3zj3CvdL7WvcrHpg8qPnd4ffdHV4dRx6GPGx9lPjo7mPe45dPZE8+d85/Snta8cz8We1zt+eHu8K6Lr8Y+6LzpeRlX3fJH9p/rH1l/+rXP4P+bO0Z09P5Wvq6/83it0Zvt/3l8VdLb1zvg3f57/rel34w+rD9I/Pj2U+pn571TflM+lz5xeFL89eor/f68/v7JVwpd+BXAIMdzcoC4M02AGhpANBh3UYZq6wFBxqirF8HEPhPWFkvDjQvAOrh/3t8N/y7uQnAni2w/IL8mrBWjaMBkOQDUHf3oa5qsix3NyUXFdYphAf9/W9hzUZaCcCXZf39fTX9/V82Q2dh7XhcrKxBFY0Ia4aNoV8y8zPBv2nK+vS7GH8cgcIDD/Dj+C/IIpC1Xmo66AAAADhlWElmTU0AKgAAAAgAAYdpAAQAAAABAAAAGgAAAAAAAqACAAQAAAABAAABkKADAAQAAAABAAAAnQAAAAALNVriAABAAElEQVR4AeydB4CUtfLAt+9Vei+iiChIb6IgKIhYsIHyF0QUQewF9fEUUd9TFOz6sHfFjtiQLgiCgvReBKmH9Kt723e//2+S3b097g7vKAKyYfkuX+pkMplMJpN8ZsMwTCeSK9pac0nN10lLjNbZwgW5jbCpILFNwvcvIZbYUpBL+eKhUmWEVV6VnnfDZkRCTdb9ciZeExg4kTCw/8g5kdp+5NqawOqRw22i5BMaA0oQOFExUCAPFYuBv4jWeTRv0qJQgk8Vi8dEYAIDhw0DiTF22FBZTEGlYnnF5EsEJTCQwECxGDjhJKwjw0Pi+X5MUaUQvn99xMYnVnqu/dMU21OJwAQGEhjYb/AkEHIEMRBjZDFPrLJwEZZlidPfx5IlPAkMnOgYOOEkrMjOXXy/F+EW8ZGl8cfv8en0hYrcf68wUiTB8cnw64QF4WaLiZ3HhEtgIIGBKAYKL0+ioYm/h4ABUHqoWBXOZcQKEWlLs7ZY0CGAl8iawMBxjIHEEFCCjZZtTKZwOBwzTAsEAnQsMWFDnqGwxEpXGyHCor+CvtdBBe/7+cTejdIjElOsFpM5HFQVkZziiS5kGIeQlXAJDCQwEMVAYjxEMOH3+/FZLBbNSuI5l05hNkus9huac0WyluKPGZtSI+D3W8yWnNyccePGbd681e8P//HHprFffrl06eJQIAg/08WHYI24+OViKWpIJElg4ETAgLlgqj8RmltsG2EVUQdPMStntdlE1LGYRS5SchZJsDIXNiISFr6CVVpcARKjXYTh6DhzOBT0U2YoGBz59Kh9e3MmTZ56/fU3GKFwnTpV//e/lwYNvPW2O+8IhUxmZcnu8/hSkp2qnIhEBjeLlBQtP/E3gYETEAMJCSva6YYBN7E7HDa7Hc4S8HphSUF/KBAqpKYXrgFTiXCrSN5ihSFJqXmMSmW1CiuaN2+ey+W68cYbtyg3fPiD/fv3b9u27WeffRYKh2TFaJiCIZMzwq0i5as/RXcS42MT/gQGTggMnHAMCx4S+xXqYbNZpCqEHAQrw7A7k9Bdbd68OTs3LybkkD4U0kwohjciJT7GsyLvhYrWnMtsCgXr1as3ZMiQKVOmhEKhB/49lBOCPp/vt99+I9xqsdrtZspnYegPBPcrQL/Gaik2NhGYwMA/HgOxgfePb+lfN1CU38hBhhH2B1YuXXrnbbd17tx5797MgNaFa87018UUm0IxPau1Ro0aFStUnj179rnnnnvSSSeRdK1yPXv21NnsNrPFbHLYTzxzk2LRlghMYKAwBk7EgQHz0HwaYSkms4QDARaD3jzXlVdeuWvXrvLly69bvSbX5/N4PBpjsnmHeYFaDKKSj+rfC9BJUVr6KgiK96Gnt4p6LDcnd+bMmbfedocFzmQyjR07tnLlyhdeeOGnn316YbdLKlSu4PMFkpPs8VkT/gQGEhjQGDgRGZbmVjFWpRFhsQuPcKQkP/LY8NTklHp16nbq0NG7e6/FbLNiv8liUFTwbORpLqeYXsxUKlIWaqYCiTUSppMTbjF5811JqWkLFy505XsuuugSivV6/RMmTu7bt9+KVSvn/vpb3z59/f5gapJdM8dS06gS3+KqjsqCBcCUuqhEwuMbAxFyO74bcSDoD4JhRQQUUBNz0cGvRw7BMlR0AhVVKDyW66h4CvhIfPXol7Qqymbq0LmjWF7le5zhgCMURCZiUxA02VSbJGHE/kDsOUNBk1UUX7Q1aLWaA0GfxZYcNAzCrNQUJo/idphTmcNOJxt/lszM3G7dLmrX/mwqcSQ57h1y/3fffjvjp1nDhw+nZKdDekTEOINi/Varg1f08Vpnj+aLWgiJmJWKF9wq9Cruqa/NMqsQGCzRKrXkOGacJgaBrYg7huikCGxHIyAyhGJoKQEGul4ThSIFjdlov0teTQk6czS8hKIOc3AM8gN0d7FRJcJxEGYNGojILjsvcQgqBN+xybAimNDA8dQ9HWVYMAdhGLQjP/+sxk227c6atHBlg6ansMNHMy2wIZPerQNvssBTbEV4FnmMcMBssbq8oaQkpyTD+kFELswj4GZBk93EzqM9KY2kqNTNNuFKISNgN9s9noDTaWeNyTYlsVhSYPDFViQ6NavFzlV+8CmHw8FSkWSUJYBo4U6AB1Z4KJAIEFGGhckrxSjeR+ix5TSRKKqJIxEFYyH6ObagPirQRPATQ0txQGgaVjwLbwy5UcYkAZph6ShlNlNcOUckLB7yoowpBmwZ6haaPhRXFIoSSit1whLyH+lgOliTh1SET16KhTmSULiVcmKuQGLUW4bh9bjTkstJVsOCACWGppiMQkWy3LTYnWkBnxEyws5kqwhlVuF5Hq8nOTkZA/hwyLCxTSl55REOhmw2JxuWVrig1UqYw2lXMUr1JUl0Qs1y1XuhhwHH0vyrUHDi5TjCQITEiqXDWDPUsBcyk2TFJY1ExTIc157iGviXDVLTewSZf5n4+ElAixQ6DtAyja5IAm3iAGMSh9rJak1KTobVhANhnzeEUTv8wpDzNgGYGfyIFwwXEL/8XlnZ+YNe8iUnkQUJTFaUeDC412b0miHyRMFPFWi7iNU14onwKuGFhXpQES/R/I2/r1lyHIvuAJg+FsE9JmGK4FB6XKycxanej/h1iDwhlEK0UhBzPPkOogmRBTOtBFexn2q0xkmkTB0VDT8mkRLp7ALYJCDS03+NGUxNab8+0yMcyx8wBfws5Kw2C1yJYvK9PlZrim0FLTZryG/iBzk5nVavJz/JJvqpYMjPSlDsGFBaBYIYrrIY9Ps9ZovFL3uUPlkemk1JSQ4O75itzKQKyQAKL4wAq16ijSBQXBF61cHH3HP/LoiAf8zB+bcBRMfFfnGVxsLiPXHxeAV1oBMNplZixmhgfxwXznaE3wp3KNAfmjvUJeGh1X6s5KZHNX8yi/AYQSqMhp4vsqqKMDLkHlZwwWAYVqIvgcnLyxv24NCcrGyHI80Tcrp9fp/Z6wvmBQJ5DqvNHHCmOsqFfWa4UGo5uyeQ70h2uN1um8WOySr29Zy1tlhhTElwKJ4ety8lLZWomwcPPuus9nAxloJABqjylA9eRNSIUSRGQoQ6pQXqMxZHlVSjgJXyb4yy8USQXMqcJ2wyTQ+Fml9MkCDzaBAC/Rjr0zgYi4EwLvavvGVmWDIWFBcvKLlAARwZ61HsaHD3G1dHBXcFwJbkUxYJhfCLLKO0lfGBtEwjIFJMMOi32ZLkJRxG07R86ZIFC1eQwmorV7FmnWtv6GN1GMFgrsNm9bkCSSwHLU406GEjYLVbslyZqWlpSkoTe3cMvjIyMhYvXrxjxw706+jk1TFPC2natj1LLxg5tWPTWlPRWeAs6g8UKXuXJTtSFbCA+AZEe0pnjZRZcjmHISZKP3FFFRMksSUEx2X8R3p1z+oxpRoY319Fe4hY1Yn0L5HqgAR5CaIcKaSg3/8mbJW620qdsBDgZWZYhXIXfonHrEJfoXFSOO2x9BYbtXSwHGzmKYQRL1vFkkQpAMNRIQVEIa/XncSCzmJJTS/34osvXtq9m9truIPuoN/Xq2fvJs0b2iVhwA4FBUJ2m1MGIj9KlHBNgSwl/RxjlHR+/+7du7Es/fyLsT/++COqqy+++GLIA/865eS6bm8wOSm+v+LQK7DGvcaTqa6Loo8h97ePomOo7YcdFKZV2Y2Wcs1yIZLwKeFZbEXDsxTBaPLV4zOOlCXxkXIRwj5g8cBcmmSFyigz6YjqWCmJeYZ8XrFEolaxdETzItXHFMNqk74YgHwBv0IdUcXEUsLf4ei2/XpOK89RF/n8RLHis9pt/pA/HApEZBrALYA3hjeWhElwK4HZbG59zjlPjRzBUR6LKbhrV8a1vfvk5ggNsU3INqDNDp58QkZUrYoyokxRcytS4qldp851/fp9++23HDls265dVlbW+++/D3SaW0WgRvpSNhCqYks4LNo0AUFsJnQXWViSSpBigtqDaj/qKWiJDvkbnzHUFalTZgvQHwFbR7Pojr9QBH/8a5EijlqAVmVG7lBTwwFQkKYPBqAgO8mFOogxxbuUpVSYdDA/1dfQmg5T9YR9JiMg3EqS0teCKi4rUmBAIwcFTNkbwKSrM2HpgwlhrACNFa9XblLi50fhGz+zxtId0FMy9ZSQjZFMjGzAG2ErQgFj1TDpfnI4LH7ODqsrWfJys62sXtTVTj5fyO2WNgS4+oDtebuIEseaiwwDOtXpwD4Kw/d8ny81PS052UkjNJtQslJkw64Q/Dpanpab7ryz77WX44Vn/bl1y123303fwPKYA+VIoiUEpwloluYXrb2QV3GOBWaHDh1+mjGjV69eYz//IjfXFQwIx3R7/BQeCAbMdlkd8mNIc26aMlifUpbThoWFPegLYqcqpyPNYbsy4s/Pz6fXJk+evHbt7zZlBVtctUcpTGQBeC6WtwGnQ+7VgVRcLu8334yPmY8cJchKWy2GciQF1cwKGma186snu9IWIumgNtb/Fsuc2bOXLFkGq+KnFQJCVJyO8Hl///33n6b/GAoF7MyBavD7kAEgJJSgzLgMUKEpsy/o/2Pjn1OnzjJzqAIjZnVfiFRxJJ0PY0OFCjxslHN9APMu3FxNPFJxUpJNcy74gJ5aywRO8aPlAEVwqQCMU88n+TnZa1Ys370jY8+uXVs2b//9902bN23ZsGHjlq1bUCfnZ2eBOKYGu9OalOIAjVzcAtwUDl1qLqskDQn5+1y0YqkREuCnnN6VM1ntOzMy/ty2bcXKFW6vd3dW5oKF83fv3PvHhs0+j4gn7ByLll1RSXxJugxVmnXUqFFNm9QXO1C/+7txX7352qdU4lZyJawPumIbUYpCba7N1gVN6qdK0Q+uyoLuU1OTP/zww5NPPpmFIWwHwktPdjBhCk2IeEZXoDujNO4dNMOGqEhLuDZnMnoxEC5zNURshFJTU1966aVXX3ujbt260E+kloIa/9ZeAHURF/NhwIEdv7phlfmP4HvvvXfBggXRdAV/j1kWpgdFxJiOueTgGASHv5QgTH/deuut3OQBt6JPITyuOqJ/k+UekdCzz4yaNnWyz+tmyqPnbA6oCaJUax3IgVWiEd6zZ8+gWwZ7fAHicvNylVgWQ3cBPg+vz5mUBMkhZOGh5OpVq/3vf//7+OOPIU7wA8nygx617HIwwjJ5Su+QznPdHp5wdyPse/mZEWk2c4odxo6zpVeomla+SvnK1ZzJSeXLpdStUWnokLt27tjr9hn+kOFjrgCL3IUQ+fGGuKF/pQfhkFPq6osUE/TTIiPo9V195VUVUlJaNWnStumZZ7Vu1bRlq+p1Tq5X//TsHDe2VKTBxorchVsRMAyy8/MbgXwj5PppyrgUB4edkXbSUlLrzpm30sdqUOJcAcPP2R2vB3So1mtIosVFEcIawMB2FErFzZ4z77bb787Kc0uqYCjg91KdP+CWGkPBzZsyRo56btDggSNHPbF82SLSg+0Aiv0Q9eg6Qn6f5/vvv23duu2GPzbFqop5pDHRlFLfkXSxSqXO2IvUHgj43TxDYR/NHnLfA9f1u1FIRJZHkla7eH807Bj6K6xWWiJPXKT/9EspnxBZgGvYgiDn++9/aNKk2R8bN7NG9ProUliZ9Gko6J066fvmTU5fv2ENNeUHDUJxPvc+aE/h0vB48zqef+4zL7xOAm9QEBnAarkAkaWEpuzJIDzkPUVOPq+L39q1qxs2bDBt2nTKoiGaCfjpZ9X/Za1Alrmld4Iyw8h25dEpMCxvzh4j5H/ogSFOq6XDOZ137c3Zl+3ZuSc7Ozdn3dqVw+6/Iz3J1rxZ6x27c8ilf75QOMjtm9hWCuSR4RQB4OBaUHrodcq4WrSXp7iw4YWzhg1Pnmvfrp0Bj9udm5Wbk5Xncu/al52VDepDwmWi2aN541oBqckvEPTkGEbek4/djyTmMMGzUs/ucMmenFBuyHAZQQ8oYwxSI62nZ4t2mypael3kJ0nIf7fHpzQbvIRYU/oCXuFI3twvP3q/y/kXXtd/YK//612jVlVmjgf//a+svDCziuSEeLwuQNq7Z1fjxme8+urrBHoCYTe2X6pHeJVk8l8gVzBJtiPnqIqqC+rVPnQdfo9CR4CRxm5Dw9MbzVu4RCYRge04cLASRFoAVTxFAPZ6mVfK7lh8CBUZnnw3y5Heva/t2esauh6n2F8oGFCICroHD7iua5dOTIB5QcMTlOEkPciUKfQVeujhYa3anU04nQrChTSR0IKK4MoOVBlyAAcTrVSkgJH6Q88++3SzZi1ycvJ8fulPkvBEPXwQfXswDIv2a2hC7mzDkzvwumsZJw89+IgH8UJhx+MTEcAIu0c89lCSM61X7+uzckGdoccJaNPc6thhWBHEKQkLEQaUCk+AtygykABSgGU1ohEucSqAJ0iX9PLTaZg7fEgKeQFXxpUXnoM+xmlCNi53x71PwOZdzIeQMtMdVEQmNXYjtUupysWKZppVThRYqnhVRYCxTUQg5F80Z3rH1s0WL1oORPxWrl7WtkVj+uK+YSOphTQ+bx5Ak/6xR4efcUbD/HyRjgmP/XRVUqzAr4oR/5FyujpqL6hX+2SkBQLevHCIMR9q3779wEGDNZBHCpTDXe6mTZvefPPN+FJjnCs+8K/9cCu0BxEEGYsXL01LLz95yjSmLnSU9HMYyTqIcO3euGZJzRpVPv9mEmQK1jxenYtjFnmb/1hbrXrtz8eNJxyxnCUB5akupgTI7kg64UYyHGSmVFIzjHLXrh21a9d95pnndLOU+BjhFWUF5SAZlsedq3i515+zt23Txuyd/jB+MisR8MFgAiyZB3w5uft21Kl7ijWp3Mo1G6A/PxxBEas/6Cs01DXU0U4qaxvKlj6uFoEzOnhYVEs5YcPvlTHDDwi9fpGpSJbv8rlykY2MIEIYeaK51MQWpQBdsn6G8ozgnt0b59Uub0oxmZ3WSiZTrXc+n5nFmhoUGbAcVo6R6mP5pFycfldME39sESTLQ17dIjF5ZM0Qumtg30pO80cffgan8Uq6wLhP37ObTfZydRes2aHA9AOx15VT/5R6jz46HPMuGB/huiNibZcageboMiwwK+QTmDBhPBuvs36eA3gIgwojx8FjxowZ3KSm14CwKu0RrU0ZXdgPhTHGg1ohQKd26nTeVVf1UmSgxCvm0bCXwWX4sntd0aPjBVfs8wnD8qFpELKFVWQ+/tjQOnUa7NzrQXAgCvIAmZj6KQxHybWMgJU2OT0Gw2X4yNyjpkAF1qOP/ueUU07duy9HxhVkrEBimiptsdF0ZVa6Uzt55NBc0G8K+3ds27xyzcZylWo1atwUXRqKP/au0KnLdcNmc3rFim1aNUHi+PnX39AOao07WkL0kWyYyZ6Z7GfIPqP8yMyv9O5wKBBj7UcpqMFDnw2dCcGZDDYyIBToJyXVkZqWhP5abceJ+lJDGssegVpt0Uicwc2l5qon13/zjdfQMxqhXHYa7rt3yNZteUDtw8SBgiTZgVoLDmFXIBUQGANiO4FqXe6oAWc2jFrXr1/PKvbZp5/JzPRwjprgtm1alktPCXh8c3+dJ2XL1ltoyoQJGzdtv+jSnhjUC77ZBlF2O3jJI9nkP2/MOzzRx4uJhwINfW7MTxqchGjfwT11Zqk31nZt50HzsIs1BcZ++VmDRk2atj5LNmxZT+saowBFKy0GjGgSiaIgfhG6kjwEYl+izJSiRei/OpeCRYOmE8cSFVNRLC7eQwelp6czrPBA3pjp4df7s6pwnVaVpt4jNRrBiNGfxEusmb0zsyVstnJVNiiBoHpdfvGMqZM2bt3uw/gPspFLcRk3Zrbqe/XsOWfmrO1b96DgYoNF9SMTamDMmDGX9LiyQuUk0EePsvEIxbKPKbvGB+k0HvbHBq3Qv4JSqclqF/aqNoKkftkLD3U97+wd2zPmzV+EuYDsFsnOO4NEKK9MjuaUwQmd6ZNKgCkGa66lC+d7go6TGp1Vp3YtuThKOcyX5K8Z+4BgktltNgXXb84AVXbsAgyiUGPJsCCEHNJzYJSfGivyWuyQiCAG9kE+hThBhOQqyYE1oqAbnUDbXsDcaYNWi9Icr8fDE75AGtnsVy10OJKsmKKjNIcxyF0JVvQRRHFVjNfn55SMYg46LYQTxSE9QKNoLWVZ4EcpJlPapb2vu+vm3nB3myk7d9e2O++8V0jGgOlYwwGftlRXdUppEaffpVgumRGQoNzI3pPMCdwDIVdB0Pg+fftWqZTU47JLK1dKJhOmqhUqlJNrbQJ+NGnwAcFu2PfLjB/LV6pbr1HLyNYgpnPCB32mYL7fnZeXkysCl+xjUqSQt2xH6d4JC6r57+FdsEiJ+CB/eVUPAVljOIZtXnWIxBVxkZKw0ZBtL7kWUXa0KJO7w5D+Mncv/O3nUxo3tqaAeEUYQjCSeOaPs+6774Hvxn+vwAgvXDT/mWdGDb71lu/HTxCIgqY9mVkffvIh+zwvPP/M7lxXblAxQECOQJ4vdwa52C7zkp7z55TDPlpOnvLRTFQ/EYpidYpBk+RTsIXQGEoZ0tJIY5nPeGUe0cDw5Oaf3NxsWAxUpFERSU+/0FLBmYjAkp680n1M/XQEtioBJN+Zs+c8+fhjD9w/5Ovvp+UBuZXuwQUMT1b3Dm28+e5ZvyzCaMUH8eGExYMxc4vmbdhXnTZ5Ehtfkpr/FmP9mjVbNu5oe+650t1MsRC2ImVeuFOXsJKclgqJ1a3TT/ifcBxkO29+1u4/8QA8Y8jjDbENhRmTIgjCMKBThMEMyaenLJawxRYSaJUJq+FpeUa9cqmO7yb95IsMEJmxCiatkmAqEh4dbEUiSgpg9BIlDFQA9y9cMBdG1KZ9Z4IZXGjbiExFCqCLmDADvqzsPaRHe0rD2CiUg7xwVr2vKEWogSrkICXKECvBYYaq2YrsapOUwjXbkLzFOMYM4xxZifR6/DDmdSBPpj54FrFc7UJmmctKdvScWIeqqxSwaeAVV1JymifDWgQjB6Ik1Dpy1KizWp/mMAUspvzZkyc8+cRoBJwA0DmUkFVSQcWGy5WBYagBrNEN/QfdvGXr9ieffILhx8yObLhg/uK8fJ/Jbm3dqnmEkQbcixbMO6NJc2uSSSY32W4HgXRNcN2atYMG9T/v/I633HpXbr7hcHDpDee3Pb/+PGPwrQ/8udvNhM4wAzUO6XOVWUOlcC4ER1h0PsCDcAG2ceCHV8atdvijLtrFHIT0erhHjKbIZz+kEEaVZc/ObX9mZDRu2lLjF+Ys6DRC82bPe++991Odjt69rnz3/fdeHv3Ks8+9UKlK5ZNq1+h5xeX/eWzU0hXrBt9y28aNG5o1OeOD995p1bZddg7DRsBFDQ2YO3b+OfyRh6/pdWXXzue+/PJbdNBzo56+4/Zbr72236SpMxn9SEVADkkE/JiDyMBGToPxgxFtOchBdJkvMBbDjk7NcJANLaXVJGZK46prwnklHI8ggv5SwhCNw34KuyRBIpQuqJPLhciYsW7DNVf/3/DhjzLZtGjR4sGHhw8b/pQ0XyLD5iT7ybWrV0y1Lly6AhZGTZKVKAVKzZo1q1WpiGmRsA1hNILJJQuXcPKizkkngTuhFAPuLBDiiq7AdAfxJCNDW7dOJxbojZA8goFPPvt0wI03Xfd/va/t1SsjY+fsufNvuuH6Xldd9d8RT2Ptk+9mL40r24QsAx4P5pnwaNH8g1bBvcwn6anOhvXrLV/9uwRI4zDR4ETsAUa8hqLIU5pYFkfLZP0p7MNt5G/o3OoUk7nyO+N+ExUQ6kLDFzS8fh97q2hP3Ls2ra5akY0y66PPvoPuhkUtm9aykKZbo0trycbOSFD2rVhy89RVCAoLOVUBi6ucrPvvuXvwTQNuBoUDbhh008Bi3YABA2688cbbb7+dL2tBhZSk6QyPftWDStdwgA0dvfWjJTLdr/pZCLS4FygWzRdrd4EfrRC6qkD+0l+n162gzLfMyabkKt//+AtYYHpCQR+XtXRetf6H//tFlwGS2RXSGWHA+Q8Pvd9hsf7fdYP25oXc6AmD7vDetbXSTH0HD81UKn/ZFwGqkH/Xtu2XXdRtwbwpn376DpLg+59OdgM0XRPMuqhTW1Ny1eWbsqQvwm7azgkh1SvURCKlwtWdpOqOIfYvG0Am8ufLBii6FjHsEI2N6DSAC+rxzhn/IcLne99N3ge1SBUBIwDheAcNuPXrL77J3r6lMnY0dsegu+8FgR6fO+zac367Ng5HpbYduv+2bAW0h5A25oPXsbF5Y8wEdoEE7KAnPzPjqt5XjHr+KSOY++uMaekVap5yWos7brt9yx8b2p3dpWHT1i5fPjDQd9I64PCi1YZOoEZ0hVgUsCcrTkBWLtpSEsuPjD/+OPXqq3vqVx0LnQgHQeftE9pWJbDhxI4LIPEGGeauW7a4bpXq53XulpPrNkLuX36ebk+uVL9x221784RkQYt3byBjeevT6px7ae9dasdGtmsMwHMZfhfaopatzupw3oW0lFDZHTJCD9wxqFJ68rqtu9h4AYdysEQce9wESIqS3H6ErSif2vJef+X5/+t93bo1vwcz9/Ts3rV8lRpnde6yZvnC0S8+Z7JV+GLCL9I0mun3CAKpQcwsI2MZ4VFBm2UEdvfvdVmleq12+CRK5Fk6PrqtVBJIRcPVUaMiXKykAFgj8yGsUeSssJG1a9cfGzeZ0uo2atyQLEANO0YV4fd77WIbGVq/dt2eLL8ttXK7du2YFQgCKaxvmLwoQTFaNWeIwaPw3QM4ho5IFmy6OZ2XXXYZR4VFLEKoM+TaqaKO+QHSYizxBS09YcYs+niFWFjSgw4yYjfM8ReZT4pz5KIiqsNDLkQtPGeeeaYus0gOuWjUYbUwGYps4PVx+yi+5u3PHfbwv4cN/2+AzfuQ9c7b7/z5559rVk+jSoWEIsWUHMCMjWWI3RFiu8hkcbBC9LjcyeUQAI358+c/9/zLpzY887lnny6fJrhiNZCVk8kCPCUtWVdEB+k6X3n1zTZtz25zVrvFy1ayK4CEL1/qCfu9u3ds2vBHoyatq9SogCYv2cq9OKwp0JsorYP0YbS3ZM0pM6RGrEYp/QsmcRq3CgaRSjTlhekqq9mJaImIJ3O3LosVbtgqy4Pw9u3bEG7KpVegXKlGgLbu3bNv/R/rL+w2asW8GT5XsG2n859+4UWWP6nYxAdcSRaWIL57/vXvFs2ahAL5Vrs5c98+5m+5mccuq06rlW31Z085rdHd9zyA+XfrFk1tdueerJwnnxz59Vefz/9tbqMm0puy2lMn2MXo0ZlCc1HD+sNBtTRFAgFCoTi0iDjoiiw8IWNCCeE1JSVFkTfK0CA4wa+GCUcn5Pw/M7ycQdA30Pp9IYsbYfn/rrsh2+0f88nHHKngJCCfUwp4Xeed2746jFl6g1uJnLbqVapVq7Q1c68Wc0EMd8mCPLg9Impa+dS9+/Z4AkGb3SYaP8OUlZOblJLMQS6hABmQUnnI53fYk3gRlYjIZ8VQO+OFtuB0Vyrb/eC6tWv5aOa4736sXKG82fA0bNjw62k/9+t/fe2a1Z94/L/I6xiIYuBltwSc0RMsWLlSBxUAAOfbhGf4gihIU9PEmHlflqlSdTVwWQOp5ZomklI+y8awFAZ0U5H2QouXrMrKMzVs2aB+/QpAh3oLFoG6MDktCQU7cuCvv86z2NOqVKvbpnlThGwEQC5akdUisrFwNzxqVW/mak2R/ovBYrQdmltBL1BG5y5dIsFkgEOWnI0+2K9vGDlQkh5jxEJS99xzD6cH9ksWrZYK6e+IgyKx4K9du/a2bduiYYX/khaCFjlcEbYDKpTPT4T87lvvf2Du/Llfjp0a8Lu2b99+573/+mTM69BUspBVGRxdDCp83tykpGQZ9ZSQngKq8/Oyb7755lMbNv7m2/G1a1YCmR5fKMUWystHmWNyJMc6WqZAs2HevmPno4/8m4rffetdkzOp3dntBYtm05pVK7f/mXlR96YsglHwunL2PfHYfzq073h5795Upo6yyWpU4ZxKRNZmBlq9evXEiRP1KKWDCNRNimFVo52eb9K8xcUXdQNPrLwc9mSag59bdLh/FfpAxwROnHbUf9qhwXUEQqHhw/+VWj5l3i9zqHLwbXeKGlHiw65dO3+bt6Tt2V0u6XE+77J2C3q3bd5iTk6tU7cePNBqC/tz87fv2HP3w0/Y0Vj7s1esWp7r8nTu0q18xXKNGzfucdlld9x1J3nd6rZYKTRsuv/++89q1+ma3lfQNMASrsQalsWYaIvDq1atmjBhAsTAxEwDaTVPMIDDqluN9iRNNuz01ahWrfe119qcDuRStSRETQCgfNnE8sJzz65Yu+Gmm++oWbuaJuHbbrulS7dLsEHTJ27MdlQr+SZPPnqhPLcLRZpo0TnWHDLb0ao4HHAfh9Pi8rpY1KSlqC4WwTNo43Zaq1hzUSPzbTgMaxPN6/jvJ679fQ1NBGCclBXHufDTOv28/PLLTzvtNPrm59lzr7nm/6pULo8/nOtas25tclr5jmd3Tq9Yre91/Y30Gl27tMLeMOxniceMHlwyf/FHn3z8yIgR6TA4WDa6LKQK0RF5ETUYcfluFxI9rBu5TD5pV0YXo+My5IPkTVZZms/+dQE31DVv1TxZDqtIi0R6ko5lJKFcNE2c/CNywLV9r69QXuYFJSFZZF0rPoY1K29+am5V/PjAQCgJ22DvzJfvdqYITaM/sKpr8Ipm1LOcTHHK8UpPQEaQlw5keiSGwH79+nXt2jWWcr+iGH58q7lixYpMDnArdF5paWnk2i9Zwauot5BKOCyPcGBBfxJ0+1NSHCF/7htvvLZyUbvVGzO9bs8P33z7zXdXXturOyMwAmJBEX/hA3FwK5QnVksyVAkuEa379LmuRo2aH338ZY1aNRQPAMdyjIoJM99jSksXVZ1ivbA7Nh9Nr73+qtNpmf/zlDVr1l12+U2NzqgkYPj98+bNhxmcf0FX0T6YTZs2bfng/Y9Oq99Qc4g4yJhspDzF+mVHDFqHHBmuMW5FbAxROgG8IMh6EAxZzQ6ImMYzqihaS1NmZiOr1ydCdAQniMmGpXKlqhdccJ7J55o951fKbNDwDGL5Yb+/YtUaerFZy2Zo2dhpkENsgfCkSZPoppatmlJq2OdxpJd/7bU3w8ncps/+qJ0LfEIe3wVdu1PUWR3af9+hI1sMdnPYkZxKgoA/yPU+o0e/2uClM2GvMtiQT9QNi/Q5jeOGRVBKY6GHYDBA82m1piUuRNNtRx6n4UJy9D7CVMAHw7IJ70PUCakiDZPb9fGY9yGW7j2u5KCUTCiGUY5d9baVsUuRdKRE2mRAJSdTKRc98ikA2cuRMSNFoS8S1oN6HkWtlUOqsvlLH9MFELN8wtxswSgLaEVljGzlD3OeVIFaPMMSgJWoSOtw0ndmS//rb0CGEmCshjfg/fXXX2vWblirVh3Oq774v1fQoHMTEkf7GfvwH4Qy5n62Qe4cOrRi5Qp2mY6ESAATcOlWlqXAI0Ie87igUfMESVJKVzaGBULoQGQISJup7Ne5S8Bbx47nCOHxD6HJnARDMoVz4E8/T/5xyZJVjVu0HzRoENwKjsrROSzyZaKLOMrhRwYRWyFBXvCo5kSTxP2NCZBWB9K4aNOJlP274hwYh5hyc3M5k0X/qXEl6Rg5OJCFIxw/DKu4AiJh9CJ5KY30sWT7vcbCox4zmypm7uRjgFhMmEQEfS4O9znDvnffeeuSy/9vhyvcpEXLLl0uoLPV8dVovlL8FR5tt7DJZkPChxwFCY4bbxrMUcKJkyfZrGg+Tb/MXc62Yrt2jSkvJa0cIwQbHPx0NpIMpxnJxIk0TPsXzV/mcYc6n3eOcG8bPNYyd+FSNjobn346p9OCvlDT5i3X/bGpQoUKquel9+kd1WmRP1qgaNq0KYsFKJJQRdwRhsNrzIFqckoXUzL0YIQY66wZ2AOAg4kzm6iIKvwe6VNF6QRa2LQ1+TO9uVm/b91RqVa9008/ndLZ0TDbLT/+PI/VRbs2rSD9ZJoeDC1fuGzDhoyL+txUo5raOUMElXVVmtp0YxINrFixwuRMadiosZSPXt0itzBiEoDLd+WlpqXXqlkHFYHTIdKf2+9NYhTaHahY7cyNdhIHmzRpgk5AsSS/oiMhjDlz5sCnkNaVgCm0R3uZIkVgk1Htt2Iiw9Cmv/kT9G9ZvzZj665y1evXP6MJyyZJTEoZ4KjJ/PSjcBmNrDC7m/npKVX5WCUBVAYlssCEyYqezRdMTU2n0oiwYjazGlT7SSLk8hETVoM2ljXBEOf5r+1zjcKqLGulwYWd6koRPRhTepcpwBH6FPlsCn3E6a4FCxe6vb4LzzqnUnl7wBe2O6ROvosSCvqwmIHm4ZN38Rmohx5i2U8U1tc2O1yJM7Mkgq/6WbemqCjpXVIUA0VhmIq8lY1hkZ0ukMYGfVmZe1evWm+zp7Zp2YoANmqtZqs62gxHtxte19PP/S8/GEK6bnByOWFRVnSCgK6oFKwL5qhdaBWJS5fMs6Q2MH1rhrVv79777ruPDWnSwnFELVKcg5IgIIht6NCh5513HiyGVATSVdpPXjqGBIryhCsVV0xEQaPISNaPpClpQEp2YFHlcLySMcmIASE8bTKSg5aktBZnn9usRWvH1swJ335Zqbw+BF1stSUEyhqH1TTcSi6PlwW12frf/zzO8uCrcd85HSwDuMvB/vY773fsfB4MC9LnpEGFcqa9O3fJcJDVMxoWBSMpndbx3/5gszi6du0oX24N+oNu98xfFtSt3/C0+icRIF//CQXLV6kqnFfQrHAYYSWRASLchBDD0AI/KAKfMvzUkMCjW8KrDmEbmTUpPFd2JNXUxWUkLH0Y2Sgdy5WrwNjIzMyUYSnFcn+DSmUJ/bF+3R/bdl10dd8KqSSBDr0YpyxZudYVsrRu3cppQbIIsW0/adI0YnteeTH4/2n27FZnNKpQqRKtQCoRrUIohIyQnla+WfPmAAY3A74kGXjICAZ3JRIIJTi44VraS1QKV+9zmTVLOL0AJ1aPZz2TkUZ7IDYaq2c10iDIwEQEVaIAkbWqV5kdoRo3B1gl2dz5iGOmylWr16xTXtYkIE0QJPQp5jUabTxFJ8y63l2uJlouGS4AJlOnSCkh+pPTCxXKV9aHxiWTEaxUIY2DZV6PXDDglC+YyCyihhXxqlfUQwKjTveXJm8g19yKSHXGXnZxITuHM4m1MN3RvEUL6nbAidgtVYwScSDoZUpOJ0vFSuWoF6gB0MY8wP5aOOwQzIeRHipULGeX63elYio6sJmFJCriih+lRZIVBKhuE0luwa/zsnLyGjRq1eDU+iBQaXOhQrFro9PvuvdfP875ZcSTL/Tv10NlZoYLTJv60wdjvmza4uzr+/abOuG7ZUsXub15jzz26O7MrKkTJm1cuaJtmza3DrlPNtIZHMx79Jx4QhbREqhWGgYrMm4dgFvDqjR9qPKLedANkA6rgxiLie8YMsQ6hmTF5I8L0n2pA+L9cUmUVyvUUJxZzYxwtnPtSv6VuVKGrm3Ui2/OXbZq2rRpdWukeWT4l+iiFC+8QLddPBSphAIhPTWi33/9tYkTJ7/2xts7d+0JBvIz92T4g+aFS5beOOgWikayTK1YtUL5atu3bEZZxqXzNBRthkg4NiN7x5+YnjZo0KB6dXQo9GkIitzjCpzT9syqFe2s5T/77P0fJkzpdMnV199wNdhHHIXba20jhSPUqy6RJmgINWbiOyXSa5Ik4sSUQfQFyBpwKbHcERU8vYxW22qtVfdkyD1z3y46Hh5jN9ODZGTMG6vWrvEEzS3adqBSWUyySbYvc+a8hQ2atKhX/xT2p9Ay8+Hu776bVK1SpQu7dsjL3vPY4yPff/W1ChXTP3rnrU35gfvuv2ff1u3r1m46td3F1WoqmSpsGjPmUxaxgwb2g+8g/nz4wQcTJ03vcekVfftdK3yBkWlzyJeNkpIhQOBlCabJRtGMdKEmHtgTXUYfSR5aZxfjSSmB/wpNWu0GO7fIMA5WrVqdwVK5clUaiAchS/ipyZSVl/ftuG+vuapXerlyzDGs3/0u39aMPzudfSnFkFUWIzJrMu1gweXdl+Vq3KRhCgxbuJnQ2Wn1T87Lce3em1Ojdg2pGbZGJJMV1cAqINEiTncTHQfM8WOBjcdlixZ88eXYfgNua3zGaYt/W0KBbc4+W0Aw+7ZnbBn5ypgnRz7BetzmSNq1feuLo1/dmrH3iSdH1T25ZowrRsaLxbF12/bq1avWqCT3e9NaeF0EWUXgOVAAKC6bY63Kpm8w66l/3eE0WQbccLsrLOfj2Cpnm5IJZPW6reef35mdkdEvvc4up9wcQHAwe+fW5bff0n/qjOkmW7mzu17x22/LCD6v60XVatd76NH/7tu3b+3ChRXt9gk/TGEb1qs2b7Oyc4UIZNeUWTnuBzPDuFGZnYDiYh15IEFc2Vp3yKkFWByqGTm5ywpYTimzucz7Ky+9mJxWcfykqbQv5M+X/V6GqU5f3JOZnKbpGBg0HlotZfq4A02wOv7LD6umQIO25LTKZntSSopYTiAVVarZaNte7h4EDLfh2XvztT1POvX0bLXzLce8yMy2esDlzdxer3Ll5mc2AYx8jlIFs0c//R+TOfnZNz7ExOGV0S+/9twzTz/5VKWTm27OZYMdLRU5yS+mCVgV8HIA4ItrUCSMXJG8AqH6CR4CoUBmIHPjydXLXX/zvdgykEacpAH0PQP69IByxs9eIVwBcFx/Lpj+PVs6fQbepciPqTy0a/O26knpvbpfHAh7Xnn3jRtvuxcxY9nMKRWsprTqNXfkut575Vk0VYPvHSblcxY9L+v887rN+eU3fWxl9OhnX3h+1IsvjK5RvW5unpgyuDBpoN3SYiTCor1VQJOTJ0+88cb+brcLLOleU0/sIKTLKCqGNGkyxijB3Tf1ucRevvaSjXmqRZgouDO2b7r48kvuuf8BWkgS6fywsWb+rFS76fnX36CZEgAc3L7AiUIj6491i9nTGv7U/zgjSgfRKYD6y5SxyGLfTp4tR3YIAoSgumJEuk8aIvgrwcXojXjGDveCXHHJBbD21157LyvTdXLVyqfVrrVldw51czzolRefHXjHUBEsEexzdt/Uv9fs2dMaNW3xr4cel8Yy8OU0LmQog8GzL6NBvdq9rh/MxQDCJtTJ50gXlwBMscF/IVkUZXXr1q1+cdRIszdv+vQZiPGLlywccONgORYQyA9yDM9vmTlzZsumzebOXdaocRO4OeMJro6oum7t6g7ntM/eu8eWnnbn3Xe3bdeMaTIlvUpKucrDH344xW7O2y5KB9QHzFJMO0zl5cunyxRBNWqzjwbwJhM4M4JMCjJXyN8SHKxdt5l4nRdP/PxfQr6DDwY+BASuLkt3JrHcoFqEEBSvbOZ//93E+x989Ln/vX5Bt24mgw9Es0KWCbMkB8BaJUQCWLNaXzDDy3JLLhcM+JLs9g8//MTtDqalVXIHA8mpSdawLyXdmefyn9nk9LR0Vr/UbzXZU87ucO67X/ywZ/uu1JOrs0BhQWXmTFTQ6kwt16HT2eOn/bhm5ZqWTRt998n7L7/8sik5tcHpZ3IVsydn38033NDnptsaNmpSLp2+UoKCnhNLRHlJrSkUTu7ILK/L0WWCK1uSJbV8sxYtly1dAF0SDE9BGmEvCYOihctWVT/5pBbNzpRMKP+cyUuXLkfG6NCpI6WhsLEZoWpVK7du3Trjz+0vv/jyjF/njR79NjXtzdoHydx1+x379mR+N36qPcn+O+OcMny+Ifc92KlTpw7ntMPMwuN25WTuu/X2u/v1G9y0afO0NCdNdjqxfZE1nYiAIptoiAs1R79AV7qbFEFGFsUMVdkzpiUqX6TVkoE+sI4YOWrOyptvv+Wm/r2vctpCq1cvYkOgx1VX33XHXUrfH8m1fO16CujU8Vwhf+k7WW5hXoXCa+2qtQGXh+s6hI4itRjNmzWpVNE5/aeZF3TvaEfoUltc6sgEWwo+u1rCa5iLPmOjSQ8cnn9s3NK0yZk9Lr3otVdfYVW4fdduD1drVSz3yedffDdh0uvvfKYk4OD8hQs6dehYpUqVNWvXPTS8Jatdp0TYAkE/F03CBzN27N6Wsf3f3bsRrERJxCvhv3oxWxSSEkNikJXOE1q6bOGtA2+4o881Q264/uF//fuOO4f0G3hH3wG33DRo4MCBA55+9pmVq9YBCJODlpJUsZhI7mFCMAI5Nw/oX6P+mVuzsB0ztm7NSKvaYPio10QWCPs/feP18lbrhvWbxWxbzwVqSuM0hZoWZDZTIgaRys9cpk6ZQihFnW4OmIq50jXwkFIBGVOaTJgY6YlJp08MRw33ooVzK1apee8Dj2nBxO/JxpqURqv7bEqsUS8xdDSjizYKYpUNp8xgWOnk5rj37svcl8eBc1jYjl0ZQVcOCfbkRi+akCPo+dt/X1suLf3Ndz5EMBPYwF4IeUoO/W/asOrKnlc0bdX+6mv6DLj6UrQdVU5usnYnEzbzY27GqsVcDfbm2CkYnUqHiVmgwCC186YhO7inyizdrsARiDjQSyXe7I/ff7tClarLf/8DKU9iJRFmpbmvvvbS+199DzbFPBKZK5C3/Jfp/33yqQwWUVzGolMGQzlbdzw57NFHHhu+YfvWCJD5e2/sfVn3iy65omefr7/6ZvmyJc1aNz2r01mX9rj8iRGj0PXQJkSJcAgA3KtXLbWanN9//6PXFwZdmg6VpMDQk7YXdgKK/k2dOhnDUSWpYUcqTlIK8PLjAdL0KkRy0IYwoobL5Qm//Pond9wz7OFHn/jss09y8zK5u0roGyQro2Iq7d+3z9lntc92iTWyrGLk2DvSl9ufnTH8X/ec1qjN3jxduAhZfrmObV//qy9p1u78vbRfQRdZpci6RAcVboR60zBHwFYh0Bvj65MxH5/b8ZxLLuw+9L4hSBu3Drr51PqnX9P7un7X37R8xRp9XYwIvNzD5c9+9OGhJ512JoObJuS75TS2IhZp+isvPV+1atWNf+5ShBTFibS1bE5Ej9I7tejDjtWNMTC4AR2y4lMrOCRm3SnSZvYw1NiQ7xyDYb8MWrHNzd3V7LSTr+p7g5CX4f1p2mRTSq0fZi1XN2N4L+jQDttrV75/R6aLEYghuO5u6W0pR5evekAVG4ktPfRHPiXopz8ANMyVWBgiM9LCgc3rV53esEG/gXdle1VT6EN1Ux0UKS0r2WmKIV4rdPGwFpCmY86oSFe6gCrDBvjK87CwU6sPfwCOD8uRwrEU54x+0H/NlT3OO+88xRIwvAYwF2f9w3n78lxZeYHQktUbd+7KXLtoLkuJS66+kWtBuLCMIfHCYw82qFPrz7zg8m37aJSME2pXV27IK+7ADdBpCj+FFfJT5VCIEKwE4JXhBsAZm/+oU7fG088/RxDHJqQKuSKD4YuRuKBXWAF44A4fbtPgEiqu8mGFpIFhBsCnsJIvkxu5QwFuFgn51y5fuWdXJvGwofz8fVu2rNuyNYM5VcpXwFCaEc4fNfLx+vUaZmRkbt22k3mU0wIqCbDB0zQHjW+PaotqwO+/r33zzdd1Y/T0GUlH+aovaIoaE6rtNMaXrVojzZHVE7FBKpS5m+GgGIckyti2pVbNk0a/8qYqRtAlpyNASMjjz95xSp0aI0a+JGhRvJXYEFNVMGvmxK8syRXnrtgEdvw+QRi5cAq8ePgL+YvyLKK5Bm7r5i0YE3P5GlwWkt249veN61AJGm55B/1Y+8iMFszb3fi0U+4f9vi+fGPLFszypTvdMFCYhM+N5HvLrbfLupUi+AeLUL1TCIJSvJSZYbm5yARIOFLBHgEqKvCr6qZHwwEX0xR3d4VIohkZdynLtSGgCuC9Wxb9yhVzo998Mx8yCO17YvgD6TUab2f4GMbvqxexETruqy8nT5v51POj6T/pQrqG1SBXbcjdY8yBEK7wQoLkp0i3pDYyOaheJ5HYB2lHYEnpD0s4DYFtuOW8CScwODmR78/PZYHcqfMFOepEAk0NeGAIISSmA9eoxauYkIU+S9RYdDYED6ZDfg6mQC+8yrkmNe7AGZQBungFex6kPOE7AcSuJfNmVKiYOmX2ohyhFiJz/vx9fuvGp9RrcPq6bXuheKbtfj2vSrVYp89ZzHRCNm/+3oY1K/9n6AMLOaY35N+CzCjDUqSmqoz4DtyU+FgaQO2RQQsKBAtQh3xNVlfLEcP8UaMebdL09D/35JBUJaer5Q41yAY2RJgSfuBZXP7jd4dEFBMOhrqJyHyhPOBShTODUzijGTSFfB65OShHkrkZfqQBUYxnUovCUSQsV926VR8Z9sSKFZvuHfIvLrchAT9YvGghKWN/IauAYUGQ2JFK06hP0R4YE1ahfqou2i6MT5KoXsj35qjLZDirJNCq09d0uDRaSmNeCeS/9NzTZzZry7kdVbsAw091q/etl144o379TVt3kZeDPKodxKEdyzM8mRdeennP624kMRYV1K4P6AjL+iunwNagq6QaOWFvwJ2N9IcYAXBcCuuSY1A4bltDh4NONm/mxHEcwV/9x/ZhI1747tuJxAEYMjOPid+NO6neqYuWr+bSPjWmhWgVYkoBkIIi9ohbVpe4aiyIYNeCXXM5O69vZlDLc7Wyx8LFb+ZOcdlzxboW6uK24XwMHbAoYRHtC3A5gWnposUkvrBLZ6fYHPqnT53YrXs3ZzLnQt1ub/7JDett3fnn5KlTrr32WqqUZbxsRIm5lGwHYsSFOoAK+CPmu0o5VgDa/j5W47EFueRWLrJhsX/aw/nOEl2++oVhNJzDnXfjdf2C1tRPx01A+yCL+lBATBzC2BY5hOOIaqh4x2YNTI0nFIxej1ux4VmCfvbz2Mqx2JMcTmRddDSyl0QZkHQ4JAeqLRyXF6M2qkDzwplDa0py02ZnPPjvIY/851FORkuVRnD5ygUrVm86pUGzytUqu72hd959c+zX3zz/3OjOHVqyAcUmXNhi5/Z3TGm+GPP+bYP66zP21I4DBHlVe3zyXmYnm4M4HvJXHfFB60ND2MjiWMzdd96GaTX34YmVjFbPQHGmMFMa+4YAZ2anM8jBLDH2YcscKyM+iY2Nj4DHORg+cCXRzBs0BRpVH0PBtiAJlY6Rwh07JqfFnCRiGdu4Du6Sl/vwoTa3K09bCL/99ts33nij3cb5HsEW38VgwsMc4wB2KIwovVFISvya/LR+VW3uSh8p5KmWo0EzWZzONHaT6T+SsW2L4RVabuwnMErAuBIrp+1bNrz7ztsjnnyaMRLyyf67xhhmVju2bX/jzXdY0tatWw0IiZKRAbD0DDbnzpTnnxv1yy8//fzLLIwIQiEvdhnwZKVXJfmBXGzU0ArS8flxxjVl2pzlsQ1LQs9MRXbZ6pTjDPIZsSSYsMVmz8vLPvX0emPHfcUo69HjYmCVwy5sa/u9I0aMuPmW25s0bQS10h8UrNRYBwKjxDhyl97BsDlxK3OEnOGUyQBpFk4p/J8NKcQLuQ5RBHjmLGFaIhJIApkWQuFtSxf+9NXn+JgOjcCuqd9/snhtBvIGKck7Y9bUt957d1PGDpEblYgreZWT8gv9pEpiI5XLW4kOAqIMHS2FRXwqv/JHQyhMJn8FTFxpREsKCacV0cQRXyQy8ieSyydLYBrhHXLrgJoVy69Ys41ZhqKRFEWm5uZc/socy+3uTELFTjIAo2ZjBlPYeODh//YbdIsAwapBUKlvGaQQOUQrpUXK4HQaHRKRtlXJ0iIuszbC2X5/9tU33HzXsMfl/LORt2X9L21aNLj17uHvfj510J331G9wyifvj5GsSjQmRTDkXb980einR65csUzVgnxXuGS6kZ/Eld6BRgWS6k8az08RlDRW944a8K4tW9Y0atbq+4mz5AZ9NwfS6gAAQABJREFUqkB093AVsOhvsGYUeiKYza8AEq0Xu1xBLBgH0RqjiPYhvg+pyqcuiDEoSylIV04ik1RKFU2YCN34RIonp3vVyiUvv/TayhXrpTS5Cl2EMyU6iUigkR/XWtUM6UH55efHlK2SRJqjeplC1E/gEEJQL8AmPcnZUqW0om5FDMQCGShCNN/V89Lznxv5BC90qtTASXAlpCGE9u/7f/995FECWWFRKNkFJURLpyByI2+Fvh7/Tav2bdZtXKvrpSHUXJJT0EbitT8agkEo9KMAANcy4Fm7iBTPOlQcUeCVpgVyxn055s0PPs1EViYlt3pLaHDI3bfcNmgAoKmeJLtfkivMCK2W0ZV1SSg1qGZpFGq/rlNhNNp5qn0FsVFM0B8AiyMxXSafY9Dv6q/QR/xPl3sYnxQegR+yUIONEMEelIWO3McygV6AAARAoBFGAFLl4kuYcyBPGK2CXUrhO1S55FVrcka5IkRihajpEveokU/wyZC5v8znPVKpxKqfwlLEq/36JRokZBlCx4E21T/lh2m26meMnbVYhg03ZAhMB3D7xepXnhzs8OzNznvokf9wHEwNTu+2rRuffubFe+576M233snOzlYNlpKjUEBb6hepDX98veq1UEh87AH8CiRVR0FFCglMgDLC+S99Eli0eOnDw//DQk++DyKkwX/5Iy6aU3UGBcbBFomSwAjadYjKGYmM/CncIIGBehV40UrUX/0oCI8LLKtXoNJ5oiAI5FE/MUxJAgMc4fvvxo3+3wvih8ZguPxT8z+v06dP56s5hMjaM4oMPOLkT6QWiuZamDfeEs2aul4Z3Ko0B/HQ1cRlLBQQqVQgB1zQjqMfGQZLli0dNfJJbliJS39ImJT91xKlr39cBE1VxnXYQKpViRKRMTpgCYv0yub4F19/ml6x6oWdL0eg5eIFdpQWz5t/6mn1O3fv5sG2QC0JDJffmSwrL+iHw2bgz468Lmfcw3aOHbAes1nGvP/h4Nvv+OLzby674pKIZbmgWT7WJGeU9BpOrxBCcn2Sut4qim4J56QMh2nCn7z6yS1DHuE6j9mzv6nJWsifZ7KnsiKKJi3VXyEddc8EqVGQYveI2I8gw3pTkVbEPht+ASR/w6q5WKDjIdFHFIAEaFnY6uV8sbn+kYGwIdpOH3EiB7Nnmq+bySvnzOhN+o5Yug9/LHY/VKBPwCyGokhJaRAAmATJvO6X8vC+UgVQ8QQ8SsZPbwL24aolgovDVdyxX05cd0XaLiyH1X/Y/OiDD/00ddL1fXo/OPzRPVnum2666Z03Rm/dsuqWwQMuuqhnPmfmYSScruKouWgbOHvMiPKhSxPtlCWMigThGW41cfz4f//74ddff/vC7l1ACB0nNcCpoBUMoNQZDFHFyY/zlXbCsSdSn1cVBRPfy/G4XNOnTunS8bzBd96JUqJnj+4YHIg5kI0L4svWZZAOMGjjbPzcMcCTGmPcCpomAdwKssYdrR4EJL14BwBGqYYEaPHEj0mAxx0tIP+eejUnoi7Gue4d/dTDXjMp0ugJpiSQtBEfyUBgjFv9DaijH3XfASew8QRserYkOMsaXra5uqylH5vpZcTH8S0l9Zhmz/512arVX3/13o6du59//uUJk2eN+u/QKy7varJ469WvN/iOx7/9fvKN1/VIwR4u5EKesnNlEh/DSZZJDCmYY7GsdjkntXLJYjjdJRdfcfHFF2/ZsoWrl9gotXNRN31mhvnI5dEcR5Gn6EjFKBQArCgFA8Htu7KXL1++eO7s9VwiuXqd8DNUs3ZH32uvwtBRzuSoY/fxwFPCgR0EpMlUEzrTXexAEiHQljZJhbJJqdMcuMAjFAuQwEDheIAED4jFr8GLr1THxof8w/w0HFTQUzHGDcuGPYEKNl7oPmhGC1B4NHcoigEdBasChzoNBTIBFE15eEM0CQF/TMQDhsNY74nIsKSH4k9UwTgMy7sfftT1gu5sqPFRQuaFO++594orLzUZ+SwVU1NT2KvK5JI/hBx2nOTT4Vb2iRG02HyRC94sqWiIuL+DA+G9e/feuzfnozEfffjJR2xFYYIhDAqeJJeqwGqEW2pWpcEQ8SHMvo6crzLM8CUstgPIOaRD9vL6rd0u6tawXnWR0WQYI5ZJvtK7GJ+C+smln5r6Y7QOcRPF61HkBYwrLUlpwQG/5l/7tfQoQrgfJEf6VYtIdIrmXyAEjqO7jKf2HAAbut/VTrHMAbweRq5xgLYDp6Yu3X2x2fEAWcoUVbb1RZmKPjYTRxpcZNif37XLlb16uvbsW716fYv27foPuErgx24gHPp9/VokoUaNGsm+MvOVOtzA+XvEbbblYCSYgHKUlxtB+vbtk5GRQTLugEBTBbfi+ix1liJyoY1FTD9kYPLjLwYgctpGDDXk4iM5lwwl8qq82LQjYV19zTVwM6fYi8iu/8E5zafEMIKNar9fiy0QFo7aFf0r84Gjt9oCKXpcAZsejcCmOenBNfk4zUWT9VDHA6uiFTHGTSfCgOg+MAOuEGGEkkpwsS4mHm6Fw/P34JOqqY5OjFUHzCWAWebgE1XCUhohkbOQbdSz33V9uARt6vgvPD5Tly7nIRJh5SS3F5l9U6ZMsqekt2nTBuyy/qM7RHsOASBi2SwYqti5BIyzZkHjjbfespmd2KSwcetM5Z4/qyvfw1QJebHbI0tCssUp3bmaCosqua6RpaKNu55TsWSz+tzc9IKxW2q5SrmeULUaVcXciEOKhroPqYxdDE3Hlg96utMDAJLCE5uiY5yrjMUftuRgiLJiI1CPW8AjPAYkCfZ7PWzVHzMFMc6Fu4QhMxG39ewCBnQnEqKFJu05ADZ0lMYnZfJKmXomOKJtpePiqwN+XmMwH3rVJxzDgs/IrCT8RjgOb7LYwrhQ7rowFi9biwlf00YNuQwO4ziTEfhj9fqVKzZcdc1ALk1FvpErfpScI0eLleNiNmVUyaazqX6DRqz/MOqx2lMpjjmyeg22cpQ8xbtkUfVqEHQAk6gc8OXaS7ajudiW4+IkFTAxJapYjbvGefGz7GRadahbqSIVl+4PZBpbXGgihvr1KkMXoEeCHh4kjucOpavh8KSiXj2oNJCaq8JGY/IF1RAVex4tOA9Paw9YCs2k1bqP9FDXnQg2dDfFZqB45OxXpMan5lCaifCMzQf7JT6Mr9SoOSOsCuBj8B+uqksUKQ9jG47JoiB9Rf38gY/AssLyFaUfZ811Jldo16oFO3uAHQ6YJ03CdtHU49JusKUNm3bmuvzy/S5DtOYwIJRPWODrBtrlUj0sjuWybR2iyUX7S36yQQlP4+iAATtixci4FJjkwiC5vkJxWBv6Z7lqsORSSoqJJxQ9yHnGE7pmZzp7fOKSCjxy4QAGACAtBgYY0DDrSvHH3JED46iXrMkmvo80QjS3AjzdZfEJioUZXOnwogUWm/5wBWpoNavSZcY69NCrOGEZFqiDFYi8I5wJZw679u5Zu3Zz9Vr16tapYdHfvLQ4Pvrgi6pVK3XpdLbL477l1pt378mRDKJbEIdXFQG/Q1YFmQqf8J9w0OXKe/zxEQsWLOGNqxYi2qF4ZT/ZCRX1FeXAouRC0A3r1z//3POPDH94yg8TRNJSBgeIaFwIKKapUlnCJTBw4mLghGVYEW4V+QMBhPybN23avn1nu/Yd0tMxzpSTR+vWb/h9w9auXbrXqln1888/OOXUU2vXrSrcSpsrwaY0v4NbycVNCpmo4YUHhef9NmfUyGcxT2Czno8qFJhPSTKKEJ7HHIhNp3j4Z/CdroXXXXd9tVo1+w+48a03Xrl/yF1EOfkoGVbOKC/4qMAJ210gIuESGEAnc2IjISJdCRIsZu5Pg3VcdNEl8ioWQNaT6tTlTrLcXNeESVO++ebbUc+9Lh9rYMEHk1GYg4GI2C2GEZJJJCwUnHyBwmI5t2PnDRvW16pT3e3ma4ZcGy4pilolWJwUx5mTAN/mGHLPfWc2ad73+us5WPrI8Ie6XXjx5df0ad/pHD4wABvkTkNhWGqLQNWVeCQwcMJh4ISdsmV/EEf7Iyiw2itVr35dn77tWrWWozMYXIl0Y3z5xQfYYH/88bf/eey5MxueKp/L4ut8SWpNqOzXJTv26/xwcsInKEf/+WyII6VylfKE8Y0v0epjNCpVwvDkAzX8SKu1yNxVgT3Dn1u3zJu3uGmLdjA2X9B3Uq1qDqt5+qzZPvYruZsUoQ2zhiAaNISthEtg4ATFwIklYcEwZFOQvpb/2sFIhOdw/umyq665rEdflntciwHXYI+Qz+62at/6mx++4+oc+IT6iAPnUl1yuYaUJBJPpCT+KCGLT1zCsz779PMfZ87iku9zO3VCKMMyCwVVoYq1ISj7i8GwM4VPbrk3rF2F6t0ftsDP+J6CLS2pfHrywsXLAYXayI1ZDp8niYKd+JvAwImIgRNuABRwKtXdvAq7gplY+FyViF1BrymcghjDJ6iQgVjr+TlmGOLrZGZTil3WZUg7CD3qeitlZSBrNDk5oxaGsjZ88cUXK1aohGB1z933/zL31+Rk+yeffMElLaRhXag+ISx1yu6kwacuQ2lOyy39rvS48vhmmsXGJWhwRk/Imxf0evm+Fp+q5YM3fBeZetSd3GKwnnAJDJyYGDjhGJZ0szAt/kfaLnxD+I0FLgUj4etTyiwXL5t9cn4PAYkoDjlzHRzfCeerznArJU4hdSnWI4VijyCLtRyO8GRmDxg46L0PP+KTn3ArAjt3Pvfs9mJ3ilmoFAvnQt0ODHykAtvUgKvWSZUWL1/D2WmYHyUn2Z3BlFSO5Odlu+CSsE3+cVhFPvYRYbAUdgw5YBakqj/6VkJsYgU+mqijjiFgE6Acxxg48RiWDCycGk5RD2HoiGQjT8UKj9EJbCzWxM9n34Q5yZWWoiMnSC8kJVmBIl386RUq/nfEk4sWLfpt3oIpU56C18Dx6tapJbZW5MI8UtJHgJAQUWVxL6YruTzfoQw6jIAlwJdFLXlBc9CeUqtKtSQAsCDQcZscN43E5STzseEAUPiptEWwGoYVs4+q/OpzxhE/oCeY17HRY8cxFCcew4p0VoxhRd4jLET9ibIT0kQ4BCGihBenArW3mKcYwLNF+N67HzRu3Lhjx3N2/rm9Zu1ac+bM2bp1q8odLVvlZYR73b5qVSq069CkQcPTK6SnefNznFz1i4m9yZbr9jVv2ijo425fbp/x2m3JcIIoGMXUfYwExXMlYV3axYdGwxJ/ExgoKwb2H7dlzZ9Ivx8G2Pjbu2fPpEmTBg0aNPPnWe9/yCajMCmMfTE4xhyL2x3inJlvL/IJ7+SktDp1Tm7ZsumChXM500Dy33/fkJeXd36XTlwBz1XmTpuc9TkWDUdjW6VRRCjZM0JXBeRViFFHkyb+JjBQRgycsBJWGfFU6uSwIyxOuQmE+yEnT548ZMgQTn6de+65LAk155KSFAtjLSj6qrD6NIA57PV4Xn/jlcGDB48Z80njxmc88fhTjzzyyLmd2rBLCJ+yWrSC/5gVVBRrinClIv5SYy+RMIGBA2PgxLoi+cC4ODyx3CoTCLA5OGPGDD7/g94dVlXssa8o75ErbzmXw0LS53Pv2bNnwsTJe/fuPeecjuef35mvm3Fmla+2wLNUObEz14cH2MNQimpGpC38wfxCsS22NXGyE6r0dOpPQoclaEi4Q8FAgmEdCvaKycvFMGzm+fgmOEeX1R1PCFas8mInV7WcJTaj6N7Vt+fVsFa6Ka6Jh3vJLSA2LqjhGohAyMsVgfJZLyW1BEN+uzVysrqYuo9KkGJMkb2AeCaltibEBBeGpfysc4lPLA2PSi/9YypV4+Af05pjoCE2h90f8HOeHm7FhXnalp2T6/Ap7TSM+NHn4+RAsxjCm/hYOhIJ22pkZFQTRUq1sSYncvJdYlsPJzsGmnhwINA6bHQLtPAHV0oi1wmOgYSEdUQIgHUcrEqvBPU1RppzUZkwKTGk1w7FFn71fUmMGgwP39HkRJA2/5IbBO0mhDWHI01yiEUEv2Nsjok1BQYrQMpTrwThUNI0CRNupf3RZxQBib8JDJQFA/GDpyz5EmkPGwYwjo/yIDNiFINe2YFFyleHFrFxjXCByEGi0leulf1aXtO59HVu+OGbsfB4f+kLVyn5ZmOQzU/2QfkkqObRfu6M5i5Cvh5tFmmRj7CzsBVWJjUev0JiGRGTSH4EMJBgWEcAqWUqMl5CiayYovxLytFrKAlRCcvMsCSjcvAp2FOx6n+dhmeMf+EvpQv5vPrCQj66arFZ+bwwJ7RZEUdun5dbLilXnywSOBIMq5SITSQrFgPxY6PYBInAsmEAthJjQX+RUydF8NA/SU137NcjBa8qVcHrXxQejeamXdgEejG0/nArXomBefFUfCwCrGZVhETzlfav4lYIWb4wn86Wkg2nUyREta0pSjdKJlAb99OEhEtg4FAwUOYBcCiVJfIeLAa0DuhgcsOk4FaaT5Ffq+2LlaQILDb8QLUqFkUCs91iS7J5vSG+0wyzCvi97ClwuYWSEMPcSIFPuKQo7BIugYGDx0BiSXjwuCs2Z/yILFGgKFUiXbxeEuIXRqCCyjbH6JUgPEsXB+faj2epZVqJkOpcJT6lIeFJ478d+8WYTl269bii/2effbZk8ax69U7uP/C+2nUrWUN8UJqPd4jMxa076nachK1yiehMRPwlBspG/X9ZXCLBQWKAka8Gf5QrxYrRstXBd5NmT7AtLWQhcBWyuVd6q4NYCUbgM4e3b906c+aMiy+5aOjQoQMHDmzdru3/Rr/09dfjRr/6GmnkE0LqDmhWolSduJQ+1q8Jz8Fh4OBHwsHVd0LlinCh+DYXExSToXQ69VqQrMCnojX/ii/xL/yaPWm2BWPi1eVykQdjixifwhPz/0VxRaIXLlzYpUsXBLiszPzb77q7TZsWycnOlNSkDRs2Ajqbg5ErUnlRWrMiBSQCEhgoAwYSDKsMyPr7khYs0fAVvJQdAG59YXPQ2LEn86lnnm/evHnVKhW6djrn+adH+fxhX1BUSvyULdh+jFJXpfljSVxSslx66cXdL77422+/b9nqTG79wtx1+/YdK1auvuCCLvLlDBPKfnXjILZY3LTDrYiRhW3Zm5LIcUgYiH124JBKOeqZEwyLLjjwsCxbH2kGE/8slD8+Qvv1tmCBP9ojhIjjNRoS8cdedYLIs3gRCQtUUzAvc2/fGwb+uTf3vQ/e/XHit6fWqvzYgw91Ov/i7bvcEm0KhjkSZA7L9YRwL5BBqPAa7ZNL6NkFjFaj0ihxSSewJTlcubmzfp7Xvv05fGoDa6sfxk+xmJ0XX9jZleMOG1yAbw36ww4kLcxjYVriGDy6Dl5jv0gNJ/gfPYXoZ8moiCEt5pG08XkLlxBLhuf4dsVT//HdpuMb+v16hNf4EItavR3oEWt9hIUZoZFPPmFxJD31/JMtW7Vt2br1F59/0uGsFksWzH/ooYfgQ35ltooAxLJO+EmMpYqJgyZ0fbdhrODCnlBg5cqVO3dnntuxEzcR8nG0t95+v2fPq1OSnC8+/4zH48egQX0QluEkRlgClTae0B7tL1xk4u3wY4DO1L0pnuPYxQ+G47gZhwa6Zgr7sYZDK/KI5dbGB0Wf7APqwFjNYqPAWR5X7k/Tf5zxw/gHHxohhlL2JFNKuQcfeCDN7J86ftzcpRuxUocnyv3PGHliha74CVagirMQxSKO0Kh5eoydSTXEcs2Efd78Belpqeeccw4XTnCHF5CUK1du7NixrVu3xgwLmwZVejAclMWpGI5GfxyNlh+37ETP8sSAP2E9MQRHJOziEaFpVT8LUui8Be/xPunlf4L7hzTjn9AVR6YNZrsjFAjy4Z1ly5ao89RcIR+qWqWS1RTIy927Y/c+1mb+kCg47HxrDMeZbK6LFntP7A/ky0Hq8vuYZAcnU8xMGBqMhizmVq1affTRR7XrnezJ91asVOnLL7+sVatWs2bNrrrqMoxIYYKsBLEGUzO8slaNtjTGdoU5JtyRxoCamQ5JI3qkISxF+Qk7rFIg6bhKEj/4zdwWH3QvXbD43W8n/1//Aa2ansEN8Zaga9XsnztdfFWm35ixdF2r5qckGYbTDOOysIkoVC3sgz/Cv+SzQWIoryzV5bJ2rQQhNnpXDNoodX5b8sLjENVCshfJWUI8lCBCFlfuOKQ0rtmx2ZM4XkRJuljFQ6VCOXOYcAeDAd0jOif9IpqsmPvnITVhxRfr3H+IR1aCBY7LHewt2rR+qcP53LtMhBGWC0x/mv1Ljt/fsn2n+nWrQwHyGSCTDfN0O2xFmT5QAFc68yRGnV8mo3zHDN28lK1PYivll1U4jZk7C0PhsNMpR39Y9MGt3G5vSkqSOgNkhVupjyrK8SCAEPhEXyabkxrYQiBLBQmXwEDxGEgwrH/IjBQvWNHVUbbFAs/OYo/NQIQfm7AmI3d35tsffW44U4cOG1a7Ugrsw8v3pB0m9ZVWYSHc8iziFTM1PxgUT/ROYiuPmoyy5VJn+Sv/sefiYgY7PMkW4T1WlpM+fxBuRSwvRihsYO9uswS9PltSMp9Z1Jd6iY4/KgyoGqQ0VaR4lItJc9GAE+Lv/hJT0UZH0RaPLpGttNM41GliKaOR8VliYceT50RnWEV79BjvPQw+S4JQ86yYYgiPJSLDyIcN5TtmYT8KrGdeHL1q4+anX3n9ysu68+FFeIo6rSzsCOYEQmSxJlyKaxf8LpdbriHkC7BIXuo6LmonTn/LC7/DZvO6PSkpKSz3ZGGn2BYsTDL7/anJKV6fO9lhV2osm8e/x+JMS01LT0lxUltMsCrMp0pqXyK8WAzAquJ5XLFp/jmB/1iGxWjhnk+WJDEjb4YcDpUKh0XsjiSGEFIDA5S1DvobrXEWbYwauaSMXI959O5vAkJ9BlC3heeGDRuGDRtWLPWREphhZ0lJSVlZWR07diSlXJzg5zNh9mAwBGdBHvrw3bdfeuOdl157e/CtN8EmkKZoMQJVOGgyMDkQfiOiEuwGmcjjdbU7q/WmjdusVks4ZEkrVxH1FLVwhYzNaTNbsGEI2Mw2hbQ47YlaNhII8j1uF+ilfGqhOpvT7vUbT4wcNXTo/cFQBOdo/OXWwsPkWJNyBojCgE1WoMoDcjQZHKZKDkMxIEd3GU8NKt2t6NPKV0u4nwc/cwSxMRqOtYjlOeExINTuR0FKssmkpaIVOccS/hM8/2Slux7wMqjUtSqafKPTkYVYxis3qPPhLXpSd62obQoWJkd5SRIbezGSzcnJgRkpGPd/QKZ6DMCwOHyDYUGNGjX4lLRcYRoKGnYnGX4Y++Wdt9/54hvvX9HrMtrMBfJBwyLMwg9Pw0pKHdYxHIwF9FkwQM7VPPf00w89+F+nw+rzG2c2bv7F2G+q1qjOx6pz83OCYR/CmMPqKJZhuV35wJ+xbcuqVatWLls6f/7839etYz1omGzNWreeNWtWaipfp404fyCYJOvW/RYsB49/PWjpevgU/mONW0XbLTxd8xZhMTGBU0ULfTJ3qnmIJsQ4lNISCjuiUWRH/k1JTeUdD12vaT5WflGGpRlZLMHx5wEX/0iHPELn0TSoNtZAOtjv8+iNeTqe2+YCmAcZhi9k8ORHBvnJh2wQJtSIjmX+2z0CIGAoeA6icsFAKGCEvYYvDzRMnz4djjNtygx0SXzqIuDPH/boI5NmLcin+XJlFtX4DMNP+/0+cIAO3R0OZhlG3iVdz4aX8LOa7EPvfxR0ApTLK2jFKyiOugj2FA4JAwApB6sKr4dr/X6aNvnCbl3lblKz7ZMvvqLOAAg2DK8PS/rD5hBP6HFVtZRJV0Z687DVcHgK0j0bKwsgNdjQJNgQvV9hpJAAeoikF5rlODvolcQ++kpsduWHJ9b2WOHaQxS/492JwuIf7Nxut24dnR3lXNLTdL+MZ8Wk8n1CCPpHiNAKchc0EA7KgD82XBz8xQNEAhxxMXpVHuB3G0HXumWLr+7Za+78FcKbwoGQO9Odl9mpS9d5KzfDsFzyrQycNxT0II0JEmQwEJpnhDJ3bFl1xik1+VaP05JkNiV/+vE3lEG5+eGQJxRgjMQc/tiP4hQAym4r4OdiUuql4DEff5pSrnyXrt3Bs8a2fioADttDug8I8/PhX1FIDlvhh7cgyDJKmVLwfjgBhziaE2NwgYCP3vHxxXCv0HZOvleTLsglLxOwbntRIIkVpBzn7h+7JKSDoQOEZIRe/Fp+Rq6GB/GUeZ6VUEC2rFgTITlHhGd2ycIGIUo+P/glyaFL2pBdbBWgS4PSgIpnsYXvt6AgDSXwxXuLNezKzuza6QIOyVxz0+0gIHPrap83N2O3a/Hq9QsWrEhLszmtSs0UcMnhZLMTrNhZG6Prc+c6UtRactw3110/MN8TsDtS08tVnPzjtGbNzwiyusPQnYRAFLfSiGJSFjsCg1rXCMyi1Qqyn8hHGy+9uMdnn31y8cUXE8yARNsoCQ6Hi9VIsQ8//HCPHj1Q5x2bS8JYFzPTaL0bMNsdDr/S7gWCIadNbNk0NWoaFuplkRtgR8PLyaobBg5u0ry52xtMTrKhE6TXmEEc0nkxdzRpOAbEYfSUOAAOYx1HqyjdxyNGjNi4cSMKHcYPAhdqHZRZuXn5fI+rUsVqnbucf36X84BQbdTLuGO8CTMThwyAYj76psP+rmeMmnUrSlktPFoPThqLC3EjQ8B9xaWXzJ+zGEESVRUmU1YLszDNtHS56LKxY79JTULzbgr5Ag4bR3OgdbsyjDcFgx4xTw8HBDWh0MMPDnvm+VedziRvwOhy4UWffzUuNdVKOU4svYSVFgCo/cwCBU0Q4yx2ODCOQLsvV7+//fbbc+bMeeONN5KT1V0OBbkPg0/Xe/PNN8Px33zzTV7hCIeRJx4GEOOKiGGJMOw8wB4rZbaGwLrW8YHa6IwbYEEk1ifKnPebceNGPvPs51//UKduTQ65s2tEd8Dd6EI9t6lK/mkM6+iMxrj+OlJeJitmLTSRnG5DUf3dd99lZmY2bty4ZYtmfEee42xp5dKnLZw2ctTIc87t9NZbb51yyikO9TV44VlRg8bCI/FIgVpsuVq80pQHTTPgi00WC9SzdHRjQcQrsohNlNNxRpOmtWqcXiE13WT4AoiYTqc7EPa6/Zd2v6xCshQMobN/h5kB1p7YjsKnUJmnpCVj9IDdqewgWizDhj3428IFM2fNZ0d12tTJI0c+PWLEMJn8BYIocHp/UMGk4cFKize7TQQov8/n4HONNllr97m2dyqGWpE7G+Rb2Ta1LaCyHtIDlg0SXnjhhSVLlvzyyy9aFX1sciv6aMWKFRMnTgQ8LWYyizBDwrZSkpP69OmThvRrkwsw6CQSC7diH4SltddrT0q66sorFi5ZOmDAgAlTJiPkMpLpDhbamPKCfGzj4vCo2ZYOiG11xMUfR16GxHHu4k+36aYo3aNar/OBqWDAE3TltG3R1GRxjhn7tWixVZTHKzqs9z5432ExN2nS5M8sd7ZfVDMEQhzHAk4guxgkzLGlBEln4ckYQGfkD6Bx94slgstnBFAkoXIPiaLd+P/2zgNAiiLr4ztpZ2YDLEmyZJEgggQBFQRUBBMGkBMDmE7RU09FzHoK593pKahnFkxgwEQwgCTJQXKULDlvYncnz/d7Vd09s8tyxynex0IXQ291dXWFV1X/fvXq1at4ERJ2kxrBcEDLeak5+UKFWAiBfTSODChKPF48tOKnGbWrl2McuJg5ujLGjJuFlEvEZglqFWsLSUc2HiLgDyB5l2hGdjqaKD0QBM+rHpRSP94w0k74ikXTwSoOaeK4hn5eu7JmnfoffDyGGmgXEHEPN+a9KpWqL/EJlA5jZCSPJCQpZd0ndEo6FyPZ/+YPL8q7Zi4iJyVk4nffs+mywzkd27Rry9S1TZs2Z53dkV+XCy/at/8gkUXSJ70xijxV/gQL4yFWMORsongkuH/frgYNGvxz+KsiboxIuYnDTzmdY4mr8azs/hHusSw72oNhydCiXXVT0fnUOpaMJIYTT/N3L51TEZlxpTo/bT4gK2AiVpfIrKrEQ4V/e+gOBF13Pzp0X0yGMc4SguplFwlSb6kLN7oTSLDpLxaiFyIRN+ihaK1L6hcOvxYVSbYakVjjwg9SWdHgBy0/Hrrvf+lAvYgqMtUGNaROekSSBxyQTpw0DY/1hwAectU/JYMf+crQ9JQUZO/Mm+s2Pnvd1oIiVlrBvrAsXJENcSMK6My3eKgaiLR0gjp946rpZl4lDakgqRQWSUMVhsIBaSTVVIVFuolDEQVwsXigiKykyfjQYLELoaV4o7kP3Ht7veZn7SqQgklhpAZ48+OxAn0TCgKUTG0BUcIFy0iZvGHHuESCOaTDrbwuBTIbWWpHGBguV5xJMwXxqtuoMrBio2hOfEVWubCIEZPFUN40PxLUSxVBZS0Z0TwsDVEg6cnRYFDqK74ApQ1JySRLtRZIbCEnKYT+8vC9TRrWPVAYJZIulmShUlPlFt+J5Mo4fyisbILdxZeQSCtfJB5IiQVXLl1MPRs0blq9bkXmMAgKNAtMQ6a4nV06tsn0pHzz3Q/ZBUqIEI1h2JcPIHGStPP0G0dxNQ98VntZJD5iVHrikd4sKCjy+ZgRSI8lDp2bKyIMlre0X68b0JU1k8Xs4L90bMdxiThEhCJi2oVpHNMH7tTkV6qJI02y0zmqAEVVNd8TmRRE4+SbWKz/wDtu7t8L+iGn3/Lzqj/dczebpZn2ud2yeZoBLU2gJ9SJliA9daNDLOqrbKwLs0I9s6QMlA2aQIlULEi4nDDJKcjfZCUkJRCmdUQfmJy8XlcgnBJCnY6ZVIrSw4yEAgf3fznms2v69E1PQ9EsBQlkRLY5UjoH57xKdtilSPXyUsholCh6amxOonSoawYCRS6MDapdQ4nuxDMpvMzK+JMqEcTRJvpAIEtuqCfyuoGIoOOruIouQkjDAcWSqKawxJR5sWwUj0VcMrN2pqb6ZLYeDjtT3WFYY10ELdeSUvAKjRrr2/uqXdu2fPvt94SoPitJIra3nIord2YK1pMy6TkBAEtVQTV9scqo9kFozNCcOWchW3/bnNVSC3jpT7Q0vY/+wanLTZs0Z5Fq8/IVBw/Sh8RYE07Dh9W9jty25GllSz9jIMg6hj55ge6roUr341ITSU/3M/oYAyxd8ulmoBIN/GLw8Jb65kuXQx6nRwWJHxPHhJFktcyLXIAAyEKOSr9fBoxVWqUXCsi5ZRTHHC8O/1eDhrXU4A9P/Obrl158i/LJE1ZcnRykiiUZGdnm0CQdqCh0NkIUUJqJa+rJFRkW1UeqJY0iB4UBIVEeiAQaRVXUStGTxEyO0vJ1ItgR+VeKz5PCuWLCa5AjhXO7Z8yZv3N3TvcuXQBAKoMT0HN4Y3GOZUzTYzoUcwOGPpdPATnTWzcdQKORz+ePiF6YvIhLdADTh1YB4SIGFeqJvA/S8TkxsV7qIkkJzMtqhKSCk++D4A+PxR4GqIfVCnT8xeYFKyMCWPQ89BW8Tgz6SNV4wOqHQ2289Hjk9DSzCIqShkjedVqLFtWqnTJu3DjQWW/S5EXtkWxOOKeIdwLUymxMuob86BQKd9DfpunnLFoaTHG2b9eWijIroovggaGX21AovxDlI/luZu8/IOep8zjOqBMmiw5nJMwfNdLUrcpCIpbiSJa1Nrgq6bMAgGLSLG7r8Bfo0mqICvugjyAlDrkzLcUDe0U/t/o9/mPlkuXQ5AIakrIeh1JIo9riVU4UgVLcPuFYUv1vvv2uD+V3mKrwoWf/8uSCBcugJatUgIso1itamS/ylwVDgyWRR5C/NEcdwWj9ZPu2bR+OfGfU+yP27N7NEff7D+aNeOONcV9+IVMg7OUIB4c+hUNwQrESLgc45sLGcyQYnP7jnKwKWafVr5eB4S9wL1wo36bCQDDoXL1u88vD/znzx6mkwHusJQiAxJ07tu0OBISbZm5Oad1eP2ovpZVR+paGeL24SZlxNDHtxdX6oug2IgUQXCER1TYSFLoaFADOHD/Nmfnq8JdWrv6Z8gB+LrfLEQ+AwBs3bgU0ZYGaTVHAseC97tG6aUhVEpZkI9H27duzkSA/P0riuttILieoK71hylRlE73BKLbZXAJJjujebduWr9vo9pVv364N3IvsB1bmgDVMuFypmzdtLaSjyldJvnnaEQmg4Hd0pICMZo/U08h4nAWgzZs2rV27dvWqVXh+PoLbvHnLypWr9WqalRdpWOt9BFofcI2hepz8xivJMpC1tE77uRZTMoCMmpIyQ9FKYfADqW5fRofzOj/99JOueCQ1JVyYd/Chhx7MzSkUPSC3IxTWFIQ3gPhwGoIIpCwuKTUSVD8JhsSK2g7NTo4bO/aeuwbu2rlj0sTvz+983qjRnw+45bZ9Bw8Mf/Xlu+66S3YH6jaBF4OVU3NDMoDjY0XU7fWuXLOhWo1TK2eVI6Ijzo5I4sewEP3jzHmDHnps88Z1V115+adjvgsERYmM2eyEr8afdtrpEybIQhvn/ahSOpl+89Ast1lysw4JWOeJcOuidiAPyUo5HYhXfRM190RiIowQjQSHEIcWR7fjb0OfWbF8WY/LrpgxbxUUYZMBPXb4P55rf/a5cxeuA7OKQmGHUxZw6Z1uXXGyUfNv6ZvQ1uM99dRTf9myRZcK3KRAVjdWhTqhLuanr6xWyjQjd3j5aWSRXMSWL1u2Nz/QpPmZ9erWprZYfEIY7nF76VWsIqW6XGvWb+Jbi72BU2tUl+4nn0w0d+jr3KjhF3dqRktNl+h10pOln5bmZGe1x8MGuueeew6NClam6c14Ur2lKxzRcdn399e//rV+/bqMPmBUX0kbMZaeCZKgXvbW3/DSsv01YVBAw6JOHPyiqGo5XKiKM+ooY0zLpRxIqlO9Hpcrds+f7l42b+aYsRMRiy2cPXPw4MHvvPMKr/g8TlJjDqdcYsjrewVhiqSlsTAweitXLHv5pRfffOP1Bo0b5e7b16Fzt5tv7P/eRx+d367J66+/umTt5uf+8VJmhldKxvCPhr2pfooaCIT8MpUOFuYXbN6289Ta9VyUORbxsoGbFoxFt23c/OQTT38wamTV9Ogrr7/75dhx1/btkQILG4vOmDaDvUGZmRmAC3VhMo7ipYjJVPUPq4DUw2JOoZgABDJCtWNR4xQhxAGtICZKfBSPwhr0FPEeXn6xJUtXfPX5VxN/GDv9h2lvfTB20g9TL2jfTObdRfnTJk/OzS+oXqMWvS4VQxd8sMIokRokTCRnBmDfFc5q+/btNbIapnvdUvIj9U7zlbL71yJD2a2CiVlqTOmeQWWkb4iIKoaCYtzpbdOxE59PjDwp0OGh9CrhtqLRWfMX0cbnt29/ajUlIFGUUNG0NIsBZvZbJSlhvkmQemY8IlOrh8hkMCWlWfPmI0eO9Pp8KB/Rd/EkElHpJ18oDXuBNE4hDGF6oZ8yMBgD9Hu2Cr/22mvqi40lTwMMklP4FX7mX8AoQ47B1rBhwyFDhmipGWNJxpNKkXIgixdSwisw8B0ImnyF4WiGx5Wa5vvnP4YuXrRg9fbsFI///ZEj0cDt1/cq6KJk0lBUNYU1WCVBUtUJJ8qbaC+eRaNPP/00Cp/16tUjBotmedkHK1St1rdvr49HvrVz9/5Lr+6LXRrmntK4NKXbmZuT7XT7stL9rH46YhHAYt/+7Dq1T6OARGAGKYYlHKnjx489v0vHhg1qjx39HiWo36AB4qGUYIDSTpkyrUqVapifB63YHsnybPAQpgfTdAMbBTVaVwR8sIEAK5vQ+cwASqAzDQfp4FXJnVkeDo8xo/e74Tg1OCtjP1SXH63teP3119G0SokE5s2dRd9o3KQpn0+Oms3bu3fBnNmtW19YqXIaqxksboRjTi+W+IVbUx9OJZpIUDAWE8ByuXbs2OE4oxHhTMxhdRMRTixf2QYsq7tLo6g2MhrKge0mNewDRYsXLUlxeZueeaYw1cgu4jGP28N4Ylx6XM79u3bPWbgE+Xv3C84HCRgJrIa54xicI7rV6vL1VclJhnSc5Hy1n6sRmyQkHQ1SKahKStnUCBPPYY4n/DRIKcySfHQa+osNoOzcufOLL76QoWBudjksmV8ZoFUWW7Vq9fzzz1NmwNGCy6QUBWUkb2Tq0NAjchmU3E+pW+fVl1+8qPcAGACHy3/vPX8+o2mzFmc2BjtYNFSvqylhUkKKchZViz2AxOTep0+fC7p2dnpSUb1f//M6NH4v+0OfolBKv379alSr3KxVZ3PCDQrE87IPdDynW5t2HT8a+a6DyZHbnbfvQCgY8aWlO5hFhSJuZPLMpSLxug3rdjujOfAy6uNPYXWv6X2VMCw+17aVy9b8vL59564VyvspAFW88ILufBKmTJmimtssYaLITtBq06ZNjz/+OJYzeMytrBWAJYrV0omQDrN4aFuxUqV/vf4WOMd3Usn2VGMDe7Fo9+4XX9ytM0zhZ5994qtS5ZzzOovecjxl5YpVhwpSzmrTKtUnmElHRTymyiETSb4Z+GXHQJIT2Z+S+iNXVF8gg0FOinLieMs2YOl2oBfw1QkWFnrT09SYN5uHudiB7JWr16Q409t26CjsEU2JrNXl4bPIZJAhMnXypM3b99Rt2PiGvtdEESDQ9MAHj8RUuZidc+JRPUZGaVS6ZtztIQ7cW3KvgUMSaQ1di5FEt01yMA6y/0uBUFKw4RUgYDdGWFblrfmgYumN5CnDNddcc/nll2tJFtEOT+RXhEjVVFJkr2X8XHGHJWXVRfJF/Evl1NETDEFnl8svHzTogef+PhxNpJzs7Dlz5gBYKhEG2lE5KqkRH2E9mh19rr0WBQpZHvO45s+fj1AdnV5meywGXnjhhTF3JpEhJJFxTMZ6XX7FeZ26IkGSHaGqRvwNB2UBFCkgIShiMe/t2esSTNlv27Zx2oy5TZu2bN6sviQQL1q1ajmC/BYtWwvbis5EKNK5cxdy1DSWBtCFk+RwvCTUqF69+rBhw+CtJEiiymqg2b6qZBJZHG+TMldeIzXFlRPMGoHn6quvQhd9/qTJa9Zsv+qOQVWrGBg/X/H7LVu1IB4cFguZvEifLcg9gE78BZddUyGLHQt8ecOi2y6dMyUvLw+2lnYkI5cTLRCbwxLiH4/O6u5ghBc2XosIrJKy9WHVmp27CivXbdyoUW2ZaSmrcYhUPS5PMBT1p4TYzoa0dvDDj1aulEnXoA8qe8KgFVyXfHL1DIkpZDAQZfMcI0P6rARjdBPVIQ8TAEJkE4x8OMOwG3xa2bT49ddfwzLoGRzziCPJsJhEwEOBR9gU5jNJvwe4JFsTUBgSfEKtmSCRrfodEw8ZUU2p6ZGcmtLAXwWLwm4/SgB64EFNmYSzBffHeYvmzf7pzjsHDhw4AMpQa1VGEjS4CknYSF7DfLFRbWVMLYvy8/wZGSnwGpHQkmVLER536tRJQEMAwYhI/cMhtp5EM7Kynn322bjLI6Tnq+B2V6hQoWKFcrIyKCFs3w47/Gyf5IPGy6FJE8fn5OV3636xHx0JDpCNB+YtmIuaZecu54uCgRN2yf3s0L+QGx8kimA44XvEqQApOUsTNLEUSM3+NGCZBLRek1d4Ub/La/KmPNQRRFoFsz9x8mQinNOhvQ+DsAQEw9NnLvB43G3ObsNc0q/QKqqslQGR/3zphe+anHF2mza8yEdXiIC2Q0jZKQyFMjMz5UOJFF5bVJT8T0B3+Be17FVSJjKiEslXRw14YaVUL3M7Fy1eweSQc6iyMlS9GJaiqyB9H/75+aHPz5w7/6ZbBva/pR9YhoqN05+2bv0vwZxdZ7Y4A8Zt5crl2bu3t2zdzlepKqo+C2bPBHcatD4/4kzxup0gDSmBXPR2MtRAwhyQ5fX9+/cjd9fKn3Rl4AYz50egLCqCqR06dEASwbq2xg34RLXaY7xBCsccp6zCWCwbZBGULAmIjCOBaIaC3++Ew4KdQaPdIwMaFoYtI5Hc7JyePS8ePvxvRAoGo0pVimEoIzTZEWTM0w97JFkoDpRq5mWLeAgNg+mz5taoWat+g3pqHMrRO+vXr2vQ+DQKyMpAIL9g2YoVzVu397DbUbg9Ea9ThZpVKx88sBdLgeqsaS/8mnDIQtbQkoXznS5IfQ4lQzSE/Hv+osUZmVktzmhJOSPR4Px5i+rUb1CzRlVZacOpEnPR9Zf2pfqw0sILF5Mkmmil3ip+4XWcSk8nwx0poWEX8nvd33//fWaGo/sFnUVt1hPLzctbvnpj7fpN6tSpw/dV4hHbIzS/+fbbe1xxWbOWLdB0g42iHJ5URBdF9K0NGzbAYcH3Se9W3KbK88S8lHnAoiswzFBiYQsHDSk9E8Bi6hdGNzo+ZcYcBBnnd+lEFEaE0ocSpogZy9+fe/7Jx58acMuAYa++jFZ5WqoDSe3mLdvfevO11ct+qlOrZvOWrRHoHNj+y0MPP3rn4GfWrFjaolbW1+PHVTrtu5eG/V26g3xj6ZDMAaVP852X0a4Uc06tU+epp57SAqzCggJsQh4+gK0OxXyQEUgJKbwWuit5iPFc8FUNZkYFTvutd3+1x0qTFEhWX8ELPcBMsDGgiqdCPeoApQFnhysSLBJ7x0WhK6/qzbf93RHv6DipqGfpgc69dpK2doZsJREgwcYwpjywpX2uvmrr1q0sMnDdsXNX524XZWWlMXRRsHrmmWfSsqoNfmQwJN+3f88bw4et27hh3ZbHf5j2o1M04mVNGBWqRg1P/f6HGbkFkcxMt5+cmFWiPkbbpjg3rFtPV2HGx57KFE90z47di5ataH5mtzQwwxl7ddiwZSt/Xr1m/ciR7zU+rYH6/NBp5FMETeDYdAuqRjBqQGoUW4doGhoVLf6H2KCpvCP/DdKiIVyYl11YxAJlZoXMNDgstGVXr1q7K/vQZV16ZKRzHhs6g0G121nmuzVr16tUrSbbyEkjXFTo8aaFMLCRCiKHN27cWD4riw+eLAqU8skpXpoyfmf2zDJbDSTFXk8qvQnuirmL3kESYwEoGkb3ada8RUWBSKOGdel/BYUFgUMFBw9mjxs3oVuXbkOGPPOXIUNeee11r8/l9zqZykGD90a8cUn3C87peN67731YsWLluwb+6e6Bd+7evfvll1++7777r7/9tssvuWTUqI937SuECYopa2m8pcawGtPStWWewDYLQ9yOwoSg1REdCCX8AntDlLP6PSMBR5hKj4+6LJ/rWzy/3UmKKk2S0lmXuNL5zQd0ErS3pTD4JDpidS8jyn3TrQN37Tnw/vvvV6hQXpVNnpIgygHJqfGmvGy6ErfyTObX0WWLF02fOWvfwey0zHITvv8h7kqtVbceSEOGmzZsXL506bV9+rAExv1br7/WtGmz6/5ww/KVaw4cOEBB2b7DYRqgSod2rXft3LHvwP4wHDKzKTRZ6RXIe2KeGjUQC7gKcnO8Mu13jBo1JvtQuPHpTStV8rz66jCXO86y3fLlyxFOGRyWWWAqbJUfolnB+IF4TUaQohQnzL4imuCdJKKWp4WemN9Ly0z3eP1FhYFYuJDVwFiwcPTo0VhYPL/7pdCPIrL9IUXODSn88P33hv/rzeyCgCzVpoTFgBlKcMqsNYKuXbt2wZGVKyfMB7w82aiOYxXzxPLogVGWr6LwjCSCX0F+QDaExkOPD/pTeWdKpTTFt3v9voo1feWrnnJKtayM9CpVqrZp0+6Pt92OYidSXjbmslUVu1EAXyQamDdz2p4dW9u1a9+j5+WySTUSXTBtYqbH+cnYSaQfj+Q+evctp57eauchtb8UxML2Y1T2Est2VLXBlb/8EGZxxUoBP3kiBglKdwAfTn2qjT3PAoUyzxRX+jvHKJT0mUGofIyLlET9VA5SEamLDuEPd/CxoSB2Ari5/+GH0ytVmbNwMXUvQqBCfaOhAN99oWkiFVoGXW31k2Ai88NjZsHuZOO3cuki1Kkef+wRNCp7XnLZNb2vrVqrzmfjv39zxPsXdD530rivpLTxeF5ezpwZ06IF+R1at+119XUURdMfc4wktXnFXPZmv/vxWNkMHGHfuBiWlbaLBWZPneD3ZvS/6dZ5s6c/8uA9Welebt95fwIpTP1x0sGcbdfd1K9Nh3NzsSEmhUMjggSlqGym5ydh3EiwuOTWSfZLNNMRXf+kjrKhWroFIcrhDXz4xsucszb4oftnzZx6x43XCEvorTZx3kY6DfatZbd2JPfFIY+NePO1+s3a3PPYEEy8sulbNmzTY1X7FOzaVKtS2uNDX8QoB4TFka7yqMeJ7MySqDhl9wIYl22nsSA/LF2BNokUSlvv2rJ245I529evXLth4+KfNy5fv3XVui2LFi1hpXzD+i052YfodKwl0VP5KVvmaEQCD1hTyd2wakm58pVeGP56UAyuxP/1jyGV0n27c0O53B7a27J+1WsHDMyjy2BiQXphvCCIAo10EQuwNFpJ146BZ9qEvOruR6A0U0L9xDIDUGpEDSqlPvp1gaUmaAwwSZFqCdZQNRkAWFDIycO8g9ioCQVe+9craZVP+fy7H0CnQo66J1oM+wrEV0NEpyI3VE0Qgwg6TKcmT8QJxKgfxgywuRD4cfrUG2644d777t+xBxYp/tcXh1/ap+99Dw5as2RRHFs0lCGAaRzQI7B2ydLK5Sp+MmacakRaX5l6AGqKdl3Zo9OFV/XbL1YQ6AwY/hKYJavCg/tXLl9x/XX9Blzf98O33+zU4TxnSvpPK3bmUYd4YPuONeUrZ734ymskKO0qeEGq/JP8BLB0BcyiS/GVg4wavxQ9xU6D9cO0gorOu1JBEiFxKKACQ9FQbrwob+7UiVf36nHXH2/88r1XqlcoV7Xx2duK4nlgm8Q69PPSaQ/f1S9v345T6rccNPRVCoY9/Ug0OxY7JF+NSHzsh28BWMvWbQOghbY45VGUl35llReP5TeKXgb/lHnAUg0jPSzAp0+1p3z/sd8UKeTwhSKOFcGwSEBaESfLcIweOqj6eBbQiaUNuRdrCeKNBcZ/PhrdlxlzF3EfDYZ6djm3e9fOuQHJYs7EsSiATp+7ZNpPq1av+VljJR923UWQ2auurgYH49MojfBZejRJCQ5zFlolM1n/lrWSXpjkdHZJAeI9PE5SoNltycXKKDHqEt2aRAAaJmEyEkzahuKBQ998MYaFgjc/HCV2T9RThUdUBVCX94UiRi4k8m8BC7pqzJJWk/YT7Q1FR1qNe2gKDyvtxSdGzFoJI8zgf2zQoKaNmuzcc/DdD0bvy83WhZSKR7O//OSd1PKVF2/cCmBF40XyKByfPX3OyDff3rNrt4oTXbtyVbn0ihdddJU2j4O66PDhz1WrUXXn/v1vfTAKuJRogllCTYBGAERVTa6mSyagGUa0xE+RhScKsIpzWKFwwcRvv/rw7TdCeZz0AaYWTh73KYKLm+99Cqil1uKC2dFD2+IFO0aNeCM1q9ayTQelh8X4BEL4gCB0NH5Z1079+117iHrqhqAhDdrrYuiETpzrCQBY0hhmI+m2Uk2lej/heuyojpfUbOrefEvimxGiA/rfWKdOPWwoE3vfnr1VK1X8+3N/QxBGhEF/vq9Jo4bbd+y57Y4/bd++k91bkjXHzGDARKXNlzYpj9/DS0bhACbclFPzTfb3FogZJtCHcUFtBWYLGCogDbEpGDhCoIxzDaPyTD0wLlY5hQ7C5fEOP3mZAQIGYehGmd8jIFw4d+b06lVrPf7EM2Sl0QqP+vECP+NtDM5RHBUilqokBaJJIOwOBhEC+w7sJQ/zkWoyBQqkgLPS0R6510+FjREW5oxmzZ98/IkJ33wHO6bjIFGUOLFANJTfvcfF/W+9RRUQkVRo374DdU+tw3xr/Nhx4CEitmt6/8GfUWku27aJJBxu9Nzz2t90001z5s6/9Y47Jbckp9M3yleEgcUAABaySURBVJQU/h+9+kWVmlVBSsh70dmzprONpkqFrDUrlnOPimyrM1vWrddo485s2kmIBcWCudhdjAeyL+zS6bKr+sqnV9mYhHrSqsHAxG8mVK9abf2GLRxEIWBPA6nMhM2S3pCUqVCPX5l3Jwhg/fZ20MeroDDVu3dvFvj0ruA1a9a0bt129uy5Ov1JkyZ36dLtsceemDp1Op3eypQxoDuKFfK7ebCgWgRmkb5iRBClYBlGZkmoiclI4EtbBFrB7Mg8jQCESqBGdu5B4vCLMQ8GyXigfvqvKq3VuaXTFxUgDTQASw17GQ5FBYXbtv2CrtOdA+8BdWTJQSUDIcz0Eh7iR8RIDMytMLT6J1gj6UbX/Lz6D/367ti1U78Ik5qcwr+nnkBWLPbCCy+gosXSIRuMGJ+6vXhRJubx8JrVy9u2afndt+M4SIPb9etWV65U4cpel6Mtwc7B/gNuy8yqMubrb9m5o14UgdSIESO6du2KCvvGTVuswhQvyX895nU6Fn0MOiiOEtxHSP7ow4+Ap1u3bkdmWrlqrcUr1kBo+QwI4vDlkCPaliyYk+b3Tp4y7Z33R7370WeH2D+kImDY75yz27z9zvuJzwZdgCwppmSsAKsU2Cpep7J2d8yWyU+YpQhMv6MHhLq23nss+jLqoARWh8AIlt7p4hUrVtBra7LYz7K3WpdRC2S/NxmwJxFGSZVJK7wKGqZ8h53s3WfAOURiSxnCkaBT2Uen16N/gNkBjHzL6p4oTXFoDetlYquPkyBYstLKmLzIGpZZdBZMMZLHcj7gVqjWOsWQC1vBsw/m9uhxdaVKlT7/6hPMy7DUhSqGXjRTKZgJqL8UTNYLFZlExqOP4Obe6S4sKhwwYAA2Bp7/x/PF3pFCHpVjlDGk4UqU1XOxFIbjTamXuYg348cfH3lk8AcffNCg4Wk8GvHuu19++WX5rMr79u+vXr3m4EcfqVe3vi+VxUmxwEVF9JlgbLVJz8gQCoiecYnyaBKZGRxFSfXaIq/pd5RuhCyJyqux2JBnn507f1H5ClkHDmQ3a97ioYcfqVwlCxVWaA+Oosrh8XlZ7J78w5R+Nw0Y+f6obydNfvjRx6tWYT1JDPvdeWv/6jVqPvHM310eRrE0PQofsg0IjVmrjOg/47TBjKMkrrxw/DobsBJto7q7NDUfPdaqwSwGhh5y9GBC9GAAKbRpGgKJXNrmu0Sax9onOSJNFjVVh4slcB87OuJiTE52FaU4maX6/H4iMVSwtUkIapNM8sAshiYjQUqudIt0wfSIMnuy6tzsYZHhCrzJiVJEE/sTqZ5AoKDHxZfm5IRmzpydnukCN7HfxSApqQGgU5TyGLqggqWCU6JcQHkCofAzzwxBTWT69KmtW7fS0ABDqKxElAAIXcajuupcaC/yCSgi8NqK5ctJtmFDdE2lIqi1rF67pkGDRmnpmR40A3AKHagpMKobmjCt9S5PfzNgkQKVhqylAhYtuGvXnoM52axfs+uQSOgDerzyGZBDsdlHgZ02tzv3YPYbb7+D+shtd9zZuHFD0gwGmdYWrV626OwOHTFNis1Vai0NS2NTLasJpAKqTZNanLAy7WzAMppPf7TBJN25GfkwVgTS5gxLzUowumCvfD6vBNMLre+Y2QX0h868+z3+Sv+DeZHvsFtMoKCL6YwHc3Zvf2H4a3MXLnrgwYcu6tlzx87977z9xvqVC/bu3Xtd/7uvu/F6jOqASvRepXkqG/2oqdIJkkImAMv8FMeiAWI7HWnBQMDrh50J3zzgj/Pm/vTdxEm1a9dGx5rxJNyMqFUWHyGSnnYa/sw78CI3b8v2HffeP2jyD5N7XX31J59+jEwLu6oWd5CIahYoEXIEHwwvPJF+KLBIU1nDVY1V5kgSyA86MdsKhdjnhKZSUVHAl+YLo3vJDnhpR2CCeRTRYxg4xau/ScULomt0WKsfoWw62CoOtwaHZTCzKp24k9UZuhyLzljjIgP2EgA9gqaRoPBauHgKC9GpvjRU0CQJBbI0AMJMqhZH+0yVUlSYRV9fccfiVa54BVQC5qOy+ZeK286gAEp32gcqabSiQ2gWQDq8YqbcbsMqpvEO/UbNBw8HLyvCMfbA/Mc42g8jv+KkXPGUV4e/XK1ylTPPaHp5ryuwGDV77sKLunW67bpn2S572y037z6Q/+f77sQ+AfMyNMI1o6i6N2mUHH6ytYPD5HFywFfcy168FNEynz9/4bRpM2rWrqFAnFqLaWDgPQEQqjyJiwZ1BEih0P69+xYtWvTZZ599PeGb/AKx6tmz56XYeEpja6/ws5iIEMtVhisxxkwm13yc+EsziR0Y5fQHhhA50E8K78zPPZRZHhV2sVItZXaIJQPQCszCBBA7N4OcVCqHm3H+WBE7riAL00z6AJTRaJXI6Vj4ilcL5ikiOMUuiIx0eHZBq5jsgYf1CwQjyOMxixEJFDHrd7pTMU+ExNCpaaTgTKzcKBNZumey8O0RHXj1deWP/ggUL7Zq8eJBZfDO5rASjSZdmf6q9tboUMRYqoujVSzIjshWR2CiYXUJ+hnufwVYahMQvL9T9tCEwzG/27lhxbI7bx8wcdKEDz4bM+CuhzIrVhv7xdj2rZr4nYf27d1XtWHb9p27T/r2c2oAPAALiKWZxprdV3DC2OKng2Q/mvBwzE3U5Dg0etSnN998e6dO557Vqo0ckpfizD8UQHiE5UzZ1H2Eg2aZMzL+cw4cZKfbunXrDhUUSkaMP7cvs0LFZUuWVqtWEVaCo8gADSGmBVhCzoTT+AgEJYKUj3DtuNNMsRFB1QLJFKwyV15kadL6FMk4Z/BzADUW4gW+DRsJOpwUaHEdWcO6keZv+GMSVSehvzLJyRnVZg1H8a1s2BC+ipaimWRLDg6my+1CiYtd3mpjpNhKFXLI8WvYm8E2PA7AMpgP+YAm9WEimm0tiZWko4SVJWdzWEZr0eboFnFDF8dPh2a8gVaMJXbPEw6rpUzoytdLzxAJxJ8MVTLwfu8eQZ/1uFATYET5PWyCjc+ZM695sxbODN+KJYsQwDzx1DPndGyZKvtAXIHCAtaMMjJYQ5BeCzogZuZF1v9gQoyaF/9DX4e/cAFDzJAc0QkTvh448G4+6rNmzpkxYxb9nTq6PX51yI1YJWbxnQSoNH+sa3KSEITZiublwA4KgWkK0ErHUZuoSwwjHVdfjZQoVQnM4lYVVXg0Y3YqzcEqgjSAPIVESnTFnM9IRZmvollFOomJFjGfTLPKLSiGh7dUi5fMy3r9WHqgoxCNIlNSsXrINF9NSDFohDCKmSm9ETkg7LT0KaaurMwKgyxYJkVlm6GcxIHpN3bXM+cHbZm/q0MACDmWRT2e0rIBy2iN5K+09tOPeWY1vSVclxFo9gfLo1Mpcfu7NDT7kyMRMXGHY70pHOh1Ze8+fa6GL1q8aKG3fMXLel0jA5RH8cjSpUsZBOee10mXhOUkoAqZjQCWCpJBU9wx0sPhiNg4jHJ8fdHcufO7du3q92G6RCzSgQcoajlJiAHjlv0CimkTSBKoMK8kSXzICDiSjnA6+GB22NgTdd56662gEeyVdmKxupRjioki7kjAyiOSVFESHhmoqkpkp17Wz4tdVbPq6ktU3crJnt9ztOsCq6qpviJdSeavUkKuRo3EZocAkDiZ4WpfYqJqllmd/JHEnCrDtkbkw1vWeFDG/9iAVaYaEKE4toDVye9MFFjzhv0rVymNlb287WtWrVzbskPPU05Jl8UlmfM5pk+fToS2bdswRGhpvuSK3VBy6CPUG0aSORFTQr7faZ7yQ579G19yOUc+7mSboMsjixLwAjgxtSLGRRV0Hp6aMsMCWvFEfwBgJRAksa1XDo9QPBcMBKNUoZUBT2Yy+lZfDVQyH52cf20iGO1uE6KsDQCTM1GIxMeXQS9ijsVLV+YWpLBtm2mi+ibHmXx9PW786U2adDq3uW5mVBDgdsx5E2HWTxGBxBxIS+QbxsvMNTi91OvNdDMjFh11Dk/k+AkX0hZQBruqsAOc5QEIlfgpBlTYBpQ0mVuCcGBnQVEhrITwd+4U1LIpoeTGmpdSSoLJUiUgov795kZRddGpWIniKdUdFg5QWr/EG7+uZEkFsZKyyK6bxQjXMYvHt2JKHCuCmRCaImYKsgDMT0UyH5f4+28floh7/N6aFT5+S2iXLIkC0ulcbLnhrxytiYNrgs9yxhcuXQkz06rFmYiJZIIVj0z65vtdO3MvvbQn4RO+nfbD5BkIc7CvggTESpF0DncsPihhdMztEbOWRBAhkdKuRE8e8VYoHGLqRSBwI1KYpJ+ScUkIb/m8hsLBtu3bsg8cZCFPn/eXis6TLMCTrEhwiMkMNKkYulDFxmrS02PiPVG6PaQqtQmPCZGOy0ROlJY7Lon7exQqhqwZ8REdlZEuEy5k4DBZjikzFnj85Tqdcy6n3inn/Oij0awiXNHrMiK//dYboUBhUYGomAJD7IRRH2dpfTp8Mu+AXy2TuQWqHCi4Az7MA1NDoYJZs36sVbPu+PHfKXGeGN4EgESBNeknvJf6oc1Aykwtn3ziieeG/vXl4cOfevLJzVs2M53EVDlrXmjaI90nDaTdusSqLLxkQZX2mA+P8q/mNQwW6QjvSIWPq55vMXSWR0qu24Wr6Uo+NcKlCRPcln7LfEX+wsjyM9nG5Cdlz39cNVvZI9//uMT0Rfh+ZnaCVmJhE20dLL+F9u/cvmztplr1Ts/KzEhXimKoehYUBstnZrZq0eKLr7/1+d0XXNAtPd0f4gRR0YqUeZ9ig0rWgHPXldQZTS+4Htn9IwuCMQd7dBBanXtex2bNmjnl7Bas9AWslxky+meFIKFHgPXgAw/MnjVr2EsvDR06FCXPW2++BY6QIruVyXQ09SNhFB2RgiWBlEDJ/6xb/s8ysgjzazyCWfK/pFPhZhVogP/gNGb9h0jH+WOztsd5Me3iKQroHifdFKGPyI7UWlIkkJeTvS+nsOcVvTPSOemJ5zEsgl5xxZWMfHbtvTfiHXicNJ+AhNobSKOb7U5cSU6c8soeOlgelBVQWDSC5aRiBxt1Onfu+tmYD+vWq8k0LkYOqV4MHxo4pdNJvsbinKMz8p13+/bu4/X6PJ7U22+5debMmVOnTmW5IAQGykwyrtcHg5zkpXkEi/GxklKF+C8v0EmcTkP7S7laeZXy7HgJMmpiFUfvQ7RuLY+JVlQ52RmtI0ElU0qOVob8ulOWoQKf1EUFZpg+SaeUlXCkSCJBd3n8NWufOn78+EZNmivlQSVCisVuvHNgq3Ydlm/a2q1Hzwps6OXwApccQQYDJVdJQfFFxSgqonz2+yNOp4uL+iV7KsUfycs7tHPn7mZnnE504ii5PqrXICYlUrPAxFhRuOqMz5o1ozAYz8w6RSJEg6dUygBN58xb0OWirnpPgccjOxGRqYk+vX6deymBWSZzHJr3R/nXhOOjjH4cR9M1ETJoUhTXnkuEqypYZDtChU4EstiAdYTGPS6D6aCGEoHIjmLqaCg2x7i95dIu6lKZIqteraAIKIinnNG2XfO27cEP1VXlwrKdiqa7v1FJ64YeL5Flewp7m9VeQYkSWbZ46Uejxyxdsvr88y8aPPh+5nB79+7Py831+z3hcL5sZ4yVE8WJeJDTaLAewXpg7fq1du/dHUnxxl1i7h29Ilc4J90b2/jLL6wIkgsTToTuvCoH0CgLAzp36kARVZGIhVNlV76juyTiW/Uq+WLxB8XvjpjjYdFKpvob7hNlTk7ksByLRUt6aoQnhSQng19HKPZ6iRhl5dYGrLLSUkY5jU4pf8xeqL66pqKhVR24HvFzOeyRFad0TyAQ9fliyMawu+fypB7cu/u11159ePAT99z30JQp0x577H5MSk34ZtyaVWtRQeVUMzniIV4hzl5phwAWiq0OZ2TgvXekinUUB0fEylZtCoshwFBKYYCTFKRIwFOqYrDEC9OnUIwrTkdQf3UJT4SRpmvy/3c9QWhoA9b/Xxc6LnNGKO71Ai+au4mxdYWdPZdccgna1ZMnT37rrY8oNXuGMc7J6fBKxYrNzNjhUXoJII+gD2uXcorpofwCh9dDZNlQzUmOvgxkbmhxM3QM2AWTmHVyg2z/uKSGXajjjQInCO4eb2Qtu+UBsJBPcTg2VXClpmL/INXvv/zKKz/99FNsjaLVVVjI1iD296BDKnbvlAq9gTYKijSThCDM0bBhwzinRUcCSKw48iO/IITuVb16dehz8hN0U5tRlCqWpphOyO6UZbf//N4ltzms35vCZSx9NCVkmdF0WGKBH+I05tGjP7n++utzcnJ+2ba14zmthw0ftnH9JlF5l8kcbJVSpoiHmA8yM+Ro+AcGP3hGy1YpXs/u3dvRAvL4/Dn5QWJ3Pq8TLwhgCTgBeIisNEDhL4FU3GpGzyyN/fekp4BtXuak7wJJBABKRGWBDTqs/bGUiPwJpSlHfPPGTS3Pavvd95OnTpnZsFGjPtf2CnNyfFC2N7OkyD5osQXIQbYOjoONCevkcKSm+ZgI9r/17t2794755MOsDO/g++6ev3DxZ99OyyzvR4YlGqlRZUFFIE+YLRLR+ARQKVbLuksqou09uSlgA9bJ3f7Faw9yMBcUSZPoNITFPh9Wt4JFWC694aabq1WvfUG37gNuuYG9QGiegimoVSh7eZKKQh21JVBUHpyhSBAV0ZjT88B993OSfKoznrN376DBD9dv2gQcIl3hptjIrSTuCp8EsCQh5WzAMilh/y1GARuwipHjJL8BdHAKUGJiKErBhp6y5ecf2n8g95Sq1f1+2cUoCgn6qSaZ4debbAR3MC8expaDbDyM7dq2NRQM1qtT1+f3Sgw09fW6IbAY4sgMjCaivy/SCV0AFYWLzWFBBNsVo4ANWMXIcZLfJAGWooToVVuoIXoSOoIxh7PQhbgCWInIenLHc4I11yTPVXx9To/xBq/oSNyriDpJA/0SWctj29kUgAK20N3uBgkKgBRAhjEx0+AhDwkwtLoSUc2nGoAMCDNBR4OcQittKk+OzCkOVcYcUiEd/sPST+Rk+2wKJChgA1aCFrZPUQC00UdyaXootEqQxmK4EkHiY44nEKawDr8wR7L4Z/BKCt30myIVM8EugVMmT2X+lSSN1LTXvtoUUBRQPcymhU2Bo6WAAiMLVwSbkpwJTBYiCXKJseakOHj1WyRizjGLP7bvbAockQI2h3VE0pyUDxQeSc2tLxkhhl/BTgnsIaaFWSoazwXOzLdKRrciSx48NOMV48XkGc6CRX1rX20KWH3RJoVNgaOgAPBSDHHUK2Yg8FMcngzA0eHyiKXFxOsE6Bv9fvFXj6IsdpSTkgLWh/SkrL1d6SNRQKPMkZ4mwtmco6MmkEg9NPFHPzTuiIOvWEz9PJGe9jFn5Ff6s5Jx7fuTigL2lPCkau6jqqxwRpo7kmuyAF7dFksDyboGIPPLZ7BVxh+DhVd3xFBRlTFf87n510yUewPdzBD7r02BJArYelhJxLC9QgFQxUSfUghSHJ6M+Pwxcc2Qo0siAkbJ6MOhOYKEicSLPSwlLzvIpkBJCtiAVZIi9r1NAZsCxy0FEp+747aIdsFsCtgUsCmgKWADlt0TbArYFCgzFLABq8w0lV1QmwI2BWzAsvuATQGbAmWGAjZglZmmsgtqU8CmgA1Ydh+wKWBToMxQwAasMtNUdkFtCtgUsAHL7gM2BWwKlBkK2IBVZprKLqhNAZsCNmDZfcCmgE2BMkMBG7DKTFPZBbUpYFPg/wDkla6irHZ6EgAAAABJRU5ErkJggg==)"
      ]
    },
    {
      "cell_type": "markdown",
      "id": "c8251c24",
      "metadata": {
        "id": "c8251c24"
      },
      "source": [
        "![image.png](data:image/png;base64,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)"
      ]
    },
    {
      "cell_type": "markdown",
      "id": "85931451",
      "metadata": {
        "id": "85931451"
      },
      "source": [
        "그 후, 적절한 iterations와 learning rate 를 찾아 위의 결과를 재현해 봅시다!"
      ]
    },
    {
      "cell_type": "code",
      "execution_count": null,
      "id": "2d6b14c4",
      "metadata": {
        "id": "2d6b14c4"
      },
      "outputs": [],
      "source": [
        "m = 0\n",
        "c = 0\n",
        "n = len(x)\n",
        "\n",
        "# 얼마나 반복해야 할까요?\n",
        "iterations = None\n",
        "\n",
        "# 한번에 얼마나 update 해야 할까요?\n",
        "learning_rate = None\n",
        "    \n",
        "for i in range(iterations):\n",
        "    \n",
        "    # Calculate predictions\n",
        "    yhat = None\n",
        "\n",
        "    # Calculate mean squares\n",
        "    mean_squares = None\n",
        "    \n",
        "    if i % 100 == 0:\n",
        "        print(f'Iteration {i}: {mean_squares:.4f}')\n",
        "        print(f'y = {m:.3f}x + {c:.3f}')\n",
        "        \n",
        "    # Calculate gradient\n",
        "    dm = None\n",
        "    dc = None\n",
        "    \n",
        "    # Update parameters\n",
        "    m = m - learning_rate * dm\n",
        "    c = c - learning_rate * dc"
      ]
    },
    {
      "cell_type": "code",
      "execution_count": null,
      "id": "84dde1a2",
      "metadata": {
        "id": "84dde1a2"
      },
      "outputs": [],
      "source": [
        ""
      ]
    }
  ],
  "metadata": {
    "kernelspec": {
      "display_name": "Python 3 (ipykernel)",
      "language": "python",
      "name": "python3"
    },
    "language_info": {
      "codemirror_mode": {
        "name": "ipython",
        "version": 3
      },
      "file_extension": ".py",
      "mimetype": "text/x-python",
      "name": "python",
      "nbconvert_exporter": "python",
      "pygments_lexer": "ipython3",
      "version": "3.10.4"
    },
    "colab": {
      "name": "기초통계&회귀분석_0727_서기석.ipynb",
      "provenance": [],
      "collapsed_sections": [],
      "include_colab_link": true
    }
  },
  "nbformat": 4,
  "nbformat_minor": 5
}