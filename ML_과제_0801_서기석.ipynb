{
  "nbformat": 4,
  "nbformat_minor": 0,
  "metadata": {
    "colab": {
      "name": "ML_과제_0801_서기석.ipynb",
      "provenance": [],
      "include_colab_link": true
    },
    "kernelspec": {
      "name": "python3",
      "display_name": "Python 3"
    },
    "language_info": {
      "name": "python"
    }
  },
  "cells": [
    {
      "cell_type": "markdown",
      "metadata": {
        "id": "view-in-github",
        "colab_type": "text"
      },
      "source": [
        "<a href=\"https://colab.research.google.com/github/suhvin/ybigta-edu/blob/master/ML_%E1%84%80%E1%85%AA%E1%84%8C%E1%85%A6_0801_%EC%84%9C%EA%B8%B0%EC%84%9D.ipynb\" target=\"_parent\"><img src=\"https://colab.research.google.com/assets/colab-badge.svg\" alt=\"Open In Colab\"/></a>"
      ]
    },
    {
      "cell_type": "code",
      "source": [
        "from google.colab import drive\n",
        "drive.mount('/content/drive')"
      ],
      "metadata": {
        "colab": {
          "base_uri": "https://localhost:8080/"
        },
        "id": "GOxfjlMKL-q2",
        "outputId": "6e2f2703-cdf0-4a6a-ec98-2cdc7b1589a1"
      },
      "execution_count": 1,
      "outputs": [
        {
          "output_type": "stream",
          "name": "stdout",
          "text": [
            "Mounted at /content/drive\n"
          ]
        }
      ]
    },
    {
      "cell_type": "code",
      "execution_count": 30,
      "metadata": {
        "id": "1AWIATyIacOL"
      },
      "outputs": [],
      "source": [
        "import pandas as pd\n",
        "\n",
        "train = pd.read_csv('/content/drive/MyDrive/와이빅타/교육세션/submit/ybigta-edu/0801/movies_train.csv')\n",
        "test = pd.read_csv('/content/drive/MyDrive/와이빅타/교육세션/submit/ybigta-edu/0801/movies_test.csv')"
      ]
    },
    {
      "cell_type": "code",
      "source": [
        "train.shape"
      ],
      "metadata": {
        "colab": {
          "base_uri": "https://localhost:8080/"
        },
        "id": "EnxF2h1TMvQ3",
        "outputId": "a4259c38-6673-486b-8c8e-b5344a5693e0"
      },
      "execution_count": 31,
      "outputs": [
        {
          "output_type": "execute_result",
          "data": {
            "text/plain": [
              "(600, 12)"
            ]
          },
          "metadata": {},
          "execution_count": 31
        }
      ]
    },
    {
      "cell_type": "code",
      "source": [
        "train.info()"
      ],
      "metadata": {
        "colab": {
          "base_uri": "https://localhost:8080/"
        },
        "id": "fpSBOHh_MZ1K",
        "outputId": "a66f6e56-4b77-4350-ceef-f2b73bc4cf2d"
      },
      "execution_count": 32,
      "outputs": [
        {
          "output_type": "stream",
          "name": "stdout",
          "text": [
            "<class 'pandas.core.frame.DataFrame'>\n",
            "RangeIndex: 600 entries, 0 to 599\n",
            "Data columns (total 12 columns):\n",
            " #   Column          Non-Null Count  Dtype  \n",
            "---  ------          --------------  -----  \n",
            " 0   title           600 non-null    object \n",
            " 1   distributor     600 non-null    object \n",
            " 2   genre           600 non-null    object \n",
            " 3   release_time    600 non-null    object \n",
            " 4   time            600 non-null    int64  \n",
            " 5   screening_rat   600 non-null    object \n",
            " 6   director        600 non-null    object \n",
            " 7   dir_prev_bfnum  270 non-null    float64\n",
            " 8   dir_prev_num    600 non-null    int64  \n",
            " 9   num_staff       600 non-null    int64  \n",
            " 10  num_actor       600 non-null    int64  \n",
            " 11  box_off_num     600 non-null    int64  \n",
            "dtypes: float64(1), int64(5), object(6)\n",
            "memory usage: 56.4+ KB\n"
          ]
        }
      ]
    },
    {
      "cell_type": "code",
      "source": [
        "train.describe()"
      ],
      "metadata": {
        "colab": {
          "base_uri": "https://localhost:8080/",
          "height": 300
        },
        "id": "DhL6URwaM7aT",
        "outputId": "0bc71974-fbf0-4970-bf05-578cbc5a1c8d"
      },
      "execution_count": 33,
      "outputs": [
        {
          "output_type": "execute_result",
          "data": {
            "text/plain": [
              "             time  dir_prev_bfnum  dir_prev_num   num_staff   num_actor  \\\n",
              "count  600.000000    2.700000e+02    600.000000  600.000000  600.000000   \n",
              "mean   100.863333    1.050443e+06      0.876667  151.118333    3.706667   \n",
              "std     18.097528    1.791408e+06      1.183409  165.654671    2.446889   \n",
              "min     45.000000    1.000000e+00      0.000000    0.000000    0.000000   \n",
              "25%     89.000000    2.038000e+04      0.000000   17.000000    2.000000   \n",
              "50%    100.000000    4.784236e+05      0.000000   82.500000    3.000000   \n",
              "75%    114.000000    1.286569e+06      2.000000  264.000000    4.000000   \n",
              "max    180.000000    1.761531e+07      5.000000  869.000000   25.000000   \n",
              "\n",
              "        box_off_num  \n",
              "count  6.000000e+02  \n",
              "mean   7.081818e+05  \n",
              "std    1.828006e+06  \n",
              "min    1.000000e+00  \n",
              "25%    1.297250e+03  \n",
              "50%    1.259100e+04  \n",
              "75%    4.798868e+05  \n",
              "max    1.426277e+07  "
            ],
            "text/html": [
              "\n",
              "  <div id=\"df-07d90c60-694d-4a87-9538-78269e14366f\">\n",
              "    <div class=\"colab-df-container\">\n",
              "      <div>\n",
              "<style scoped>\n",
              "    .dataframe tbody tr th:only-of-type {\n",
              "        vertical-align: middle;\n",
              "    }\n",
              "\n",
              "    .dataframe tbody tr th {\n",
              "        vertical-align: top;\n",
              "    }\n",
              "\n",
              "    .dataframe thead th {\n",
              "        text-align: right;\n",
              "    }\n",
              "</style>\n",
              "<table border=\"1\" class=\"dataframe\">\n",
              "  <thead>\n",
              "    <tr style=\"text-align: right;\">\n",
              "      <th></th>\n",
              "      <th>time</th>\n",
              "      <th>dir_prev_bfnum</th>\n",
              "      <th>dir_prev_num</th>\n",
              "      <th>num_staff</th>\n",
              "      <th>num_actor</th>\n",
              "      <th>box_off_num</th>\n",
              "    </tr>\n",
              "  </thead>\n",
              "  <tbody>\n",
              "    <tr>\n",
              "      <th>count</th>\n",
              "      <td>600.000000</td>\n",
              "      <td>2.700000e+02</td>\n",
              "      <td>600.000000</td>\n",
              "      <td>600.000000</td>\n",
              "      <td>600.000000</td>\n",
              "      <td>6.000000e+02</td>\n",
              "    </tr>\n",
              "    <tr>\n",
              "      <th>mean</th>\n",
              "      <td>100.863333</td>\n",
              "      <td>1.050443e+06</td>\n",
              "      <td>0.876667</td>\n",
              "      <td>151.118333</td>\n",
              "      <td>3.706667</td>\n",
              "      <td>7.081818e+05</td>\n",
              "    </tr>\n",
              "    <tr>\n",
              "      <th>std</th>\n",
              "      <td>18.097528</td>\n",
              "      <td>1.791408e+06</td>\n",
              "      <td>1.183409</td>\n",
              "      <td>165.654671</td>\n",
              "      <td>2.446889</td>\n",
              "      <td>1.828006e+06</td>\n",
              "    </tr>\n",
              "    <tr>\n",
              "      <th>min</th>\n",
              "      <td>45.000000</td>\n",
              "      <td>1.000000e+00</td>\n",
              "      <td>0.000000</td>\n",
              "      <td>0.000000</td>\n",
              "      <td>0.000000</td>\n",
              "      <td>1.000000e+00</td>\n",
              "    </tr>\n",
              "    <tr>\n",
              "      <th>25%</th>\n",
              "      <td>89.000000</td>\n",
              "      <td>2.038000e+04</td>\n",
              "      <td>0.000000</td>\n",
              "      <td>17.000000</td>\n",
              "      <td>2.000000</td>\n",
              "      <td>1.297250e+03</td>\n",
              "    </tr>\n",
              "    <tr>\n",
              "      <th>50%</th>\n",
              "      <td>100.000000</td>\n",
              "      <td>4.784236e+05</td>\n",
              "      <td>0.000000</td>\n",
              "      <td>82.500000</td>\n",
              "      <td>3.000000</td>\n",
              "      <td>1.259100e+04</td>\n",
              "    </tr>\n",
              "    <tr>\n",
              "      <th>75%</th>\n",
              "      <td>114.000000</td>\n",
              "      <td>1.286569e+06</td>\n",
              "      <td>2.000000</td>\n",
              "      <td>264.000000</td>\n",
              "      <td>4.000000</td>\n",
              "      <td>4.798868e+05</td>\n",
              "    </tr>\n",
              "    <tr>\n",
              "      <th>max</th>\n",
              "      <td>180.000000</td>\n",
              "      <td>1.761531e+07</td>\n",
              "      <td>5.000000</td>\n",
              "      <td>869.000000</td>\n",
              "      <td>25.000000</td>\n",
              "      <td>1.426277e+07</td>\n",
              "    </tr>\n",
              "  </tbody>\n",
              "</table>\n",
              "</div>\n",
              "      <button class=\"colab-df-convert\" onclick=\"convertToInteractive('df-07d90c60-694d-4a87-9538-78269e14366f')\"\n",
              "              title=\"Convert this dataframe to an interactive table.\"\n",
              "              style=\"display:none;\">\n",
              "        \n",
              "  <svg xmlns=\"http://www.w3.org/2000/svg\" height=\"24px\"viewBox=\"0 0 24 24\"\n",
              "       width=\"24px\">\n",
              "    <path d=\"M0 0h24v24H0V0z\" fill=\"none\"/>\n",
              "    <path d=\"M18.56 5.44l.94 2.06.94-2.06 2.06-.94-2.06-.94-.94-2.06-.94 2.06-2.06.94zm-11 1L8.5 8.5l.94-2.06 2.06-.94-2.06-.94L8.5 2.5l-.94 2.06-2.06.94zm10 10l.94 2.06.94-2.06 2.06-.94-2.06-.94-.94-2.06-.94 2.06-2.06.94z\"/><path d=\"M17.41 7.96l-1.37-1.37c-.4-.4-.92-.59-1.43-.59-.52 0-1.04.2-1.43.59L10.3 9.45l-7.72 7.72c-.78.78-.78 2.05 0 2.83L4 21.41c.39.39.9.59 1.41.59.51 0 1.02-.2 1.41-.59l7.78-7.78 2.81-2.81c.8-.78.8-2.07 0-2.86zM5.41 20L4 18.59l7.72-7.72 1.47 1.35L5.41 20z\"/>\n",
              "  </svg>\n",
              "      </button>\n",
              "      \n",
              "  <style>\n",
              "    .colab-df-container {\n",
              "      display:flex;\n",
              "      flex-wrap:wrap;\n",
              "      gap: 12px;\n",
              "    }\n",
              "\n",
              "    .colab-df-convert {\n",
              "      background-color: #E8F0FE;\n",
              "      border: none;\n",
              "      border-radius: 50%;\n",
              "      cursor: pointer;\n",
              "      display: none;\n",
              "      fill: #1967D2;\n",
              "      height: 32px;\n",
              "      padding: 0 0 0 0;\n",
              "      width: 32px;\n",
              "    }\n",
              "\n",
              "    .colab-df-convert:hover {\n",
              "      background-color: #E2EBFA;\n",
              "      box-shadow: 0px 1px 2px rgba(60, 64, 67, 0.3), 0px 1px 3px 1px rgba(60, 64, 67, 0.15);\n",
              "      fill: #174EA6;\n",
              "    }\n",
              "\n",
              "    [theme=dark] .colab-df-convert {\n",
              "      background-color: #3B4455;\n",
              "      fill: #D2E3FC;\n",
              "    }\n",
              "\n",
              "    [theme=dark] .colab-df-convert:hover {\n",
              "      background-color: #434B5C;\n",
              "      box-shadow: 0px 1px 3px 1px rgba(0, 0, 0, 0.15);\n",
              "      filter: drop-shadow(0px 1px 2px rgba(0, 0, 0, 0.3));\n",
              "      fill: #FFFFFF;\n",
              "    }\n",
              "  </style>\n",
              "\n",
              "      <script>\n",
              "        const buttonEl =\n",
              "          document.querySelector('#df-07d90c60-694d-4a87-9538-78269e14366f button.colab-df-convert');\n",
              "        buttonEl.style.display =\n",
              "          google.colab.kernel.accessAllowed ? 'block' : 'none';\n",
              "\n",
              "        async function convertToInteractive(key) {\n",
              "          const element = document.querySelector('#df-07d90c60-694d-4a87-9538-78269e14366f');\n",
              "          const dataTable =\n",
              "            await google.colab.kernel.invokeFunction('convertToInteractive',\n",
              "                                                     [key], {});\n",
              "          if (!dataTable) return;\n",
              "\n",
              "          const docLinkHtml = 'Like what you see? Visit the ' +\n",
              "            '<a target=\"_blank\" href=https://colab.research.google.com/notebooks/data_table.ipynb>data table notebook</a>'\n",
              "            + ' to learn more about interactive tables.';\n",
              "          element.innerHTML = '';\n",
              "          dataTable['output_type'] = 'display_data';\n",
              "          await google.colab.output.renderOutput(dataTable, element);\n",
              "          const docLink = document.createElement('div');\n",
              "          docLink.innerHTML = docLinkHtml;\n",
              "          element.appendChild(docLink);\n",
              "        }\n",
              "      </script>\n",
              "    </div>\n",
              "  </div>\n",
              "  "
            ]
          },
          "metadata": {},
          "execution_count": 33
        }
      ]
    },
    {
      "cell_type": "markdown",
      "source": [
        "# 데이터 전처리"
      ],
      "metadata": {
        "id": "6yaoqpCutVLf"
      }
    },
    {
      "cell_type": "code",
      "source": [
        "# 결측치가 많은 데이터 제거\n",
        "train = train.drop(['dir_prev_bfnum'],axis = 1)\n",
        "test =  test.drop(['dir_prev_bfnum'],axis = 1)"
      ],
      "metadata": {
        "id": "Yl2kA7fFtP5R"
      },
      "execution_count": 34,
      "outputs": []
    },
    {
      "cell_type": "code",
      "source": [
        "# 감독명 : 너무 다양해서 제거\n",
        "train = train.drop(['director'],axis = 1)\n",
        "test = test.drop(['director'],axis = 1)"
      ],
      "metadata": {
        "id": "lIk3wrTctQ9v"
      },
      "execution_count": 35,
      "outputs": []
    },
    {
      "cell_type": "code",
      "source": [
        "# 제목 : 의미가 없기 때문에 제거\n",
        "train = train.drop(['title'],axis= 1)\n",
        "test = test.drop(['title'],axis= 1)"
      ],
      "metadata": {
        "id": "ePWuo17btR1M"
      },
      "execution_count": 36,
      "outputs": []
    },
    {
      "cell_type": "code",
      "source": [
        "# 상위 5개의 배급사를 제외하고 '기타'로처리\n",
        "distributor_list = train.distributor.value_counts()[:5]\n",
        "def func(distributor):\n",
        "    if distributor in distributor_list:\n",
        "        return distributor\n",
        "    else:\n",
        "        return '기타'\n",
        "\n",
        "train['distributor'] = train['distributor'].apply(lambda x : func(x))\n",
        "test['distributor'] = test['distributor'].apply(lambda x : func(x))"
      ],
      "metadata": {
        "id": "gJLgQnsftUi3"
      },
      "execution_count": 37,
      "outputs": []
    },
    {
      "cell_type": "code",
      "source": [
        "# 개봉일을 바탕으로 년,월 변수 생성\n",
        "train['년'] = train['release_time'].apply(lambda x: int(x[:4]))\n",
        "train['월'] = train['release_time'].apply(lambda x: int(x[5:7]))\n",
        "train =  train.drop(['release_time'],axis = 1)\n",
        "\n",
        "test['년'] = test['release_time'].apply(lambda x: int(x[:4]))\n",
        "test['월'] = test['release_time'].apply(lambda x: int(x[5:7]))\n",
        "test =  test.drop(['release_time'],axis = 1)"
      ],
      "metadata": {
        "id": "go0393kDtapB"
      },
      "execution_count": 38,
      "outputs": []
    },
    {
      "cell_type": "code",
      "source": [
        "# 원핫 인코딩\n",
        "train = pd.get_dummies(train)\n",
        "test = pd.get_dummies(test)"
      ],
      "metadata": {
        "id": "8OU0rcEktbvc"
      },
      "execution_count": 39,
      "outputs": []
    },
    {
      "cell_type": "code",
      "source": [
        "train"
      ],
      "metadata": {
        "colab": {
          "base_uri": "https://localhost:8080/",
          "height": 522
        },
        "id": "VZIiG31tNt3w",
        "outputId": "27af4192-eac5-4c92-c28d-0c84f3872050"
      },
      "execution_count": 40,
      "outputs": [
        {
          "output_type": "execute_result",
          "data": {
            "text/plain": [
              "     time  dir_prev_num  num_staff  num_actor  box_off_num     년   월  \\\n",
              "0      96             0         91          2        23398  2012  11   \n",
              "1     130             2        387          3      7072501  2015  11   \n",
              "2     123             4        343          4      6959083  2013   6   \n",
              "3     101             2         20          6       217866  2012   7   \n",
              "4     108             1        251          2       483387  2010  11   \n",
              "..    ...           ...        ...        ...          ...   ...  ..   \n",
              "595   111             1        510          7      1475091  2014   8   \n",
              "596   127             1        286          6      1716438  2013   3   \n",
              "597    99             0        123          4         2475  2010   9   \n",
              "598   102             0        431          4      2192525  2015   5   \n",
              "599   120             0        363          5      7166532  2013   1   \n",
              "\n",
              "     distributor_(주)NEW  distributor_(주)마운틴픽쳐스  distributor_(주)쇼박스  ...  \\\n",
              "0                     0                      0                   0  ...   \n",
              "1                     0                      0                   1  ...   \n",
              "2                     0                      0                   1  ...   \n",
              "3                     1                      0                   0  ...   \n",
              "4                     0                      0                   0  ...   \n",
              "..                  ...                    ...                 ...  ...   \n",
              "595                   1                      0                   0  ...   \n",
              "596                   0                      0                   1  ...   \n",
              "597                   0                      1                   0  ...   \n",
              "598                   0                      0                   0  ...   \n",
              "599                   0                      0                   0  ...   \n",
              "\n",
              "     genre_뮤지컬  genre_미스터리  genre_서스펜스  genre_애니메이션  genre_액션  genre_코미디  \\\n",
              "0            0           0           0            0         1          0   \n",
              "1            0           0           0            0         0          0   \n",
              "2            0           0           0            0         1          0   \n",
              "3            0           0           0            0         0          1   \n",
              "4            0           0           0            0         0          1   \n",
              "..         ...         ...         ...          ...       ...        ...   \n",
              "595          0           0           0            0         0          0   \n",
              "596          0           0           0            0         0          0   \n",
              "597          0           0           0            0         0          0   \n",
              "598          0           0           0            0         0          0   \n",
              "599          0           0           0            0         1          0   \n",
              "\n",
              "     screening_rat_12세 관람가  screening_rat_15세 관람가  screening_rat_전체 관람가  \\\n",
              "0                        0                      0                     0   \n",
              "1                        0                      0                     0   \n",
              "2                        0                      1                     0   \n",
              "3                        0                      0                     1   \n",
              "4                        0                      1                     0   \n",
              "..                     ...                    ...                   ...   \n",
              "595                      0                      0                     0   \n",
              "596                      0                      1                     0   \n",
              "597                      0                      0                     0   \n",
              "598                      0                      1                     0   \n",
              "599                      0                      1                     0   \n",
              "\n",
              "     screening_rat_청소년 관람불가  \n",
              "0                         1  \n",
              "1                         1  \n",
              "2                         0  \n",
              "3                         0  \n",
              "4                         0  \n",
              "..                      ...  \n",
              "595                       1  \n",
              "596                       0  \n",
              "597                       1  \n",
              "598                       0  \n",
              "599                       0  \n",
              "\n",
              "[600 rows x 29 columns]"
            ],
            "text/html": [
              "\n",
              "  <div id=\"df-967a364b-35c5-4ca4-b060-648f0f8e1a70\">\n",
              "    <div class=\"colab-df-container\">\n",
              "      <div>\n",
              "<style scoped>\n",
              "    .dataframe tbody tr th:only-of-type {\n",
              "        vertical-align: middle;\n",
              "    }\n",
              "\n",
              "    .dataframe tbody tr th {\n",
              "        vertical-align: top;\n",
              "    }\n",
              "\n",
              "    .dataframe thead th {\n",
              "        text-align: right;\n",
              "    }\n",
              "</style>\n",
              "<table border=\"1\" class=\"dataframe\">\n",
              "  <thead>\n",
              "    <tr style=\"text-align: right;\">\n",
              "      <th></th>\n",
              "      <th>time</th>\n",
              "      <th>dir_prev_num</th>\n",
              "      <th>num_staff</th>\n",
              "      <th>num_actor</th>\n",
              "      <th>box_off_num</th>\n",
              "      <th>년</th>\n",
              "      <th>월</th>\n",
              "      <th>distributor_(주)NEW</th>\n",
              "      <th>distributor_(주)마운틴픽쳐스</th>\n",
              "      <th>distributor_(주)쇼박스</th>\n",
              "      <th>...</th>\n",
              "      <th>genre_뮤지컬</th>\n",
              "      <th>genre_미스터리</th>\n",
              "      <th>genre_서스펜스</th>\n",
              "      <th>genre_애니메이션</th>\n",
              "      <th>genre_액션</th>\n",
              "      <th>genre_코미디</th>\n",
              "      <th>screening_rat_12세 관람가</th>\n",
              "      <th>screening_rat_15세 관람가</th>\n",
              "      <th>screening_rat_전체 관람가</th>\n",
              "      <th>screening_rat_청소년 관람불가</th>\n",
              "    </tr>\n",
              "  </thead>\n",
              "  <tbody>\n",
              "    <tr>\n",
              "      <th>0</th>\n",
              "      <td>96</td>\n",
              "      <td>0</td>\n",
              "      <td>91</td>\n",
              "      <td>2</td>\n",
              "      <td>23398</td>\n",
              "      <td>2012</td>\n",
              "      <td>11</td>\n",
              "      <td>0</td>\n",
              "      <td>0</td>\n",
              "      <td>0</td>\n",
              "      <td>...</td>\n",
              "      <td>0</td>\n",
              "      <td>0</td>\n",
              "      <td>0</td>\n",
              "      <td>0</td>\n",
              "      <td>1</td>\n",
              "      <td>0</td>\n",
              "      <td>0</td>\n",
              "      <td>0</td>\n",
              "      <td>0</td>\n",
              "      <td>1</td>\n",
              "    </tr>\n",
              "    <tr>\n",
              "      <th>1</th>\n",
              "      <td>130</td>\n",
              "      <td>2</td>\n",
              "      <td>387</td>\n",
              "      <td>3</td>\n",
              "      <td>7072501</td>\n",
              "      <td>2015</td>\n",
              "      <td>11</td>\n",
              "      <td>0</td>\n",
              "      <td>0</td>\n",
              "      <td>1</td>\n",
              "      <td>...</td>\n",
              "      <td>0</td>\n",
              "      <td>0</td>\n",
              "      <td>0</td>\n",
              "      <td>0</td>\n",
              "      <td>0</td>\n",
              "      <td>0</td>\n",
              "      <td>0</td>\n",
              "      <td>0</td>\n",
              "      <td>0</td>\n",
              "      <td>1</td>\n",
              "    </tr>\n",
              "    <tr>\n",
              "      <th>2</th>\n",
              "      <td>123</td>\n",
              "      <td>4</td>\n",
              "      <td>343</td>\n",
              "      <td>4</td>\n",
              "      <td>6959083</td>\n",
              "      <td>2013</td>\n",
              "      <td>6</td>\n",
              "      <td>0</td>\n",
              "      <td>0</td>\n",
              "      <td>1</td>\n",
              "      <td>...</td>\n",
              "      <td>0</td>\n",
              "      <td>0</td>\n",
              "      <td>0</td>\n",
              "      <td>0</td>\n",
              "      <td>1</td>\n",
              "      <td>0</td>\n",
              "      <td>0</td>\n",
              "      <td>1</td>\n",
              "      <td>0</td>\n",
              "      <td>0</td>\n",
              "    </tr>\n",
              "    <tr>\n",
              "      <th>3</th>\n",
              "      <td>101</td>\n",
              "      <td>2</td>\n",
              "      <td>20</td>\n",
              "      <td>6</td>\n",
              "      <td>217866</td>\n",
              "      <td>2012</td>\n",
              "      <td>7</td>\n",
              "      <td>1</td>\n",
              "      <td>0</td>\n",
              "      <td>0</td>\n",
              "      <td>...</td>\n",
              "      <td>0</td>\n",
              "      <td>0</td>\n",
              "      <td>0</td>\n",
              "      <td>0</td>\n",
              "      <td>0</td>\n",
              "      <td>1</td>\n",
              "      <td>0</td>\n",
              "      <td>0</td>\n",
              "      <td>1</td>\n",
              "      <td>0</td>\n",
              "    </tr>\n",
              "    <tr>\n",
              "      <th>4</th>\n",
              "      <td>108</td>\n",
              "      <td>1</td>\n",
              "      <td>251</td>\n",
              "      <td>2</td>\n",
              "      <td>483387</td>\n",
              "      <td>2010</td>\n",
              "      <td>11</td>\n",
              "      <td>0</td>\n",
              "      <td>0</td>\n",
              "      <td>0</td>\n",
              "      <td>...</td>\n",
              "      <td>0</td>\n",
              "      <td>0</td>\n",
              "      <td>0</td>\n",
              "      <td>0</td>\n",
              "      <td>0</td>\n",
              "      <td>1</td>\n",
              "      <td>0</td>\n",
              "      <td>1</td>\n",
              "      <td>0</td>\n",
              "      <td>0</td>\n",
              "    </tr>\n",
              "    <tr>\n",
              "      <th>...</th>\n",
              "      <td>...</td>\n",
              "      <td>...</td>\n",
              "      <td>...</td>\n",
              "      <td>...</td>\n",
              "      <td>...</td>\n",
              "      <td>...</td>\n",
              "      <td>...</td>\n",
              "      <td>...</td>\n",
              "      <td>...</td>\n",
              "      <td>...</td>\n",
              "      <td>...</td>\n",
              "      <td>...</td>\n",
              "      <td>...</td>\n",
              "      <td>...</td>\n",
              "      <td>...</td>\n",
              "      <td>...</td>\n",
              "      <td>...</td>\n",
              "      <td>...</td>\n",
              "      <td>...</td>\n",
              "      <td>...</td>\n",
              "      <td>...</td>\n",
              "    </tr>\n",
              "    <tr>\n",
              "      <th>595</th>\n",
              "      <td>111</td>\n",
              "      <td>1</td>\n",
              "      <td>510</td>\n",
              "      <td>7</td>\n",
              "      <td>1475091</td>\n",
              "      <td>2014</td>\n",
              "      <td>8</td>\n",
              "      <td>1</td>\n",
              "      <td>0</td>\n",
              "      <td>0</td>\n",
              "      <td>...</td>\n",
              "      <td>0</td>\n",
              "      <td>0</td>\n",
              "      <td>0</td>\n",
              "      <td>0</td>\n",
              "      <td>0</td>\n",
              "      <td>0</td>\n",
              "      <td>0</td>\n",
              "      <td>0</td>\n",
              "      <td>0</td>\n",
              "      <td>1</td>\n",
              "    </tr>\n",
              "    <tr>\n",
              "      <th>596</th>\n",
              "      <td>127</td>\n",
              "      <td>1</td>\n",
              "      <td>286</td>\n",
              "      <td>6</td>\n",
              "      <td>1716438</td>\n",
              "      <td>2013</td>\n",
              "      <td>3</td>\n",
              "      <td>0</td>\n",
              "      <td>0</td>\n",
              "      <td>1</td>\n",
              "      <td>...</td>\n",
              "      <td>0</td>\n",
              "      <td>0</td>\n",
              "      <td>0</td>\n",
              "      <td>0</td>\n",
              "      <td>0</td>\n",
              "      <td>0</td>\n",
              "      <td>0</td>\n",
              "      <td>1</td>\n",
              "      <td>0</td>\n",
              "      <td>0</td>\n",
              "    </tr>\n",
              "    <tr>\n",
              "      <th>597</th>\n",
              "      <td>99</td>\n",
              "      <td>0</td>\n",
              "      <td>123</td>\n",
              "      <td>4</td>\n",
              "      <td>2475</td>\n",
              "      <td>2010</td>\n",
              "      <td>9</td>\n",
              "      <td>0</td>\n",
              "      <td>1</td>\n",
              "      <td>0</td>\n",
              "      <td>...</td>\n",
              "      <td>0</td>\n",
              "      <td>0</td>\n",
              "      <td>0</td>\n",
              "      <td>0</td>\n",
              "      <td>0</td>\n",
              "      <td>0</td>\n",
              "      <td>0</td>\n",
              "      <td>0</td>\n",
              "      <td>0</td>\n",
              "      <td>1</td>\n",
              "    </tr>\n",
              "    <tr>\n",
              "      <th>598</th>\n",
              "      <td>102</td>\n",
              "      <td>0</td>\n",
              "      <td>431</td>\n",
              "      <td>4</td>\n",
              "      <td>2192525</td>\n",
              "      <td>2015</td>\n",
              "      <td>5</td>\n",
              "      <td>0</td>\n",
              "      <td>0</td>\n",
              "      <td>0</td>\n",
              "      <td>...</td>\n",
              "      <td>0</td>\n",
              "      <td>0</td>\n",
              "      <td>0</td>\n",
              "      <td>0</td>\n",
              "      <td>0</td>\n",
              "      <td>0</td>\n",
              "      <td>0</td>\n",
              "      <td>1</td>\n",
              "      <td>0</td>\n",
              "      <td>0</td>\n",
              "    </tr>\n",
              "    <tr>\n",
              "      <th>599</th>\n",
              "      <td>120</td>\n",
              "      <td>0</td>\n",
              "      <td>363</td>\n",
              "      <td>5</td>\n",
              "      <td>7166532</td>\n",
              "      <td>2013</td>\n",
              "      <td>1</td>\n",
              "      <td>0</td>\n",
              "      <td>0</td>\n",
              "      <td>0</td>\n",
              "      <td>...</td>\n",
              "      <td>0</td>\n",
              "      <td>0</td>\n",
              "      <td>0</td>\n",
              "      <td>0</td>\n",
              "      <td>1</td>\n",
              "      <td>0</td>\n",
              "      <td>0</td>\n",
              "      <td>1</td>\n",
              "      <td>0</td>\n",
              "      <td>0</td>\n",
              "    </tr>\n",
              "  </tbody>\n",
              "</table>\n",
              "<p>600 rows × 29 columns</p>\n",
              "</div>\n",
              "      <button class=\"colab-df-convert\" onclick=\"convertToInteractive('df-967a364b-35c5-4ca4-b060-648f0f8e1a70')\"\n",
              "              title=\"Convert this dataframe to an interactive table.\"\n",
              "              style=\"display:none;\">\n",
              "        \n",
              "  <svg xmlns=\"http://www.w3.org/2000/svg\" height=\"24px\"viewBox=\"0 0 24 24\"\n",
              "       width=\"24px\">\n",
              "    <path d=\"M0 0h24v24H0V0z\" fill=\"none\"/>\n",
              "    <path d=\"M18.56 5.44l.94 2.06.94-2.06 2.06-.94-2.06-.94-.94-2.06-.94 2.06-2.06.94zm-11 1L8.5 8.5l.94-2.06 2.06-.94-2.06-.94L8.5 2.5l-.94 2.06-2.06.94zm10 10l.94 2.06.94-2.06 2.06-.94-2.06-.94-.94-2.06-.94 2.06-2.06.94z\"/><path d=\"M17.41 7.96l-1.37-1.37c-.4-.4-.92-.59-1.43-.59-.52 0-1.04.2-1.43.59L10.3 9.45l-7.72 7.72c-.78.78-.78 2.05 0 2.83L4 21.41c.39.39.9.59 1.41.59.51 0 1.02-.2 1.41-.59l7.78-7.78 2.81-2.81c.8-.78.8-2.07 0-2.86zM5.41 20L4 18.59l7.72-7.72 1.47 1.35L5.41 20z\"/>\n",
              "  </svg>\n",
              "      </button>\n",
              "      \n",
              "  <style>\n",
              "    .colab-df-container {\n",
              "      display:flex;\n",
              "      flex-wrap:wrap;\n",
              "      gap: 12px;\n",
              "    }\n",
              "\n",
              "    .colab-df-convert {\n",
              "      background-color: #E8F0FE;\n",
              "      border: none;\n",
              "      border-radius: 50%;\n",
              "      cursor: pointer;\n",
              "      display: none;\n",
              "      fill: #1967D2;\n",
              "      height: 32px;\n",
              "      padding: 0 0 0 0;\n",
              "      width: 32px;\n",
              "    }\n",
              "\n",
              "    .colab-df-convert:hover {\n",
              "      background-color: #E2EBFA;\n",
              "      box-shadow: 0px 1px 2px rgba(60, 64, 67, 0.3), 0px 1px 3px 1px rgba(60, 64, 67, 0.15);\n",
              "      fill: #174EA6;\n",
              "    }\n",
              "\n",
              "    [theme=dark] .colab-df-convert {\n",
              "      background-color: #3B4455;\n",
              "      fill: #D2E3FC;\n",
              "    }\n",
              "\n",
              "    [theme=dark] .colab-df-convert:hover {\n",
              "      background-color: #434B5C;\n",
              "      box-shadow: 0px 1px 3px 1px rgba(0, 0, 0, 0.15);\n",
              "      filter: drop-shadow(0px 1px 2px rgba(0, 0, 0, 0.3));\n",
              "      fill: #FFFFFF;\n",
              "    }\n",
              "  </style>\n",
              "\n",
              "      <script>\n",
              "        const buttonEl =\n",
              "          document.querySelector('#df-967a364b-35c5-4ca4-b060-648f0f8e1a70 button.colab-df-convert');\n",
              "        buttonEl.style.display =\n",
              "          google.colab.kernel.accessAllowed ? 'block' : 'none';\n",
              "\n",
              "        async function convertToInteractive(key) {\n",
              "          const element = document.querySelector('#df-967a364b-35c5-4ca4-b060-648f0f8e1a70');\n",
              "          const dataTable =\n",
              "            await google.colab.kernel.invokeFunction('convertToInteractive',\n",
              "                                                     [key], {});\n",
              "          if (!dataTable) return;\n",
              "\n",
              "          const docLinkHtml = 'Like what you see? Visit the ' +\n",
              "            '<a target=\"_blank\" href=https://colab.research.google.com/notebooks/data_table.ipynb>data table notebook</a>'\n",
              "            + ' to learn more about interactive tables.';\n",
              "          element.innerHTML = '';\n",
              "          dataTable['output_type'] = 'display_data';\n",
              "          await google.colab.output.renderOutput(dataTable, element);\n",
              "          const docLink = document.createElement('div');\n",
              "          docLink.innerHTML = docLinkHtml;\n",
              "          element.appendChild(docLink);\n",
              "        }\n",
              "      </script>\n",
              "    </div>\n",
              "  </div>\n",
              "  "
            ]
          },
          "metadata": {},
          "execution_count": 40
        }
      ]
    },
    {
      "cell_type": "markdown",
      "source": [
        "# 모델 생성 및 예측(과제부분)"
      ],
      "metadata": {
        "id": "QKlW-N1wtfcX"
      }
    },
    {
      "cell_type": "code",
      "source": [
        "train.columns"
      ],
      "metadata": {
        "colab": {
          "base_uri": "https://localhost:8080/"
        },
        "id": "o8u6gId5R8Gs",
        "outputId": "19b7d10d-2c53-4428-9f30-8fe50d9149ae"
      },
      "execution_count": 49,
      "outputs": [
        {
          "output_type": "execute_result",
          "data": {
            "text/plain": [
              "Index(['time', 'dir_prev_num', 'num_staff', 'num_actor', 'box_off_num', '년',\n",
              "       '월', 'distributor_(주)NEW', 'distributor_(주)마운틴픽쳐스',\n",
              "       'distributor_(주)쇼박스', 'distributor_CJ 엔터테인먼트', 'distributor_기타',\n",
              "       'distributor_롯데엔터테인먼트', 'genre_SF', 'genre_공포', 'genre_느와르',\n",
              "       'genre_다큐멘터리', 'genre_드라마', 'genre_멜로/로맨스', 'genre_뮤지컬', 'genre_미스터리',\n",
              "       'genre_서스펜스', 'genre_애니메이션', 'genre_액션', 'genre_코미디',\n",
              "       'screening_rat_12세 관람가', 'screening_rat_15세 관람가',\n",
              "       'screening_rat_전체 관람가', 'screening_rat_청소년 관람불가'],\n",
              "      dtype='object')"
            ]
          },
          "metadata": {},
          "execution_count": 49
        }
      ]
    },
    {
      "cell_type": "code",
      "source": [
        "from sklearn.ensemble import RandomForestRegressor"
      ],
      "metadata": {
        "id": "fXNl7OquP_ot"
      },
      "execution_count": 41,
      "outputs": []
    },
    {
      "cell_type": "code",
      "source": [
        "from sklearn.linear_model import LinearRegression\n",
        "from sklearn.linear_model import Ridge\n",
        "from sklearn.linear_model import Lasso\n",
        "from sklearn.linear_model import ElasticNet\n",
        "from sklearn.preprocessing import StandardScaler, MinMaxScaler\n",
        "from sklearn.pipeline import make_pipeline\n",
        "from sklearn.preprocessing import PolynomialFeatures"
      ],
      "metadata": {
        "id": "M93RD7RHTKvB"
      },
      "execution_count": 50,
      "outputs": []
    },
    {
      "cell_type": "code",
      "source": [
        "from sklearn.ensemble import VotingRegressor, VotingClassifier"
      ],
      "metadata": {
        "id": "8GA3L6MNVW6B"
      },
      "execution_count": 81,
      "outputs": []
    },
    {
      "cell_type": "code",
      "source": [
        "from sklearn.ensemble import RandomForestRegressor"
      ],
      "metadata": {
        "id": "giA15_yrW4kW"
      },
      "execution_count": 91,
      "outputs": []
    },
    {
      "cell_type": "code",
      "source": [
        "from sklearn.ensemble import GradientBoostingRegressor"
      ],
      "metadata": {
        "id": "6vs1uuIxX8LA"
      },
      "execution_count": 104,
      "outputs": []
    },
    {
      "cell_type": "code",
      "source": [
        "from xgboost import XGBRegressor"
      ],
      "metadata": {
        "id": "TN2muEi6Y5Bb"
      },
      "execution_count": 119,
      "outputs": []
    },
    {
      "cell_type": "code",
      "source": [
        "from lightgbm import LGBMRegressor"
      ],
      "metadata": {
        "id": "QZn8cmD_Z-yk"
      },
      "execution_count": 137,
      "outputs": []
    },
    {
      "cell_type": "code",
      "source": [
        "from sklearn.ensemble import StackingRegressor"
      ],
      "metadata": {
        "id": "WLJc6SC2a3ux"
      },
      "execution_count": 151,
      "outputs": []
    },
    {
      "cell_type": "code",
      "source": [
        "train_x = train.drop(['box_off_num'],axis= 1)\n",
        "train_y = train['box_off_num']"
      ],
      "metadata": {
        "id": "NiON_n6Xth_4"
      },
      "execution_count": 42,
      "outputs": []
    },
    {
      "cell_type": "code",
      "source": [
        "linear_reg = LinearRegression()\n",
        "ridge = Ridge(alpha=0.1)\n",
        "lasso = Lasso(alpha=0.01)\n",
        "elasticnet = ElasticNet(alpha=0.01, l1_ratio=0.8)\n",
        "\n",
        "elasticnet_pipeline = make_pipeline(\n",
        "    StandardScaler(),\n",
        "    ElasticNet(alpha=0.01, l1_ratio=0.8)\n",
        ")\n",
        "\n",
        "poly_pipeline = make_pipeline(\n",
        "    PolynomialFeatures(degree=2, include_bias=False),\n",
        "    ElasticNet(alpha=0.1, l1_ratio=0.2)\n",
        ")"
      ],
      "metadata": {
        "id": "mSS_Imr_tiB8"
      },
      "execution_count": 152,
      "outputs": []
    },
    {
      "cell_type": "code",
      "source": [
        "# single_models = [\n",
        "#     ('linear_reg', linear_reg), \n",
        "#     ('ridge', ridge), \n",
        "#     ('lasso', lasso), \n",
        "#     ('elasticnet_pipeline', elasticnet_pipeline), \n",
        "#     ('poly_pipeline', poly_pipeline)\n",
        "# ]"
      ],
      "metadata": {
        "id": "UkSJoi60Vdfm"
      },
      "execution_count": 84,
      "outputs": []
    },
    {
      "cell_type": "code",
      "source": [
        "# model = VotingRegressor(single_models, n_jobs=-1)"
      ],
      "metadata": {
        "id": "5NSdliLCVn2b"
      },
      "execution_count": 85,
      "outputs": []
    },
    {
      "cell_type": "code",
      "source": [
        "# rfr = RandomForestRegressor()\n",
        "model = RandomForestRegressor(random_state=42, n_estimators=1000, max_depth=7, max_features=0.9)\n",
        "# gbr = GradientBoostingRegressor()\n",
        "# model = GradientBoostingRegressor(random_state=30, learning_rate=0.01, n_estimators=1000, subsample=0.8)\n",
        "# xgb = XGBRegressor()\n",
        "# model = XGBRegressor(random_state=42, learning_rate=0.01, n_estimators=1000, subsample=0.8, max_features=0.8, max_depth=7)\n",
        "# lgbm = LGBMRegressor()\n",
        "# model = LGBMRegressor(random_state=42, learning_rate=0.01, n_estimators=1500, colsample_bytree=0.9, num_leaves=15, subsample=0.8)"
      ],
      "metadata": {
        "id": "T3FPNxAbW9KG"
      },
      "execution_count": 192,
      "outputs": []
    },
    {
      "cell_type": "code",
      "source": [
        "# stack_models = [\n",
        "#     ('elasticnet', poly_pipeline), \n",
        "#     ('randomforest', rfr), \n",
        "#     ('gbr', gbr),\n",
        "#     ('lgbm', lgbm),\n",
        "# ]"
      ],
      "metadata": {
        "id": "PdVKH9Mua8XO"
      },
      "execution_count": 168,
      "outputs": []
    },
    {
      "cell_type": "code",
      "source": [
        "# model = StackingRegressor(stack_models, final_estimator=xgb, n_jobs=-1)"
      ],
      "metadata": {
        "id": "dtYJCHc8bQjR"
      },
      "execution_count": 161,
      "outputs": []
    },
    {
      "cell_type": "code",
      "source": [
        "model.fit(train_x,train_y)\n",
        "pred = model.predict(test)"
      ],
      "metadata": {
        "id": "IPCxBt-Wtpzw"
      },
      "execution_count": 193,
      "outputs": []
    },
    {
      "cell_type": "markdown",
      "source": [
        "# 제출"
      ],
      "metadata": {
        "id": "wUS7MUcctquK"
      }
    },
    {
      "cell_type": "code",
      "source": [
        "submission = pd.read_csv('/content/drive/MyDrive/와이빅타/교육세션/submit/ybigta-edu/0801/submission.csv')\n",
        "submission"
      ],
      "metadata": {
        "colab": {
          "base_uri": "https://localhost:8080/",
          "height": 424
        },
        "id": "YRoaRvpotuVy",
        "outputId": "07bb6bea-29a6-4694-ee5d-04c4cf10336d"
      },
      "execution_count": 194,
      "outputs": [
        {
          "output_type": "execute_result",
          "data": {
            "text/plain": [
              "               title  box_off_num\n",
              "0             용서는 없다            0\n",
              "1        아빠가 여자를 좋아해            0\n",
              "2                하모니            0\n",
              "3                의형제            0\n",
              "4              평행 이론            0\n",
              "..               ...          ...\n",
              "238        해에게서 소년에게            0\n",
              "239           울보 권투부            0\n",
              "240             어떤살인            0\n",
              "241        말하지 못한 비밀            0\n",
              "242  조선안방 스캔들-칠거지악 2            0\n",
              "\n",
              "[243 rows x 2 columns]"
            ],
            "text/html": [
              "\n",
              "  <div id=\"df-8bc97452-7b81-4ead-b384-e11d7b3ef774\">\n",
              "    <div class=\"colab-df-container\">\n",
              "      <div>\n",
              "<style scoped>\n",
              "    .dataframe tbody tr th:only-of-type {\n",
              "        vertical-align: middle;\n",
              "    }\n",
              "\n",
              "    .dataframe tbody tr th {\n",
              "        vertical-align: top;\n",
              "    }\n",
              "\n",
              "    .dataframe thead th {\n",
              "        text-align: right;\n",
              "    }\n",
              "</style>\n",
              "<table border=\"1\" class=\"dataframe\">\n",
              "  <thead>\n",
              "    <tr style=\"text-align: right;\">\n",
              "      <th></th>\n",
              "      <th>title</th>\n",
              "      <th>box_off_num</th>\n",
              "    </tr>\n",
              "  </thead>\n",
              "  <tbody>\n",
              "    <tr>\n",
              "      <th>0</th>\n",
              "      <td>용서는 없다</td>\n",
              "      <td>0</td>\n",
              "    </tr>\n",
              "    <tr>\n",
              "      <th>1</th>\n",
              "      <td>아빠가 여자를 좋아해</td>\n",
              "      <td>0</td>\n",
              "    </tr>\n",
              "    <tr>\n",
              "      <th>2</th>\n",
              "      <td>하모니</td>\n",
              "      <td>0</td>\n",
              "    </tr>\n",
              "    <tr>\n",
              "      <th>3</th>\n",
              "      <td>의형제</td>\n",
              "      <td>0</td>\n",
              "    </tr>\n",
              "    <tr>\n",
              "      <th>4</th>\n",
              "      <td>평행 이론</td>\n",
              "      <td>0</td>\n",
              "    </tr>\n",
              "    <tr>\n",
              "      <th>...</th>\n",
              "      <td>...</td>\n",
              "      <td>...</td>\n",
              "    </tr>\n",
              "    <tr>\n",
              "      <th>238</th>\n",
              "      <td>해에게서 소년에게</td>\n",
              "      <td>0</td>\n",
              "    </tr>\n",
              "    <tr>\n",
              "      <th>239</th>\n",
              "      <td>울보 권투부</td>\n",
              "      <td>0</td>\n",
              "    </tr>\n",
              "    <tr>\n",
              "      <th>240</th>\n",
              "      <td>어떤살인</td>\n",
              "      <td>0</td>\n",
              "    </tr>\n",
              "    <tr>\n",
              "      <th>241</th>\n",
              "      <td>말하지 못한 비밀</td>\n",
              "      <td>0</td>\n",
              "    </tr>\n",
              "    <tr>\n",
              "      <th>242</th>\n",
              "      <td>조선안방 스캔들-칠거지악 2</td>\n",
              "      <td>0</td>\n",
              "    </tr>\n",
              "  </tbody>\n",
              "</table>\n",
              "<p>243 rows × 2 columns</p>\n",
              "</div>\n",
              "      <button class=\"colab-df-convert\" onclick=\"convertToInteractive('df-8bc97452-7b81-4ead-b384-e11d7b3ef774')\"\n",
              "              title=\"Convert this dataframe to an interactive table.\"\n",
              "              style=\"display:none;\">\n",
              "        \n",
              "  <svg xmlns=\"http://www.w3.org/2000/svg\" height=\"24px\"viewBox=\"0 0 24 24\"\n",
              "       width=\"24px\">\n",
              "    <path d=\"M0 0h24v24H0V0z\" fill=\"none\"/>\n",
              "    <path d=\"M18.56 5.44l.94 2.06.94-2.06 2.06-.94-2.06-.94-.94-2.06-.94 2.06-2.06.94zm-11 1L8.5 8.5l.94-2.06 2.06-.94-2.06-.94L8.5 2.5l-.94 2.06-2.06.94zm10 10l.94 2.06.94-2.06 2.06-.94-2.06-.94-.94-2.06-.94 2.06-2.06.94z\"/><path d=\"M17.41 7.96l-1.37-1.37c-.4-.4-.92-.59-1.43-.59-.52 0-1.04.2-1.43.59L10.3 9.45l-7.72 7.72c-.78.78-.78 2.05 0 2.83L4 21.41c.39.39.9.59 1.41.59.51 0 1.02-.2 1.41-.59l7.78-7.78 2.81-2.81c.8-.78.8-2.07 0-2.86zM5.41 20L4 18.59l7.72-7.72 1.47 1.35L5.41 20z\"/>\n",
              "  </svg>\n",
              "      </button>\n",
              "      \n",
              "  <style>\n",
              "    .colab-df-container {\n",
              "      display:flex;\n",
              "      flex-wrap:wrap;\n",
              "      gap: 12px;\n",
              "    }\n",
              "\n",
              "    .colab-df-convert {\n",
              "      background-color: #E8F0FE;\n",
              "      border: none;\n",
              "      border-radius: 50%;\n",
              "      cursor: pointer;\n",
              "      display: none;\n",
              "      fill: #1967D2;\n",
              "      height: 32px;\n",
              "      padding: 0 0 0 0;\n",
              "      width: 32px;\n",
              "    }\n",
              "\n",
              "    .colab-df-convert:hover {\n",
              "      background-color: #E2EBFA;\n",
              "      box-shadow: 0px 1px 2px rgba(60, 64, 67, 0.3), 0px 1px 3px 1px rgba(60, 64, 67, 0.15);\n",
              "      fill: #174EA6;\n",
              "    }\n",
              "\n",
              "    [theme=dark] .colab-df-convert {\n",
              "      background-color: #3B4455;\n",
              "      fill: #D2E3FC;\n",
              "    }\n",
              "\n",
              "    [theme=dark] .colab-df-convert:hover {\n",
              "      background-color: #434B5C;\n",
              "      box-shadow: 0px 1px 3px 1px rgba(0, 0, 0, 0.15);\n",
              "      filter: drop-shadow(0px 1px 2px rgba(0, 0, 0, 0.3));\n",
              "      fill: #FFFFFF;\n",
              "    }\n",
              "  </style>\n",
              "\n",
              "      <script>\n",
              "        const buttonEl =\n",
              "          document.querySelector('#df-8bc97452-7b81-4ead-b384-e11d7b3ef774 button.colab-df-convert');\n",
              "        buttonEl.style.display =\n",
              "          google.colab.kernel.accessAllowed ? 'block' : 'none';\n",
              "\n",
              "        async function convertToInteractive(key) {\n",
              "          const element = document.querySelector('#df-8bc97452-7b81-4ead-b384-e11d7b3ef774');\n",
              "          const dataTable =\n",
              "            await google.colab.kernel.invokeFunction('convertToInteractive',\n",
              "                                                     [key], {});\n",
              "          if (!dataTable) return;\n",
              "\n",
              "          const docLinkHtml = 'Like what you see? Visit the ' +\n",
              "            '<a target=\"_blank\" href=https://colab.research.google.com/notebooks/data_table.ipynb>data table notebook</a>'\n",
              "            + ' to learn more about interactive tables.';\n",
              "          element.innerHTML = '';\n",
              "          dataTable['output_type'] = 'display_data';\n",
              "          await google.colab.output.renderOutput(dataTable, element);\n",
              "          const docLink = document.createElement('div');\n",
              "          docLink.innerHTML = docLinkHtml;\n",
              "          element.appendChild(docLink);\n",
              "        }\n",
              "      </script>\n",
              "    </div>\n",
              "  </div>\n",
              "  "
            ]
          },
          "metadata": {},
          "execution_count": 194
        }
      ]
    },
    {
      "cell_type": "code",
      "source": [
        "submission['box_off_num'] = pred"
      ],
      "metadata": {
        "id": "ai1KVPRZtw1c"
      },
      "execution_count": 195,
      "outputs": []
    },
    {
      "cell_type": "code",
      "source": [
        "submission"
      ],
      "metadata": {
        "colab": {
          "base_uri": "https://localhost:8080/",
          "height": 424
        },
        "id": "paR-Racntxv1",
        "outputId": "f51f8a06-fa97-43c0-889b-120634bfa7d8"
      },
      "execution_count": 196,
      "outputs": [
        {
          "output_type": "execute_result",
          "data": {
            "text/plain": [
              "               title   box_off_num\n",
              "0             용서는 없다  2.559877e+06\n",
              "1        아빠가 여자를 좋아해  1.575772e+06\n",
              "2                하모니  1.421758e+06\n",
              "3                의형제  1.724972e+06\n",
              "4              평행 이론  1.049557e+06\n",
              "..               ...           ...\n",
              "238        해에게서 소년에게  1.219221e+05\n",
              "239           울보 권투부  1.424672e+04\n",
              "240             어떤살인  2.937655e+05\n",
              "241        말하지 못한 비밀  2.424075e+04\n",
              "242  조선안방 스캔들-칠거지악 2  1.420720e+04\n",
              "\n",
              "[243 rows x 2 columns]"
            ],
            "text/html": [
              "\n",
              "  <div id=\"df-19823457-9a6e-4084-bc42-54906cd07566\">\n",
              "    <div class=\"colab-df-container\">\n",
              "      <div>\n",
              "<style scoped>\n",
              "    .dataframe tbody tr th:only-of-type {\n",
              "        vertical-align: middle;\n",
              "    }\n",
              "\n",
              "    .dataframe tbody tr th {\n",
              "        vertical-align: top;\n",
              "    }\n",
              "\n",
              "    .dataframe thead th {\n",
              "        text-align: right;\n",
              "    }\n",
              "</style>\n",
              "<table border=\"1\" class=\"dataframe\">\n",
              "  <thead>\n",
              "    <tr style=\"text-align: right;\">\n",
              "      <th></th>\n",
              "      <th>title</th>\n",
              "      <th>box_off_num</th>\n",
              "    </tr>\n",
              "  </thead>\n",
              "  <tbody>\n",
              "    <tr>\n",
              "      <th>0</th>\n",
              "      <td>용서는 없다</td>\n",
              "      <td>2.559877e+06</td>\n",
              "    </tr>\n",
              "    <tr>\n",
              "      <th>1</th>\n",
              "      <td>아빠가 여자를 좋아해</td>\n",
              "      <td>1.575772e+06</td>\n",
              "    </tr>\n",
              "    <tr>\n",
              "      <th>2</th>\n",
              "      <td>하모니</td>\n",
              "      <td>1.421758e+06</td>\n",
              "    </tr>\n",
              "    <tr>\n",
              "      <th>3</th>\n",
              "      <td>의형제</td>\n",
              "      <td>1.724972e+06</td>\n",
              "    </tr>\n",
              "    <tr>\n",
              "      <th>4</th>\n",
              "      <td>평행 이론</td>\n",
              "      <td>1.049557e+06</td>\n",
              "    </tr>\n",
              "    <tr>\n",
              "      <th>...</th>\n",
              "      <td>...</td>\n",
              "      <td>...</td>\n",
              "    </tr>\n",
              "    <tr>\n",
              "      <th>238</th>\n",
              "      <td>해에게서 소년에게</td>\n",
              "      <td>1.219221e+05</td>\n",
              "    </tr>\n",
              "    <tr>\n",
              "      <th>239</th>\n",
              "      <td>울보 권투부</td>\n",
              "      <td>1.424672e+04</td>\n",
              "    </tr>\n",
              "    <tr>\n",
              "      <th>240</th>\n",
              "      <td>어떤살인</td>\n",
              "      <td>2.937655e+05</td>\n",
              "    </tr>\n",
              "    <tr>\n",
              "      <th>241</th>\n",
              "      <td>말하지 못한 비밀</td>\n",
              "      <td>2.424075e+04</td>\n",
              "    </tr>\n",
              "    <tr>\n",
              "      <th>242</th>\n",
              "      <td>조선안방 스캔들-칠거지악 2</td>\n",
              "      <td>1.420720e+04</td>\n",
              "    </tr>\n",
              "  </tbody>\n",
              "</table>\n",
              "<p>243 rows × 2 columns</p>\n",
              "</div>\n",
              "      <button class=\"colab-df-convert\" onclick=\"convertToInteractive('df-19823457-9a6e-4084-bc42-54906cd07566')\"\n",
              "              title=\"Convert this dataframe to an interactive table.\"\n",
              "              style=\"display:none;\">\n",
              "        \n",
              "  <svg xmlns=\"http://www.w3.org/2000/svg\" height=\"24px\"viewBox=\"0 0 24 24\"\n",
              "       width=\"24px\">\n",
              "    <path d=\"M0 0h24v24H0V0z\" fill=\"none\"/>\n",
              "    <path d=\"M18.56 5.44l.94 2.06.94-2.06 2.06-.94-2.06-.94-.94-2.06-.94 2.06-2.06.94zm-11 1L8.5 8.5l.94-2.06 2.06-.94-2.06-.94L8.5 2.5l-.94 2.06-2.06.94zm10 10l.94 2.06.94-2.06 2.06-.94-2.06-.94-.94-2.06-.94 2.06-2.06.94z\"/><path d=\"M17.41 7.96l-1.37-1.37c-.4-.4-.92-.59-1.43-.59-.52 0-1.04.2-1.43.59L10.3 9.45l-7.72 7.72c-.78.78-.78 2.05 0 2.83L4 21.41c.39.39.9.59 1.41.59.51 0 1.02-.2 1.41-.59l7.78-7.78 2.81-2.81c.8-.78.8-2.07 0-2.86zM5.41 20L4 18.59l7.72-7.72 1.47 1.35L5.41 20z\"/>\n",
              "  </svg>\n",
              "      </button>\n",
              "      \n",
              "  <style>\n",
              "    .colab-df-container {\n",
              "      display:flex;\n",
              "      flex-wrap:wrap;\n",
              "      gap: 12px;\n",
              "    }\n",
              "\n",
              "    .colab-df-convert {\n",
              "      background-color: #E8F0FE;\n",
              "      border: none;\n",
              "      border-radius: 50%;\n",
              "      cursor: pointer;\n",
              "      display: none;\n",
              "      fill: #1967D2;\n",
              "      height: 32px;\n",
              "      padding: 0 0 0 0;\n",
              "      width: 32px;\n",
              "    }\n",
              "\n",
              "    .colab-df-convert:hover {\n",
              "      background-color: #E2EBFA;\n",
              "      box-shadow: 0px 1px 2px rgba(60, 64, 67, 0.3), 0px 1px 3px 1px rgba(60, 64, 67, 0.15);\n",
              "      fill: #174EA6;\n",
              "    }\n",
              "\n",
              "    [theme=dark] .colab-df-convert {\n",
              "      background-color: #3B4455;\n",
              "      fill: #D2E3FC;\n",
              "    }\n",
              "\n",
              "    [theme=dark] .colab-df-convert:hover {\n",
              "      background-color: #434B5C;\n",
              "      box-shadow: 0px 1px 3px 1px rgba(0, 0, 0, 0.15);\n",
              "      filter: drop-shadow(0px 1px 2px rgba(0, 0, 0, 0.3));\n",
              "      fill: #FFFFFF;\n",
              "    }\n",
              "  </style>\n",
              "\n",
              "      <script>\n",
              "        const buttonEl =\n",
              "          document.querySelector('#df-19823457-9a6e-4084-bc42-54906cd07566 button.colab-df-convert');\n",
              "        buttonEl.style.display =\n",
              "          google.colab.kernel.accessAllowed ? 'block' : 'none';\n",
              "\n",
              "        async function convertToInteractive(key) {\n",
              "          const element = document.querySelector('#df-19823457-9a6e-4084-bc42-54906cd07566');\n",
              "          const dataTable =\n",
              "            await google.colab.kernel.invokeFunction('convertToInteractive',\n",
              "                                                     [key], {});\n",
              "          if (!dataTable) return;\n",
              "\n",
              "          const docLinkHtml = 'Like what you see? Visit the ' +\n",
              "            '<a target=\"_blank\" href=https://colab.research.google.com/notebooks/data_table.ipynb>data table notebook</a>'\n",
              "            + ' to learn more about interactive tables.';\n",
              "          element.innerHTML = '';\n",
              "          dataTable['output_type'] = 'display_data';\n",
              "          await google.colab.output.renderOutput(dataTable, element);\n",
              "          const docLink = document.createElement('div');\n",
              "          docLink.innerHTML = docLinkHtml;\n",
              "          element.appendChild(docLink);\n",
              "        }\n",
              "      </script>\n",
              "    </div>\n",
              "  </div>\n",
              "  "
            ]
          },
          "metadata": {},
          "execution_count": 196
        }
      ]
    },
    {
      "cell_type": "code",
      "source": [
        "submission.to_csv('/content/drive/MyDrive/와이빅타/교육세션/submit/ybigta-edu/0801/result/0446.csv',index = False)"
      ],
      "metadata": {
        "id": "weUAnuy9tyXE"
      },
      "execution_count": 191,
      "outputs": []
    },
    {
      "cell_type": "markdown",
      "source": [
        "# 제출 점수(과제부분)"
      ],
      "metadata": {
        "id": "qUSYjotTt-In"
      }
    },
    {
      "cell_type": "markdown",
      "source": [
        "![스크린샷 2022-08-01 오후 5.20.47.png](data:image/png;base64,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)"
      ],
      "metadata": {
        "id": "BxaY6al3f6Kv"
      }
    },
    {
      "cell_type": "markdown",
      "source": [
        ""
      ],
      "metadata": {
        "id": "OmkkZqz2RKfW"
      }
    }
  ]
}