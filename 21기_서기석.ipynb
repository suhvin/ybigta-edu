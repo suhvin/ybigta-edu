{
  "nbformat": 4,
  "nbformat_minor": 0,
  "metadata": {
    "colab": {
      "name": "21기_서기석.ipynb",
      "provenance": [],
      "authorship_tag": "ABX9TyOXrOfIWdzsDU1Of1A5kclG",
      "include_colab_link": true
    },
    "kernelspec": {
      "name": "python3",
      "display_name": "Python 3"
    },
    "language_info": {
      "name": "python"
    }
  },
  "cells": [
    {
      "cell_type": "markdown",
      "metadata": {
        "id": "view-in-github",
        "colab_type": "text"
      },
      "source": [
        "<a href=\"https://colab.research.google.com/github/suhvin/ybigta-edu/blob/master/21%EA%B8%B0_%EC%84%9C%EA%B8%B0%EC%84%9D.ipynb\" target=\"_parent\"><img src=\"https://colab.research.google.com/assets/colab-badge.svg\" alt=\"Open In Colab\"/></a>"
      ]
    },
    {
      "cell_type": "code",
      "execution_count": 1,
      "metadata": {
        "colab": {
          "base_uri": "https://localhost:8080/"
        },
        "id": "U41mpr48S5LB",
        "outputId": "ddfe95db-dc8e-495b-d840-9868f72a7229"
      },
      "outputs": [
        {
          "output_type": "stream",
          "name": "stdout",
          "text": [
            "Looking in indexes: https://pypi.org/simple, https://us-python.pkg.dev/colab-wheels/public/simple/\n",
            "Requirement already satisfied: requests in /usr/local/lib/python3.7/dist-packages (2.23.0)\n",
            "Requirement already satisfied: certifi>=2017.4.17 in /usr/local/lib/python3.7/dist-packages (from requests) (2022.6.15)\n",
            "Requirement already satisfied: idna<3,>=2.5 in /usr/local/lib/python3.7/dist-packages (from requests) (2.10)\n",
            "Requirement already satisfied: chardet<4,>=3.0.2 in /usr/local/lib/python3.7/dist-packages (from requests) (3.0.4)\n",
            "Requirement already satisfied: urllib3!=1.25.0,!=1.25.1,<1.26,>=1.21.1 in /usr/local/lib/python3.7/dist-packages (from requests) (1.24.3)\n",
            "Looking in indexes: https://pypi.org/simple, https://us-python.pkg.dev/colab-wheels/public/simple/\n",
            "Requirement already satisfied: bs4 in /usr/local/lib/python3.7/dist-packages (0.0.1)\n",
            "Requirement already satisfied: beautifulsoup4 in /usr/local/lib/python3.7/dist-packages (from bs4) (4.6.3)\n",
            "Looking in indexes: https://pypi.org/simple, https://us-python.pkg.dev/colab-wheels/public/simple/\n",
            "Collecting selenium\n",
            "  Downloading selenium-4.4.0-py3-none-any.whl (985 kB)\n",
            "\u001b[K     |████████████████████████████████| 985 kB 8.7 MB/s \n",
            "\u001b[?25hCollecting urllib3[secure,socks]~=1.26\n",
            "  Downloading urllib3-1.26.11-py2.py3-none-any.whl (139 kB)\n",
            "\u001b[K     |████████████████████████████████| 139 kB 45.1 MB/s \n",
            "\u001b[?25hCollecting trio~=0.17\n",
            "  Downloading trio-0.21.0-py3-none-any.whl (358 kB)\n",
            "\u001b[K     |████████████████████████████████| 358 kB 54.2 MB/s \n",
            "\u001b[?25hCollecting trio-websocket~=0.9\n",
            "  Downloading trio_websocket-0.9.2-py3-none-any.whl (16 kB)\n",
            "Collecting sniffio\n",
            "  Downloading sniffio-1.2.0-py3-none-any.whl (10 kB)\n",
            "Requirement already satisfied: attrs>=19.2.0 in /usr/local/lib/python3.7/dist-packages (from trio~=0.17->selenium) (22.1.0)\n",
            "Requirement already satisfied: sortedcontainers in /usr/local/lib/python3.7/dist-packages (from trio~=0.17->selenium) (2.4.0)\n",
            "Collecting outcome\n",
            "  Downloading outcome-1.2.0-py2.py3-none-any.whl (9.7 kB)\n",
            "Collecting async-generator>=1.9\n",
            "  Downloading async_generator-1.10-py3-none-any.whl (18 kB)\n",
            "Requirement already satisfied: idna in /usr/local/lib/python3.7/dist-packages (from trio~=0.17->selenium) (2.10)\n",
            "Collecting wsproto>=0.14\n",
            "  Downloading wsproto-1.1.0-py3-none-any.whl (24 kB)\n",
            "Collecting pyOpenSSL>=0.14\n",
            "  Downloading pyOpenSSL-22.0.0-py2.py3-none-any.whl (55 kB)\n",
            "\u001b[K     |████████████████████████████████| 55 kB 4.2 MB/s \n",
            "\u001b[?25hCollecting cryptography>=1.3.4\n",
            "  Downloading cryptography-37.0.4-cp36-abi3-manylinux_2_24_x86_64.whl (4.1 MB)\n",
            "\u001b[K     |████████████████████████████████| 4.1 MB 51.0 MB/s \n",
            "\u001b[?25hRequirement already satisfied: certifi in /usr/local/lib/python3.7/dist-packages (from urllib3[secure,socks]~=1.26->selenium) (2022.6.15)\n",
            "Requirement already satisfied: PySocks!=1.5.7,<2.0,>=1.5.6 in /usr/local/lib/python3.7/dist-packages (from urllib3[secure,socks]~=1.26->selenium) (1.7.1)\n",
            "Requirement already satisfied: cffi>=1.12 in /usr/local/lib/python3.7/dist-packages (from cryptography>=1.3.4->urllib3[secure,socks]~=1.26->selenium) (1.15.1)\n",
            "Requirement already satisfied: pycparser in /usr/local/lib/python3.7/dist-packages (from cffi>=1.12->cryptography>=1.3.4->urllib3[secure,socks]~=1.26->selenium) (2.21)\n",
            "Collecting h11<1,>=0.9.0\n",
            "  Downloading h11-0.13.0-py3-none-any.whl (58 kB)\n",
            "\u001b[K     |████████████████████████████████| 58 kB 6.4 MB/s \n",
            "\u001b[?25hRequirement already satisfied: typing-extensions in /usr/local/lib/python3.7/dist-packages (from h11<1,>=0.9.0->wsproto>=0.14->trio-websocket~=0.9->selenium) (4.1.1)\n",
            "Installing collected packages: sniffio, outcome, h11, cryptography, async-generator, wsproto, urllib3, trio, pyOpenSSL, trio-websocket, selenium\n",
            "  Attempting uninstall: urllib3\n",
            "    Found existing installation: urllib3 1.24.3\n",
            "    Uninstalling urllib3-1.24.3:\n",
            "      Successfully uninstalled urllib3-1.24.3\n",
            "\u001b[31mERROR: pip's dependency resolver does not currently take into account all the packages that are installed. This behaviour is the source of the following dependency conflicts.\n",
            "requests 2.23.0 requires urllib3!=1.25.0,!=1.25.1,<1.26,>=1.21.1, but you have urllib3 1.26.11 which is incompatible.\u001b[0m\n",
            "Successfully installed async-generator-1.10 cryptography-37.0.4 h11-0.13.0 outcome-1.2.0 pyOpenSSL-22.0.0 selenium-4.4.0 sniffio-1.2.0 trio-0.21.0 trio-websocket-0.9.2 urllib3-1.26.11 wsproto-1.1.0\n"
          ]
        }
      ],
      "source": [
        "!pip3 install requests\n",
        "!pip3 install bs4\n",
        "!pip3 install selenium"
      ]
    },
    {
      "cell_type": "code",
      "source": [
        "import re\n",
        "import requests\n",
        "from bs4 import BeautifulSoup"
      ],
      "metadata": {
        "id": "Vybe5JuTT45u"
      },
      "execution_count": 3,
      "outputs": []
    },
    {
      "cell_type": "code",
      "source": [
        "cine21_url = 'https://movie.naver.com/movie/sdb/rank/rmovie.naver'\n",
        "res = requests.get(cine21_url)"
      ],
      "metadata": {
        "id": "WW-n9dHIUoBm"
      },
      "execution_count": 5,
      "outputs": []
    },
    {
      "cell_type": "code",
      "source": [
        "soup = BeautifulSoup(res.text, 'html.parser')\n",
        "\n",
        "titles = []\n",
        "\n",
        "for i in range(10) :\n",
        "  title = soup.select('#old_content > table > tbody > tr:nth-of-type('+str(i+2)+') > td.title > div > a')\n",
        "  titles.append(title[0]['href'])\n"
      ],
      "metadata": {
        "id": "F_rtvgCuZi6N"
      },
      "execution_count": 16,
      "outputs": []
    },
    {
      "cell_type": "code",
      "source": [
        "\n",
        "for i in range(10) :\n",
        "  url_in = \"https://movie.naver.com\"+titles[i]\n",
        "  res_in = requests.get(url_in)\n",
        "  soup_in = BeautifulSoup(res_in.text, 'html.parser')\n",
        "\n",
        "  content = []\n",
        "\n",
        "  text = soup_in.select('#content > div.article > div.mv_info_area > div.mv_info > h3 > a:nth-of-type(1)')[0].text\n",
        "  content.append(text)\n",
        "\n",
        "  point = soup_in.select('#actualPointPersentBasic > div > span > span')[0].text\n",
        "  content.append(point)\n",
        "\n",
        "  tag = soup_in.select('#content > div.article > div.mv_info_area > div.mv_info > dl > dd > p > span > a')[0].text\n",
        "  content.append(tag)\n",
        "\n",
        "  nation = soup_in.select('#content > div.article > div.mv_info_area > div.mv_info > dl > dd > p > span:nth-of-type(2) > a')[0].text\n",
        "  content.append(nation)\n",
        "\n",
        "  time = soup_in.select('#content > div.article > div.mv_info_area > div.mv_info > dl > dd > p > span:nth-of-type(3)')\n",
        "  if len(time)!=0 :\n",
        "    time = time[0].text\n",
        "    content.append(time)\n",
        "\n",
        "\n",
        "  date1 = soup_in.select('#content > div.article > div.mv_info_area > div.mv_info > dl > dd > p > span:nth-of-type(4) > a')\n",
        "  date2 = soup_in.select('#content > div.article > div.mv_info_area > div.mv_info > dl > dd > p > span:nth-of-type(4) > a')\n",
        "  if len(date1)!=0 :\n",
        "    date1 = date1[0].text\n",
        "    if len(date2)!=0 :\n",
        "      date2 = date2[1].text\n",
        "      content.append(str(date1)+str(date2)+\" 개봉\")\n",
        "    else :\n",
        "      content.append(str(date1)+\" 개봉\")\n",
        "\n",
        "\n",
        "  man = soup_in.select('#content > div.article > div.mv_info_area > div.mv_info > dl > dd:nth-of-type(2) > p > a')[0].text\n",
        "  content.append(man)\n",
        "\n",
        "\n",
        "  age = soup_in.select('#content > div.article > div.mv_info_area > div.mv_info > dl > dd:nth-of-type(4) > p > a')\n",
        "  if len(age)!=0 :\n",
        "    age = age[0].text\n",
        "    content.append(age)\n",
        "\n",
        "\n",
        "  people = soup_in.select('#content > div.article > div.mv_info_area > div.mv_info > dl > dd > div > p')\n",
        "  if len(people)!=0 :\n",
        "    people = people[0].text\n",
        "    content.append(people)\n",
        "\n",
        "\n",
        "  print(content)\n"
      ],
      "metadata": {
        "colab": {
          "base_uri": "https://localhost:8080/"
        },
        "id": "nebiI2cKaJxJ",
        "outputId": "d44ba459-bdf0-400a-992a-3122f6440305"
      },
      "execution_count": 90,
      "outputs": [
        {
          "output_type": "stream",
          "name": "stdout",
          "text": [
            "['비상선언', '관람객 평점 6.65점', '드라마', '한국', '140분 ', ' 2022.08.03 개봉', '한재림', '12세 관람가', '1,495,336명(08.08 기준)']\n",
            "['한산: 용의 출현', '관람객 평점 8.53점', '액션', '한국', '129분 ', ' 2022.07.27 개봉', '김한민', '12세 관람가', '4,760,152명(08.08 기준)']\n",
            "['외계+인 1부', '관람객 평점 6.89점', '액션', '한국', '142분 ', ' 2022.07.20 개봉', '최동훈', '12세 관람가', '1,501,779명(08.08 기준)']\n",
            "['탑건: 매버릭', '관람객 평점 9.59점', '액션', '미국', '130분 ', ' 2022.06.22 개봉', '조셉 코신스키', '12세 관람가', '7,477,721명(08.08 기준)']\n",
            "['헤어질 결심', '관람객 평점 8.93점', '멜로/로맨스', '한국', '138분 ', ' 2022.06.29 개봉', '박찬욱', '15세 관람가', '1,783,308명(08.08 기준)']\n",
            "['헌트', '관람객 평점 8.59점', '액션', '한국', '125분 ', ' 2022.08.10 개봉', '이정재', '15세 관람가']\n",
            "['카터', '관람객 평점 없음', '액션', '한국', '정병길']\n",
            "['프레이', '관람객 평점 없음', '액션', '미국', '99분 ', '댄 트라첸버그', '청소년 관람불가']\n",
            "['미니언즈2', '관람객 평점 7.85점', '애니메이션', '미국', '87분 ', ' 2022.07.20 개봉', '카일 발다', '전체 관람가', '1,995,389명(08.08 기준)']\n",
            "['토르: 러브 앤 썬더', '관람객 평점 6.73점', '액션', '미국', '119분 ', ' 2022.07.06 개봉', '타이카 와이티티', '12세 관람가', '2,714,787명(08.08 기준)']\n"
          ]
        }
      ]
    }
  ]
}